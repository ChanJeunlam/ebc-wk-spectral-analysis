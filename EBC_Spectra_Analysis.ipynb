{
 "cells": [
  {
   "cell_type": "markdown",
   "metadata": {
    "colab_type": "text",
    "id": "SHXoqpizhbJ_"
   },
   "source": [
    "# Analizando los espectros w-k en las CLO\n",
    "\n",
    "Link: [Colab Notebook](https://colab.research.google.com/drive/1WqKrMgk1bvl1IAm488CHmlJKieWT_teU)\n",
    "\n",
    "Luego de descargar los espectros del [ftp](ftp://ecco.jpl.nasa.gov/ECCO2/LLC4320/global/spectral_analysis/) y almacenarnos en mi Google Drive de CICESE, se leyó la información de todos ellos para mostrarla en un mapa interactivo.\n",
    "\n",
    "Objetivos alcanzados:\n",
    "- Seleccionar las cajas cercanas a la costa, en un rango de latitud de acuerdo a la corriente:\n",
    "> * California: 23 a 51 N\n",
    "> * Canarias: 16 a 36 N\n",
    "> * Peru-Chile: 5 a 45 S\n",
    "> * Benguela: 15 a 37 S\n",
    "- Mostrar las cajas seleccionadas en el mapa.\n",
    "- _Estimar_ la frecuencia de flotabilidad (N) y la profundidad para cada caja. Para esto cruzamos los datos de ETOPO1 y el radio de deformación de Rossby (tomado de Chelton et al., 1998)\n",
    "- Para cada variable (SSH, KE, DIV, RV) y corriente, se muestra la relación R=BM/IGW entre movimientos en balance (BM) y ondas internas (IGW) en función de la escala espacial. La separación se hace usando la relación de dispersión del décimo modo baroclínico de las ondas internas, suponiendo fondo plano y tapa rígida.\n",
    "\n",
    "\n",
    "\n",
    "\n",
    "\n"
   ]
  },
  {
   "cell_type": "code",
   "execution_count": 1,
   "metadata": {
    "ExecuteTime": {
     "end_time": "2020-04-27T04:48:53.619042Z",
     "start_time": "2020-04-27T04:48:53.611399Z"
    },
    "colab": {},
    "colab_type": "code",
    "id": "AjA6VZdKKgbG"
   },
   "outputs": [],
   "source": [
    "import warnings\n",
    "warnings.filterwarnings('ignore')\n",
    "\n",
    "# Para leer los datos\n",
    "import json\n",
    "import pandas as pd\n",
    "#from sklearn.cluster import KMeans\n",
    "import numpy as np\n",
    "import geopandas as gpd\n",
    "# Para el mapa\n",
    "import branca\n",
    "import folium\n",
    "from folium.plugins import MousePosition"
   ]
  },
  {
   "cell_type": "code",
   "execution_count": 2,
   "metadata": {
    "ExecuteTime": {
     "end_time": "2020-04-27T04:48:53.624386Z",
     "start_time": "2020-04-27T04:48:53.621592Z"
    }
   },
   "outputs": [],
   "source": [
    "# Directorio padre\n",
    "from spectral_analysis.preprocess.common_vars import DATA_FOLDER\n",
    "# Directorio de los datos geográficos\n",
    "prnt_map = '{}/by_region'.format(DATA_FOLDER)"
   ]
  },
  {
   "cell_type": "markdown",
   "metadata": {
    "colab_type": "text",
    "id": "YsBoRIEh8pbo"
   },
   "source": [
    "## Elegimos las cajas que vamos a usar\n",
    "\n",
    "Partiendo del [mapa global](https://colab.research.google.com/drive/1vDC5WBLlBty213ttjxfZrcc_gA-gZeiY), elegimos las cajas más cercanas a la costa, de acuerdo al rango de latitudes marcado anteriormente. Cada caja tiene un ID asociado, por lo que basta anotar esos ID para considerar sus espectros correspondientes.\n",
    "\n"
   ]
  },
  {
   "cell_type": "code",
   "execution_count": 2,
   "metadata": {
    "ExecuteTime": {
     "end_time": "2020-05-04T05:08:29.172737Z",
     "start_time": "2020-05-04T05:08:29.166626Z"
    },
    "colab": {
     "base_uri": "https://localhost:8080/",
     "height": 51
    },
    "colab_type": "code",
    "id": "8-QaU43821yr",
    "outputId": "42664875-672c-43de-9166-359775fadee1"
   },
   "outputs": [
    {
     "name": "stdout",
     "output_type": "stream",
     "text": [
      "[762, 787, 809, 831, 852, 868, 709, 730, 750, 771, 450, 572, 596, 533, 578, 602]\n",
      "Hay un total de 16 espectros\n"
     ]
    }
   ],
   "source": [
    "from common_vars.regions import ids_Cal,ids_Can,ids_Peru,ids_Ben\n",
    "ids = ids_Cal+ids_Can+ids_Peru+ids_Ben\n",
    "print(ids)\n",
    "print(\"Hay un total de {} espectros\".format(len(ids)))"
   ]
  },
  {
   "cell_type": "code",
   "execution_count": 4,
   "metadata": {
    "ExecuteTime": {
     "end_time": "2020-04-27T04:48:53.714860Z",
     "start_time": "2020-04-27T04:48:53.712586Z"
    },
    "colab": {},
    "colab_type": "code",
    "id": "4MPsB979dB5y"
   },
   "outputs": [],
   "source": [
    "season = 'ASO'\n",
    "vars = ['SSH','KE','DIV','RV']"
   ]
  },
  {
   "cell_type": "markdown",
   "metadata": {
    "colab_type": "text",
    "id": "LvbU_PgjldEB"
   },
   "source": [
    "## Leyendo los datos que mostraremos en el mapa\n",
    "\n",
    "Los datos son resultado de cálculos sencillos, como valores promedio (avg, rms) o desvianciones estándar (std) de las variables KE, DIV, RV, SSH"
   ]
  },
  {
   "cell_type": "code",
   "execution_count": 5,
   "metadata": {
    "ExecuteTime": {
     "end_time": "2020-04-27T04:48:55.794629Z",
     "start_time": "2020-04-27T04:48:53.716620Z"
    },
    "colab": {
     "base_uri": "https://localhost:8080/",
     "height": 204
    },
    "colab_type": "code",
    "id": "rhpCXwjf8YNU",
    "outputId": "45288af8-3bdd-49cb-afc8-87342ec0d39d"
   },
   "outputs": [
    {
     "data": {
      "text/html": [
       "<div>\n",
       "<style scoped>\n",
       "    .dataframe tbody tr th:only-of-type {\n",
       "        vertical-align: middle;\n",
       "    }\n",
       "\n",
       "    .dataframe tbody tr th {\n",
       "        vertical-align: top;\n",
       "    }\n",
       "\n",
       "    .dataframe thead th {\n",
       "        text-align: right;\n",
       "    }\n",
       "</style>\n",
       "<table border=\"1\" class=\"dataframe\">\n",
       "  <thead>\n",
       "    <tr style=\"text-align: right;\">\n",
       "      <th></th>\n",
       "      <th>Id</th>\n",
       "      <th>SSH_avg</th>\n",
       "      <th>KE_avg</th>\n",
       "      <th>DIV_avg</th>\n",
       "      <th>RV_avg</th>\n",
       "    </tr>\n",
       "  </thead>\n",
       "  <tbody>\n",
       "    <tr>\n",
       "      <th>325</th>\n",
       "      <td>450</td>\n",
       "      <td>0.002929</td>\n",
       "      <td>0.149649</td>\n",
       "      <td>3.260849e-10</td>\n",
       "      <td>6.661362e-10</td>\n",
       "    </tr>\n",
       "    <tr>\n",
       "      <th>747</th>\n",
       "      <td>533</td>\n",
       "      <td>0.002953</td>\n",
       "      <td>0.088228</td>\n",
       "      <td>3.217906e-10</td>\n",
       "      <td>1.732580e-10</td>\n",
       "    </tr>\n",
       "    <tr>\n",
       "      <th>264</th>\n",
       "      <td>572</td>\n",
       "      <td>0.002648</td>\n",
       "      <td>0.097489</td>\n",
       "      <td>2.121037e-10</td>\n",
       "      <td>3.856799e-10</td>\n",
       "    </tr>\n",
       "    <tr>\n",
       "      <th>791</th>\n",
       "      <td>578</td>\n",
       "      <td>0.003955</td>\n",
       "      <td>0.076971</td>\n",
       "      <td>4.181953e-10</td>\n",
       "      <td>5.558094e-11</td>\n",
       "    </tr>\n",
       "    <tr>\n",
       "      <th>9</th>\n",
       "      <td>596</td>\n",
       "      <td>0.003387</td>\n",
       "      <td>0.131729</td>\n",
       "      <td>3.445312e-10</td>\n",
       "      <td>5.261934e-10</td>\n",
       "    </tr>\n",
       "  </tbody>\n",
       "</table>\n",
       "</div>"
      ],
      "text/plain": [
       "      Id   SSH_avg    KE_avg       DIV_avg        RV_avg\n",
       "325  450  0.002929  0.149649  3.260849e-10  6.661362e-10\n",
       "747  533  0.002953  0.088228  3.217906e-10  1.732580e-10\n",
       "264  572  0.002648  0.097489  2.121037e-10  3.856799e-10\n",
       "791  578  0.003955  0.076971  4.181953e-10  5.558094e-11\n",
       "9    596  0.003387  0.131729  3.445312e-10  5.261934e-10"
      ]
     },
     "execution_count": 5,
     "metadata": {},
     "output_type": "execute_result"
    }
   ],
   "source": [
    "# Leemos el archivo que asocia cada espectro (por su ID) con una varible calculada a partir de él\n",
    "# -- esta variable es inicialmente simple, para propósitos de este demo\n",
    "prop = 'avg' # ['avg','rms','stdev','sum']\n",
    "data_all = None\n",
    "for var in vars:\n",
    "\tpropv = \"{}_{}\".format(var,prop)\n",
    "\tdata = pd.read_csv('{}/{}_{}_{}.csv'.format(prnt_map,var,season,prop))\n",
    "\tdata = data.loc[data['Id'].isin(ids)]\n",
    "\tdata = data.rename(columns={prop: propv})\n",
    "\tif data_all is None:\n",
    "\t\tdata_all = data\n",
    "\telse:\n",
    "\t\tdata_all = data_all.join(data.set_index('Id'), on=\"Id\", how=\"inner\", sort=True)\n",
    "    \n",
    "data_all.head()"
   ]
  },
  {
   "cell_type": "markdown",
   "metadata": {
    "colab_type": "text",
    "id": "vc-Y-RNCbbWi"
   },
   "source": [
    "### Obteniendo el radio de deformación y la velocidad de fase para el primer modo baroclínico\n",
    "\n",
    "Datos tomados de [Chelton et al., 1998](ftp://numbat.coas.oregonstate.edu/pub/chelton/papers/chelton_etal_1998_jpo.pdf) \\([web](http://www-po.coas.oregonstate.edu/research/po/research/rossby_radius/)\\)\n",
    "\n",
    "El archivo viene en formato tabular. Las columnas son:\n",
    "- Latitud\n",
    "- Longitud\n",
    "- Velocidad de fase (en m/s)\n",
    "- Radio de deformación de Rossby (en km)\n",
    "\n",
    "Además, como sabemos que la velocidad de fase y la flotabilidad están relacionadas mediante:\n",
    "\n",
    "$ c_{n} = \\frac{1}{n\\pi}\\int_{-H}^{0} N(z)dz = \\frac{\\overline{N} H}{n \\pi} $\n",
    "\n",
    "donde $\\overline{N}$ es el valor promedio de la flotabilidad.\n",
    "\n",
    "Para el primer modo baroclínico ($n=1$), y si tomamos el valor medio de H en cada caja de $6º \\times 6º$, podemos estimar el $\\overline{N}$ como:\n",
    "\n",
    "$\\overline{N} = \\frac{c_n\\pi}{H}$\n",
    "\n",
    "Alternativamente, como $R_d$ y $N$ están relacionados de la forma:\n",
    "\n",
    "$ R_d^2 = \\frac{N^2 H^2}{f_0^2} $\n",
    "\n",
    "entonces, podemos estimar $N$:\n",
    "\n",
    "$ N = \\frac{\\left| f_0 \\right| R_d}{H} $\n",
    "\n",
    "De cualquier modo, necesitaremos obtener una estimación de la profundidad H.\n",
    "\n",
    "### Calculando la profundidad media para cada caja\n",
    "\n",
    "Descargamos y leemos el [archivo netCDF de ETOPO](https://www.ngdc.noaa.gov/mgg/global/relief/ETOPO1/data/bedrock/grid_registered/netcdf/), de donde obtenemos las profundidades para diversos puntos dentro de cada caja. Entonces, cruzando la información de los polígonos (cajas) con la batimetría, obtenemos un promedio de profundidad por cada caja.\n",
    "\n",
    "### Resultado\n",
    "\n",
    "De ambas fuentes de datos cruzadas con los polígonos, obtenemos la siguiente tabla, donde se relaciona el ID de la caja (`s_id`) con %R_d% (`Rd1`), la profundidad media $H$, y las frecuencias $f$ (`f_cph`) y N (`Nbv_rad_s`, `Nbv_cph` y `Nbv_cph_2`).\n"
   ]
  },
  {
   "cell_type": "code",
   "execution_count": null,
   "metadata": {
    "ExecuteTime": {
     "end_time": "2020-04-27T04:48:56.153563Z",
     "start_time": "2020-04-27T04:48:55.797368Z"
    },
    "colab": {
     "base_uri": "https://localhost:8080/",
     "height": 235
    },
    "colab_type": "code",
    "id": "GNKTX4S7T1h6",
    "outputId": "18404eec-d96d-41cf-c7f0-e0dc0ccf0bb0"
   },
   "outputs": [],
   "source": [
    "merged_Rd_c1_H_Nbv = pd.read_csv('{}/merged_Rd_c1_H_Nbv.csv'.format(DATA_FOLDER),index_col='s_id')\n",
    "merged_Rd_c1_H_Nbv.head()"
   ]
  },
  {
   "cell_type": "markdown",
   "metadata": {
    "colab_type": "text",
    "id": "Qn6UzC-0mguQ"
   },
   "source": [
    "### Mostramos los datos cruzados en el mapa\n"
   ]
  },
  {
   "cell_type": "code",
   "execution_count": null,
   "metadata": {
    "ExecuteTime": {
     "end_time": "2020-04-27T04:48:57.245155Z",
     "start_time": "2020-04-27T04:48:56.155953Z"
    },
    "colab": {
     "base_uri": "https://localhost:8080/",
     "height": 564
    },
    "colab_type": "code",
    "id": "IjC86p9h8YNX",
    "outputId": "619c3362-a4d0-43f7-956d-a8d18e93422b"
   },
   "outputs": [],
   "source": [
    "# Leemos el archivo que contiene los polígonos de cada región (cuadrados de 6º de lado, pero con alto variable ya que no están equiespaciados en latitud)\n",
    "geodata = gpd.read_file('{}/{}_{}_geo.json'.format(prnt_map,var,season),driver='GeoJSON')\n",
    "geodata = geodata.set_index('s_id',drop=False).join(data_all.set_index('Id'), how='inner')\n",
    "#print(geodata.shape)\n",
    "#geodata.head()\n",
    "# Cruzamos la información promediada de (c1,Rd1,H,f,N) con los datos geográficos \n",
    "geodata_all = geodata.join(merged_Rd_c1_H_Nbv,how='inner')\n",
    "geodata_all.head()"
   ]
  },
  {
   "cell_type": "code",
   "execution_count": null,
   "metadata": {
    "ExecuteTime": {
     "end_time": "2020-04-27T04:48:57.251023Z",
     "start_time": "2020-04-27T04:48:57.246858Z"
    },
    "colab": {},
    "colab_type": "code",
    "id": "HRFWwRCE8YNa"
   },
   "outputs": [],
   "source": [
    "var_map = \"KE\"\n",
    "prop_data = \"{}_{}\".format(var_map,prop)\n",
    "vmin = geodata_all[prop_data].min()\n",
    "vmax = geodata_all[prop_data].max()"
   ]
  },
  {
   "cell_type": "code",
   "execution_count": null,
   "metadata": {
    "ExecuteTime": {
     "end_time": "2020-04-27T04:48:57.258443Z",
     "start_time": "2020-04-27T04:48:57.252945Z"
    },
    "colab": {},
    "colab_type": "code",
    "id": "WLepB_w98YNd"
   },
   "outputs": [],
   "source": [
    "# Colorbar -- https://colorhunt.co/\n",
    "\n",
    "cmap = branca.colormap.LinearColormap(\n",
    "    #colors=['#fcfbfd','#efedf5','#dadaeb','#bcbddc','#9e9ac8','#807dba','#6a51a3','#54278f','#3f007d'],\n",
    "    colors=['#c1f6e7', '#ffcbcb', '#bb7171', '#4e3440'],\n",
    "    #index=geodata[prop].quantile([0.2,0.4,0.6,0.8]),\n",
    "    vmin=vmin,\n",
    "    vmax=vmax,\n",
    "    caption='{} ({}), season: {}'.format(var_map,prop_data.upper(),season)\n",
    ")\n",
    "\n",
    "style_fn = lambda x: {\n",
    "    #'fillColor': cmap(x['properties'][prop_data]),\n",
    "    'color': 'black',\n",
    "    'weight':2,\n",
    "    'fillOpacity':0.1,\n",
    "    'opacity':0.2\n",
    "}\n",
    "\n",
    "#cmap"
   ]
  },
  {
   "cell_type": "code",
   "execution_count": null,
   "metadata": {
    "ExecuteTime": {
     "end_time": "2020-04-27T04:48:57.319756Z",
     "start_time": "2020-04-27T04:48:57.260254Z"
    },
    "colab": {
     "base_uri": "https://localhost:8080/",
     "height": 915
    },
    "colab_type": "code",
    "id": "2Etp7KdQ8YNf",
    "outputId": "2f96ced1-231d-4ee8-c3c0-bab768bd227e"
   },
   "outputs": [],
   "source": [
    "## Mapa\n",
    "\n",
    "url = 'https://raw.githubusercontent.com/python-visualization/folium/master/examples/data'\n",
    "m = folium.Map(location=[0,0], zoom_start=3)\n",
    "\n",
    "data_layer = folium.GeoJson(\n",
    "    geodata_all,\n",
    "    #name='clusters',\n",
    "    style_function=style_fn,\n",
    "    tooltip=folium.GeoJsonTooltip(\n",
    "        fields=['s_id','lat','lon','c1','Rd1','H','Nbv_cph','KE_avg'],\n",
    "        aliases=['Id','Lat','Lon','c_1','Rd_1','Depth [m]','N [cph]','KE_avg'],\n",
    "        localize=True\n",
    "    )\n",
    ").add_to(m)\n",
    "\n",
    "m.add_child(folium.TileLayer('Stamen Terrain'))\n",
    "m.add_child(folium.TileLayer('OpenStreetMap'))\n",
    "m.add_child(folium.TileLayer('Stamen Toner'))\n",
    "m.add_child(folium.LatLngPopup())\n",
    "m.add_child(MousePosition())\n",
    "#m.add_child(cmap)\n",
    "m.add_child(folium.LayerControl())\n",
    "\n",
    "m"
   ]
  },
  {
   "cell_type": "markdown",
   "metadata": {
    "colab_type": "text",
    "id": "JLM2H7t88dFu"
   },
   "source": [
    "## Calculando la relación R = BM/IGW"
   ]
  },
  {
   "cell_type": "code",
   "execution_count": 16,
   "metadata": {
    "ExecuteTime": {
     "end_time": "2020-04-27T04:48:57.323886Z",
     "start_time": "2020-04-27T04:48:57.321410Z"
    },
    "colab": {},
    "colab_type": "code",
    "id": "G6ThYVGmfTXn"
   },
   "outputs": [],
   "source": [
    "from importlib import reload"
   ]
  },
  {
   "cell_type": "code",
   "execution_count": 19,
   "metadata": {
    "ExecuteTime": {
     "end_time": "2020-04-27T05:09:29.312878Z",
     "start_time": "2020-04-27T05:07:57.294385Z"
    },
    "colab": {},
    "colab_type": "code",
    "id": "yQfDnnWgKzSy"
   },
   "outputs": [],
   "source": [
    "import spectral_analysis.tools.spectral_analysis_tools\n",
    "#reload() solo funciona si el módulo ya fue cargado\n",
    "reload(spectral_analysis.tools.spectral_analysis_tools)\n",
    "\n",
    "from spectral_analysis.tools.spectral_analysis_tools import plot_bm_igw_k_forseasonvarsid as plot_bm_igw\n",
    "from spectral_analysis.tools.spectral_analysis_tools import plot_wk_forseasonvarid as plot_wk"
   ]
  },
  {
   "cell_type": "markdown",
   "metadata": {
    "colab_type": "text",
    "id": "r2-_GnqoWDJf"
   },
   "source": [
    "### Partiendo BM y IGW tomando el modo vertical 10\n",
    "\n",
    "A modo de ejemplo, se muestra el espectro de la elevación del nivel del mar (SSH) para las cajas de la corriente de california en verano (Agosto-septiembre-octubre). En cada espectro se grafican las relaciones de dispersión de los modos 1,2,3,4 y 10 para las ondas internas, de acuerdo a la ecuación:\n",
    "\n",
    "$\\omega^2 = \\frac{N^2+\\left(\\frac{n\\pi f}{k_h H}\\right)^2}{1+\\left(\\frac{n\\pi}{k_h H}\\right)^2}$\n",
    "\n",
    "donde $k_h$ es el número de onda horizontal, y $n$ es el número de modo."
   ]
  },
  {
   "cell_type": "code",
   "execution_count": null,
   "metadata": {
    "ExecuteTime": {
     "start_time": "2020-04-27T05:04:01.122Z"
    },
    "colab": {
     "base_uri": "https://localhost:8080/",
     "height": 1000
    },
    "colab_type": "code",
    "id": "5FVs6rgxRAp8",
    "outputId": "49d7bbf0-efb8-4fef-ec90-8f3792f66b1a",
    "scrolled": false
   },
   "outputs": [
    {
     "name": "stdout",
     "output_type": "stream",
     "text": [
      "868 JFM\n"
     ]
    }
   ],
   "source": [
    "for id in ids_Cal:\n",
    "    id_data = geodata_all.loc[id]\n",
    "    #Nbv = id_data[\"Nbv_cph\"]\n",
    "    Nbv = id_data[\"Nbv_cph_2\"]\n",
    "    H = id_data[\"H\"]/1000\n",
    "    print(id,\"JFM\")\n",
    "    plot_wk(DATA_FOLDER,\"JFM\",\"RV\",id,Nbv=Nbv,H=H,wk_only=True,log=False)\n",
    "    print(id,\"ASO\")\n",
    "    plot_wk(DATA_FOLDER,\"ASO\",\"RV\",id,Nbv=Nbv,H=H,wk_only=True,log=False)"
   ]
  },
  {
   "cell_type": "markdown",
   "metadata": {
    "colab_type": "text",
    "id": "K6gSsoBCVbEy"
   },
   "source": [
    "### Gráficas BM/IGW para cada región\n",
    "\n",
    "Se calcula $R(k) = \\frac{BM(k)}{IGW(k)}$"
   ]
  },
  {
   "cell_type": "code",
   "execution_count": null,
   "metadata": {
    "ExecuteTime": {
     "end_time": "2020-04-27T04:48:59.804016Z",
     "start_time": "2020-04-27T04:48:53.617Z"
    },
    "colab": {},
    "colab_type": "code",
    "id": "FUqoHxNGMt7Q"
   },
   "outputs": [],
   "source": [
    "# Gráficas\n",
    "import matplotlib.pyplot as plt\n",
    "\n",
    "def show_bm_igw(ids,vars,season,scales_km=(200,10),log=False):\n",
    "    data_ = geodata_all.loc[ids]\n",
    "    Nbv = data_[\"Nbv_cph_2\"]\n",
    "    H = data_[\"H\"]/1000\n",
    "    Rds = data_[\"Rd1\"]\n",
    "    print(Rds)\n",
    "\n",
    "    nseasons = 1\n",
    "    if type(season) is list:\n",
    "        nseasons = len(season)\n",
    "    else:\n",
    "        season = [season]\n",
    "\n",
    "    nplots = len(vars)\n",
    "    fig,ax = plt.subplots(nplots,nseasons,figsize=(8*nseasons,4.5*len(vars)))\n",
    "    ax = ax.flat[:]\n",
    "    for season_,nseason in zip(season,range(nseasons)):\n",
    "        plot_idxx = [nseasons*i+nseason for i in range(nplots)]\n",
    "        for var,plot_idx in zip(vars,plot_idxx):\n",
    "            print(var,plot_idx)\n",
    "            ax_ = ax[plot_idx]\n",
    "            plt.sca(ax_)\n",
    "            plot_bm_igw(DATA_FOLDER,season_,var,ids,scales_km=scales_km,Nbv=Nbv,H=H,ax=ax_,show=False,log=log)\n",
    "\n",
    "    fig.tight_layout(rect=[0, 0.03, 1, 0.95])\n",
    "    fig.show()"
   ]
  },
  {
   "cell_type": "markdown",
   "metadata": {
    "colab_type": "text",
    "id": "pJklaNhP92tz"
   },
   "source": [
    "#### California"
   ]
  },
  {
   "cell_type": "code",
   "execution_count": null,
   "metadata": {
    "ExecuteTime": {
     "end_time": "2020-04-27T04:48:59.805131Z",
     "start_time": "2020-04-27T04:48:53.622Z"
    },
    "colab": {
     "base_uri": "https://localhost:8080/",
     "height": 1000
    },
    "colab_type": "code",
    "id": "ORCX1f7ov_Ot",
    "outputId": "4602ac6a-0427-44a3-dc17-5793ba47c014"
   },
   "outputs": [],
   "source": [
    "# California\n",
    "show_bm_igw(ids_Cal,vars,['ASO','JFM'],scales_km=(310,10),log=False)\n",
    "#show_bm_igw([762,787],vars,['ASO','JFM'],scales_km=(410,10))"
   ]
  },
  {
   "cell_type": "markdown",
   "metadata": {
    "colab_type": "text",
    "id": "JuPtPj1MVoLJ"
   },
   "source": [
    "#### Canarias"
   ]
  },
  {
   "cell_type": "code",
   "execution_count": null,
   "metadata": {
    "ExecuteTime": {
     "end_time": "2020-04-27T04:48:59.806300Z",
     "start_time": "2020-04-27T04:48:53.626Z"
    },
    "colab": {
     "base_uri": "https://localhost:8080/",
     "height": 1000
    },
    "colab_type": "code",
    "id": "0rqV5U0vgQzk",
    "outputId": "b5b0a75a-1e66-4397-bd42-aaf17686f9fe"
   },
   "outputs": [],
   "source": [
    "# Canarias\n",
    "show_bm_igw(ids_Can,vars,['ASO','JFM'],scales_km=(310,10),log=False)"
   ]
  },
  {
   "cell_type": "markdown",
   "metadata": {
    "colab_type": "text",
    "id": "L91-H3EaVqrR"
   },
   "source": [
    "#### Peru"
   ]
  },
  {
   "cell_type": "code",
   "execution_count": null,
   "metadata": {
    "ExecuteTime": {
     "end_time": "2020-04-27T04:48:59.807323Z",
     "start_time": "2020-04-27T04:48:53.631Z"
    },
    "colab": {
     "base_uri": "https://localhost:8080/",
     "height": 1000
    },
    "colab_type": "code",
    "id": "7dE8XOybgQrs",
    "outputId": "76ede9bb-aa74-4308-a675-0cb5f616447e"
   },
   "outputs": [],
   "source": [
    "# Peru\n",
    "#show_bm_igw(ids_Peru,vars,['JFM','ASO'],scales_km=(310,10))\n",
    "show_bm_igw(ids_Peru,vars,['JFM','ASO'],scales_km=(500,10),log=False)"
   ]
  },
  {
   "cell_type": "markdown",
   "metadata": {
    "colab_type": "text",
    "id": "Ioowl4EAVtFc"
   },
   "source": [
    "#### Benguela"
   ]
  },
  {
   "cell_type": "code",
   "execution_count": null,
   "metadata": {
    "ExecuteTime": {
     "end_time": "2020-04-27T04:48:59.808228Z",
     "start_time": "2020-04-27T04:48:53.639Z"
    },
    "colab": {
     "base_uri": "https://localhost:8080/",
     "height": 1000
    },
    "colab_type": "code",
    "id": "Rrd-YbBRgQgW",
    "outputId": "43051862-3384-420d-b3de-9a974ded07f8"
   },
   "outputs": [],
   "source": [
    "# Benguela\n",
    "show_bm_igw(ids_Ben,vars,['JFM','ASO'],scales_km=(310,10))"
   ]
  },
  {
   "cell_type": "code",
   "execution_count": null,
   "metadata": {
    "colab": {},
    "colab_type": "code",
    "id": "jFDVuxpUIXg-"
   },
   "outputs": [],
   "source": []
  }
 ],
 "metadata": {
  "colab": {
   "collapsed_sections": [],
   "name": "EBC Spectra Analysis.ipynb",
   "provenance": [],
   "toc_visible": true
  },
  "kernelspec": {
   "display_name": "LLC",
   "language": "python",
   "name": "llc"
  },
  "language_info": {
   "codemirror_mode": {
    "name": "ipython",
    "version": 3
   },
   "file_extension": ".py",
   "mimetype": "text/x-python",
   "name": "python",
   "nbconvert_exporter": "python",
   "pygments_lexer": "ipython3",
   "version": "3.6.9"
  },
  "latex_envs": {
   "LaTeX_envs_menu_present": true,
   "autoclose": true,
   "autocomplete": true,
   "bibliofile": "biblio.bib",
   "cite_by": "apalike",
   "current_citInitial": 1,
   "eqLabelWithNumbers": true,
   "eqNumInitial": 1,
   "hotkeys": {
    "equation": "Ctrl-E",
    "itemize": "Ctrl-I"
   },
   "labels_anchors": false,
   "latex_user_defs": false,
   "report_style_numbering": false,
   "user_envs_cfg": false
  },
  "varInspector": {
   "cols": {
    "lenName": 16,
    "lenType": 16,
    "lenVar": 40
   },
   "kernels_config": {
    "python": {
     "delete_cmd_postfix": "",
     "delete_cmd_prefix": "del ",
     "library": "var_list.py",
     "varRefreshCmd": "print(var_dic_list())"
    },
    "r": {
     "delete_cmd_postfix": ") ",
     "delete_cmd_prefix": "rm(",
     "library": "var_list.r",
     "varRefreshCmd": "cat(var_dic_list()) "
    }
   },
   "types_to_exclude": [
    "module",
    "function",
    "builtin_function_or_method",
    "instance",
    "_Feature"
   ],
   "window_display": false
  }
 },
 "nbformat": 4,
 "nbformat_minor": 1
}
