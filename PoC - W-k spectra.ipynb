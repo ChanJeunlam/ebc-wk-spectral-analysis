{
 "cells": [
  {
   "cell_type": "markdown",
   "metadata": {},
   "source": [
    "## Primero, leemos los datos y los mostramos"
   ]
  },
  {
   "cell_type": "code",
   "execution_count": 1,
   "metadata": {
    "ExecuteTime": {
     "end_time": "2020-05-04T07:26:51.686984Z",
     "start_time": "2020-05-04T07:26:51.682604Z"
    },
    "init_cell": true
   },
   "outputs": [],
   "source": [
    "import warnings\n",
    "warnings.filterwarnings('ignore')"
   ]
  },
  {
   "cell_type": "code",
   "execution_count": 2,
   "metadata": {
    "ExecuteTime": {
     "end_time": "2020-05-04T07:26:52.128581Z",
     "start_time": "2020-05-04T07:26:51.694187Z"
    },
    "init_cell": true
   },
   "outputs": [],
   "source": [
    "import os\n",
    "import imageio\n",
    "import numpy as np\n",
    "from scipy import signal\n",
    "from itertools import product\n",
    "import matplotlib.pyplot as plt\n",
    "from matplotlib.colors import LogNorm,PowerNorm"
   ]
  },
  {
   "cell_type": "code",
   "execution_count": 3,
   "metadata": {
    "ExecuteTime": {
     "end_time": "2020-05-04T07:26:52.161468Z",
     "start_time": "2020-05-04T07:26:52.130672Z"
    },
    "init_cell": true
   },
   "outputs": [],
   "source": [
    "from importlib import reload\n",
    "\n",
    "import isotropic_spectra\n",
    "reload(isotropic_spectra)\n",
    "from isotropic_spectra import wf_spectrum\n",
    "\n",
    "import spectral_analysis\n",
    "reload(spectral_analysis)\n",
    "import spectral_analysis.tools\n",
    "reload(spectral_analysis.tools)\n",
    "from spectral_analysis.tools.spectral_analysis_tools import open_ds_kwe,calc_bm_igw_k"
   ]
  },
  {
   "cell_type": "code",
   "execution_count": 4,
   "metadata": {
    "ExecuteTime": {
     "end_time": "2020-05-04T07:26:52.168830Z",
     "start_time": "2020-05-04T07:26:52.163032Z"
    },
    "init_cell": true
   },
   "outputs": [],
   "source": [
    "from common_vars.directories import LUIGI_OUT_FOLDER\n",
    "fname_var_fmt = LUIGI_OUT_FOLDER+\"/Datasets_compressed/{0}/{1}/{2}0_{3:05d}.npz\"\n",
    "fname_grid_fmt = LUIGI_OUT_FOLDER+\"/Datasets_compressed/{0}/hours/{1}.txt\"\n",
    "spectra_fn_fmt = LUIGI_OUT_FOLDER+\"/spectra/{0}/{1}_{2}_{3}.npz\""
   ]
  },
  {
   "cell_type": "code",
   "execution_count": 5,
   "metadata": {
    "ExecuteTime": {
     "end_time": "2020-05-04T07:26:52.175945Z",
     "start_time": "2020-05-04T07:26:52.170227Z"
    },
    "init_cell": true
   },
   "outputs": [],
   "source": [
    "from common_vars.regions import ids_regions\n",
    "from common_vars.time_slices import idx_t,seasons\n",
    "all_t_res = list(idx_t.keys())"
   ]
  },
  {
   "cell_type": "code",
   "execution_count": 6,
   "metadata": {
    "ExecuteTime": {
     "end_time": "2020-05-04T07:26:52.188371Z",
     "start_time": "2020-05-04T07:26:52.179482Z"
    },
    "init_cell": true
   },
   "outputs": [],
   "source": [
    "fname_var_fmt2 = LUIGI_OUT_FOLDER+\"/Datasets/{0}/{1}/{2}0_{3:05d}.txt\"\n",
    "#fname_grid_fmt = LUIGI_OUT_FOLDER+\"/Datasets/{0}/{1}/{2}.txt\"\n",
    "def UV4id(id,season,t_res=\"hours\",t_firstaxis=False):\n",
    "\ttime = idx_t[t_res][season]\n",
    "\t\n",
    "\tfor idx,t in enumerate(time):\n",
    "\t\tif t_res==\"hours\":\n",
    "\t\t\tU_ = np.load(fname_var_fmt.format(id,t_res,\"U\",t))[\"uv\"]\n",
    "\t\t\tV_ = np.load(fname_var_fmt.format(id,t_res,\"V\",t))[\"uv\"]\n",
    "\t\telse:\n",
    "\t\t\tU_ = np.loadtxt(fname_var_fmt2.format(id,t_res,\"U\",t))\n",
    "\t\t\tV_ = np.loadtxt(fname_var_fmt2.format(id,t_res,\"V\",t))\n",
    "\t\tif idx==0:\n",
    "\t\t\tprint(id,t)\n",
    "\t\t\t#print(U_.shape)\n",
    "\t\t\tshape_uv = U_.shape\n",
    "\t\t\tshape = (shape_uv[0],shape_uv[1],len(time))\n",
    "\t\t\tprint(\"UV shape\",shape)\n",
    "\t\t\tU = np.zeros(shape)\n",
    "\t\t\tV = np.zeros(shape)\n",
    "\t\tU[:,:,idx] = U_\n",
    "\t\tV[:,:,idx] = V_\n",
    "\n",
    "\tif t_firstaxis:\n",
    "\t\tU = np.moveaxis(U,-1,0)\n",
    "\t\tV = np.moveaxis(V,-1,0)\n",
    "\n",
    "\treturn U,V"
   ]
  },
  {
   "cell_type": "code",
   "execution_count": 7,
   "metadata": {
    "ExecuteTime": {
     "end_time": "2020-05-04T07:26:52.194474Z",
     "start_time": "2020-05-04T07:26:52.191293Z"
    },
    "init_cell": true
   },
   "outputs": [],
   "source": [
    "def dxdyf4id(id,t_res=\"hours\"):\n",
    "\tdx_ = np.loadtxt(fname_grid_fmt.format(id,\"dx\"))\n",
    "\tdy_ = np.loadtxt(fname_grid_fmt.format(id,\"dy\"))\n",
    "\tf_ = np.loadtxt(fname_grid_fmt.format(id,\"f\"))\n",
    "\n",
    "\treturn dx_,dy_,f_"
   ]
  },
  {
   "cell_type": "code",
   "execution_count": 8,
   "metadata": {
    "ExecuteTime": {
     "end_time": "2020-05-04T07:26:52.198790Z",
     "start_time": "2020-05-04T07:26:52.196064Z"
    },
    "init_cell": true
   },
   "outputs": [],
   "source": [
    "def dxdy_avg(dx,dy):\n",
    "\tdx_avg = np.mean(dx.flatten())\n",
    "\tdy_avg = np.mean(dy.flatten())\n",
    "\treturn dx_avg,dy_avg"
   ]
  },
  {
   "cell_type": "code",
   "execution_count": 9,
   "metadata": {
    "ExecuteTime": {
     "end_time": "2020-05-04T07:26:52.203254Z",
     "start_time": "2020-05-04T07:26:52.200382Z"
    },
    "init_cell": true
   },
   "outputs": [],
   "source": [
    "def d_dx(f,dx):\n",
    "\treturn (np.gradient(f,axis=1,edge_order=2)/dx)\n",
    "\n",
    "def d_dy(f,dy):\n",
    "\treturn (np.gradient(f,axis=0,edge_order=2)/dy)"
   ]
  },
  {
   "cell_type": "code",
   "execution_count": 10,
   "metadata": {
    "ExecuteTime": {
     "end_time": "2020-05-04T07:26:52.206805Z",
     "start_time": "2020-05-04T07:26:52.204656Z"
    },
    "init_cell": true
   },
   "outputs": [],
   "source": [
    "def div_(u,v,dx,dy):\n",
    "\treturn d_dx(u,dx) + d_dy(v,dy)"
   ]
  },
  {
   "cell_type": "code",
   "execution_count": 11,
   "metadata": {
    "ExecuteTime": {
     "end_time": "2020-05-04T07:26:52.210349Z",
     "start_time": "2020-05-04T07:26:52.208203Z"
    },
    "init_cell": true
   },
   "outputs": [],
   "source": [
    "def rv_(u,v,dx,dy):\n",
    "\treturn d_dx(v,dx) - d_dy(u,dy)"
   ]
  },
  {
   "cell_type": "code",
   "execution_count": 12,
   "metadata": {
    "ExecuteTime": {
     "end_time": "2020-05-04T07:26:52.214493Z",
     "start_time": "2020-05-04T07:26:52.211727Z"
    },
    "init_cell": true
   },
   "outputs": [],
   "source": [
    "def st_(u,v,dx,dy):\n",
    "\tsn = d_dx(u,dx) - d_dy(v,dy)\n",
    "\tss = d_dx(v,dx) + d_dy(u,dy)\n",
    "\treturn np.sqrt( np.square(sn) + np.square(ss) )"
   ]
  },
  {
   "cell_type": "code",
   "execution_count": 13,
   "metadata": {
    "ExecuteTime": {
     "end_time": "2020-05-04T07:26:52.218227Z",
     "start_time": "2020-05-04T07:26:52.215748Z"
    },
    "init_cell": true
   },
   "outputs": [],
   "source": [
    "def ow_(u,v,dx,dy):\n",
    "\treturn np.square(st_(u,v,dx,dy)) - np.square(rv_(u,v,dx,dy))"
   ]
  },
  {
   "cell_type": "code",
   "execution_count": 14,
   "metadata": {
    "ExecuteTime": {
     "end_time": "2020-05-04T07:26:52.222526Z",
     "start_time": "2020-05-04T07:26:52.219622Z"
    },
    "init_cell": true
   },
   "outputs": [],
   "source": [
    "def detrend(S):\n",
    "\tS = signal.detrend(S,axis=0,type='linear')\n",
    "\tS = signal.detrend(S,axis=1,type='linear')\n",
    "\tS = signal.detrend(S,axis=2,type='linear')\n",
    "\treturn S"
   ]
  },
  {
   "cell_type": "code",
   "execution_count": 15,
   "metadata": {
    "ExecuteTime": {
     "end_time": "2020-05-04T07:26:52.226468Z",
     "start_time": "2020-05-04T07:26:52.223824Z"
    },
    "init_cell": true
   },
   "outputs": [],
   "source": [
    "def centerIdx(length):\n",
    "\tif length%2==1:\n",
    "\t\treturn int((length-1)/2+1)\n",
    "\telse:\n",
    "\t\treturn int(length/2)"
   ]
  },
  {
   "cell_type": "code",
   "execution_count": 16,
   "metadata": {
    "ExecuteTime": {
     "end_time": "2020-05-04T07:26:52.230746Z",
     "start_time": "2020-05-04T07:26:52.227766Z"
    },
    "init_cell": true
   },
   "outputs": [],
   "source": [
    "def fig2img(fig):\n",
    "\tfig.canvas.draw()\n",
    "\timage = np.frombuffer(fig.canvas.tostring_rgb(),dtype='uint8')\n",
    "\timage  = image.reshape(fig.canvas.get_width_height()[::-1] + (3,))\n",
    "\treturn image"
   ]
  },
  {
   "cell_type": "code",
   "execution_count": 17,
   "metadata": {
    "ExecuteTime": {
     "end_time": "2020-05-04T07:26:52.243319Z",
     "start_time": "2020-05-04T07:26:52.232327Z"
    },
    "code_folding": [],
    "init_cell": true
   },
   "outputs": [],
   "source": [
    "def calc_ispec(E,k,l,om):\n",
    "\t\"\"\" calculates isotropic spectrum from 3D spectrum \"\"\"\n",
    "\n",
    "\tprint(\"Input shapes: E,k,l,f\",E.shape,k.shape,l.shape,om.shape)\n",
    "\n",
    "\tdk,dl = k[1]-k[0],l[1]-l[0]\n",
    "\tl,k = np.meshgrid(l,k)\n",
    "\twv = np.sqrt(k**2 + l**2)\n",
    "\tprint(\"Grid shapes: k,l,K\",k.shape,l.shape,wv.shape)\n",
    "\n",
    "\tif k.max()>l.max():\n",
    "\t\tkmax = l.max()\n",
    "\t\tdkr = dl\n",
    "\telse:\n",
    "\t\tkmax = k.max()\n",
    "\t\tdkr = dk\n",
    "\n",
    "\ty,x = np.indices(E.shape[:-1])\n",
    "\tprint(\"Indices shape: x,y\",x.shape,y.shape)\n",
    "\tcx = centerIdx(np.max(x)+1)\n",
    "\tcy = centerIdx(np.max(y)+1)\n",
    "\tkr_bins_flat = (np.sqrt((x-cx)**2 + (y-cy)**2)).astype(np.int).ravel() # Medimos la distancia en múltiplos de dkr\n",
    "\tnr = np.bincount(kr_bins_flat)\n",
    "\tnbins = int(np.round(kmax/dkr))\n",
    "\tprint(\"Nbins\",nbins)\n",
    "\n",
    "\t# create radial wavenumber\n",
    "\t#dkr = np.sqrt(dk**2 + dl**2)\n",
    "\t#kr =  np.arange(nbins)*dkr # Bin edges\n",
    "\tkr =  np.arange(nbins)*dkr+dkr/2 # Bin centers\n",
    "\n",
    "\tfor iw in range(om.size):\n",
    "\t\tE_ = E[:,:,iw]\n",
    "\n",
    "\n",
    "\t\t# Isotropization w/ radial profile (See https://stackoverflow.com/questions/21242011/most-efficient-way-to-calculate-radial-profile)\n",
    "\t\tEi = (np.bincount(kr_bins_flat,E_.ravel())/nr)[:nbins]\n",
    "\n",
    "\t\tif False:\n",
    "\t\t\tif (iw-1)%5==0:\n",
    "\t\t\t\tplt.clf()\n",
    "\t\t\t\tfig, ax = plt.subplots(1,2,figsize=(15,6))\n",
    "\t\t\t\tax = ax.flat[:]\n",
    "\t\t\t\tplt.sca(ax[0])\n",
    "\t\t\t\tplt.pcolormesh(k,l,E_,cmap='rainbow',norm = LogNorm())\n",
    "\t\t\t\tplt.colorbar()\n",
    "\t\t\t\tplt.sca(ax[1])\n",
    "\t\t\t\tplt.semilogy(kr,Ei)\n",
    "\t\t\t\tplt.suptitle(\"Freq = {0:0.4f} cph, T = {1:0.1f} hours\".format(om[iw],1/om[iw]),size=\"xx-large\")\n",
    "\t\t\t\tplt.show()\n",
    "\n",
    "\t\t# Isotropization - Original way\n",
    "\t\t#Ei = np.zeros(kr.size)\n",
    "\t\t#for ik in range(kr.size):\n",
    "\t\t#    Kr_min = kr[ik]-dkr/2\n",
    "\t\t#    Kr_max = kr[ik]+dkr/2\n",
    "\t\t#    fkr =  (wv>=Kr_min) & (wv<Kr_max)\n",
    "\t\t#    dth = np.pi / (fkr.sum()-1)\n",
    "\t\t#    #Area_ik = np.pi*(Kr_max**2 - Kr_min**2)\n",
    "\t\t#    Ei[ik] = E_[fkr].sum() * kr[ik] * dth #np.mean(E_[fkr])\n",
    "\n",
    "\t\t# Storage\n",
    "\t\tif iw == 0:\n",
    "\t\t\tEiso = np.zeros((nbins,om.size))\n",
    "\t\tEiso[:,iw] = Ei\n",
    "\n",
    "\treturn kr[:nbins], Eiso[:nbins,:]"
   ]
  },
  {
   "cell_type": "code",
   "execution_count": 18,
   "metadata": {
    "ExecuteTime": {
     "end_time": "2020-05-04T07:26:52.255663Z",
     "start_time": "2020-05-04T07:26:52.244984Z"
    },
    "code_folding": [],
    "init_cell": true
   },
   "outputs": [],
   "source": [
    "def calculate_save_spectrum(region_id,season,t_res=\"hours\"):\n",
    "\tassert t_res in all_t_res,\"t_res not in [hours,days]\"\n",
    "\tdt_hr = 1 if t_res==\"hours\" else 24\n",
    "\n",
    "\tU,V = UV4id(region_id,season,t_res)\n",
    "\tN = U.size\n",
    "\tprint(\"U,V shapes\",U.shape,V.shape,\" -- total elements:\",N)\n",
    "\tU,V = detrend(U),detrend(V)\n",
    "\tprint(\"U,V size in MB\",U.nbytes/(1024**2),V.nbytes/(1024**2))\n",
    "\n",
    "\tDX,DY,F = dxdyf4id(region_id)\n",
    "\tdx,dy = dxdy_avg(DX,DY) # En metros\n",
    "\tdx,dy,dt = dx/1000,dy/1000,dt_hr # km,km,hr\n",
    "\tprint(\"dx,dy,dt\",dx,dy,dt)\n",
    "\te_U = np.sum(U**2)#*dx*dy*dt\n",
    "\te_V = np.sum(V**2)#*dx*dy*dt\n",
    "\tprint(\"U,V energy (x,y,t)\",e_U,e_V)\n",
    "\n",
    "\tbeta = 1.33/2\n",
    "\tEU,k,l,om = wf_spectrum.spec_est3(U,dx,dy,dt,beta=beta)\n",
    "\tEV,_,_,_ = wf_spectrum.spec_est3(V,dx,dy,dt,beta=beta)\n",
    "\tdel U\n",
    "\tdel V\n",
    "\n",
    "\tdk,dl,dom = k[1]-k[0],l[1]-l[0],om[1]-om[0]\n",
    "\tse_U = np.sum(EU)/N #*dk*dl*dom\n",
    "\tse_V = np.sum(EV)/N #*dk*dl*dom\n",
    "\tprint(\"U,V energy (k,l,f)\",se_U,se_V)\n",
    "\teseU_r = e_U/se_U\n",
    "\teseV_r = e_V/se_V\n",
    "\tprint(\"Ratios E(x,y,t)/E(k,l,f) for U,V\",eseU_r,eseV_r)\n",
    "\t#EU = EU*(eseU_r)\n",
    "\t#EV = EV*(eseV_r)\n",
    "\t#se_U = np.sum(EU)/N #*dk*dl*dom\n",
    "\t#se_V = np.sum(EV)/N #*dk*dl*dom\n",
    "\t#print(\"Corrected U,V energy (k,l,f)\",se_U,se_V)\n",
    "\tprint(\"Dividing by N (total # of elems) to get (approximate) PSD\")\n",
    "\tEU = EU/N\n",
    "\tEV = EV/N\n",
    "\n",
    "\tE = 0.5*(EU+EV)\n",
    "\tdel EU\n",
    "\tdel EV\n",
    "\n",
    "\tprint(\"k,l,om shapes\",k.shape,l.shape,om.shape)\n",
    "\tprint\n",
    "\tprint(\"sU,sV shapes\",E.shape,E.shape)\n",
    "\tprint(\"min,max sE\",np.min(E),np.max(E))\n",
    "\t#print(\"FFT x scales (km)\",[\"{:.2f}\".format(1/k_) for k_ in k])\n",
    "\t#print(\"FFT y scales (km)\",[\"{:.2f}\".format(1/l_) for l_ in l])\n",
    "\t#print(\"FFT t scales (h)\",[\"{:.2f}\".format(1/om_) for om_ in om])\n",
    "\t#ku_iso, EU_iso = calc_ispec(EU,ku,lu,omu)\n",
    "\t#kv_iso, EV_iso = calc_ispec(EV,kv,lv,omv)\n",
    "\t#print(\"k,omega,sU_iso shapes\",ku_iso.shape,omu.shape,EU_iso.shape)\n",
    "\t#print(\"k,omega,sv_iso shapes\",kv_iso.shape,omv.shape,EV_iso.shape)\n",
    "\tprint(\"Spectrum isotropization\")\n",
    "\tk_iso, E_iso = calc_ispec(E,k,l,om)\n",
    "\t#print(\"Horizontal scales (km)\",[\"{:.2f}\".format(1/ki_) for ki_ in k_iso])\n",
    "\tdel E\n",
    "\n",
    "\tfname = spectra_fn_fmt.format(region_id,\"KE\",season,t_res)\n",
    "\tos.makedirs(os.path.dirname(fname), exist_ok=True)\n",
    "\tnp.savez_compressed(fname,k=k_iso,om=om,S=E_iso)\n",
    "\tprint(\"Saved\",fname)"
   ]
  },
  {
   "cell_type": "code",
   "execution_count": 19,
   "metadata": {
    "ExecuteTime": {
     "end_time": "2020-05-04T07:26:52.264909Z",
     "start_time": "2020-05-04T07:26:52.257173Z"
    },
    "code_folding": [],
    "init_cell": true
   },
   "outputs": [],
   "source": [
    "def plot_spectra(region_id,seasons,t_res=\"hours\"):\n",
    "\tassert t_res in all_t_res,\"t_res not in [hours,days]\"\n",
    "\t\n",
    "\tfig, ax = plt.subplots(1,2,figsize=(15,6))\n",
    "\tax = ax.flat[:]\n",
    "\n",
    "\tfor j,season in enumerate(seasons):\n",
    "\t\tplt.sca(ax[j])\n",
    "\n",
    "\t\tfname = spectra_fn_fmt.format(region_id,\"KE\",season)\n",
    "\t\tprint(\"Loading\",fname)\n",
    "\t\ts_loaded = np.load(fname)\n",
    "\t\tk,om,S = s_loaded[\"k\"],s_loaded[\"om\"][:-150],s_loaded[\"S\"][:,:-150]\n",
    "\t\t#print(\"Horizontal scales (km)\",[\"{:.2f}\".format(1/k_) for k_ in k])\n",
    "\t\t#print(\"Time scales (h)\",[\"{:.2f}\".format(1/om_) for om_ in om])\n",
    "\t\tprint(\"Spectra shape\",S.shape)\n",
    "\n",
    "\t\t# Plot\n",
    "\t\tplt.pcolormesh(k,om,(om*S).T*k,cmap='rainbow',norm = LogNorm())\n",
    "\n",
    "\t\tplt.clim([1e-6,1e-2])\n",
    "\t\tplt.xscale('log')\n",
    "\t\tplt.xlim([k[1],k[-1]/2.5])\n",
    "\t\tplt.xticks([1/10,1/50,1/100,1/200],['10','50','100','200'])\n",
    "\t\tplt.yscale('log')\n",
    "\t\tplt.ylim([om[1],om[-100]])\n",
    "\t\tplt.yticks([1/3,1/6,1/12,1/24,1/(24*7),1/(24*30)],['3 h','6 h','12 h','1 d','1 w','1 mo'])\n",
    "\t\tplt.colorbar()\n",
    "\t\tplt.title(\"{}/{}\".format(region_id,season))\n",
    "\n",
    "\tplt.show()"
   ]
  },
  {
   "cell_type": "code",
   "execution_count": 23,
   "metadata": {
    "ExecuteTime": {
     "end_time": "2020-05-04T05:45:19.960488Z",
     "start_time": "2020-05-04T05:43:26.585866Z"
    }
   },
   "outputs": [
    {
     "name": "stdout",
     "output_type": "stream",
     "text": [
      "762 2640\n",
      "UV shape (288, 289, 2184)\n",
      "U,V shapes (288, 289, 2184) (288, 289, 2184)  -- total elements: 181778688\n",
      "U,V size in MB 1386.861328125 1386.861328125\n",
      "dx,dy,dt 1.9029611794667736 2.0694955950773455 1\n",
      "U,V energy (x,y,t) 1215404.4044919487 1231990.1209082925\n",
      "U,V energy (k,l,f) 990266.9316211771 1007779.2658212062\n",
      "Ratios E(x,y,t)/E(k,l,f) for U,V 1.227350288777387 1.2224801230697917\n",
      "Dividing by N (total # of elems) to get (approximate) PSD\n",
      "k,l,om shapes (288,) (289,) (1093,)\n",
      "sU,sV shapes (288, 289, 1093) (288, 289, 1093)\n",
      "min,max sE 3.0447358833151033e-12 4680.882386231974\n",
      "Spectrum isotropization\n",
      "Input shapes: E,k,l,f (288, 289, 1093) (288,) (289,) (1093,)\n",
      "Grid shapes: k,l,K (288, 289) (288, 289) (288, 289)\n",
      "Indices shape: x,y (288, 289) (288, 289)\n",
      "Nbins 144\n",
      "Saved /home/antonio/Tesis/spectra/762/KE_JFM_hours.npz\n"
     ]
    }
   ],
   "source": [
    "#plt.figure()\n",
    "#calculate_save_spectrum(762,\"ASO\")\n",
    "#plt.figure()\n",
    "calculate_save_spectrum(762,\"JFM\")"
   ]
  },
  {
   "cell_type": "code",
   "execution_count": null,
   "metadata": {
    "ExecuteTime": {
     "end_time": "2020-04-27T04:47:13.048924Z",
     "start_time": "2020-04-27T04:47:12.723934Z"
    }
   },
   "outputs": [],
   "source": [
    "plot_spectra(762,seasons)"
   ]
  },
  {
   "cell_type": "code",
   "execution_count": null,
   "metadata": {
    "ExecuteTime": {
     "end_time": "2020-04-27T04:47:13.053603Z",
     "start_time": "2020-04-27T04:43:02.393Z"
    }
   },
   "outputs": [],
   "source": [
    "for current,r_ids in ids_regions.items():\n",
    "    if current==\"Benguela\" or current==\"Peru\":\n",
    "        for season in idx_t.keys():\n",
    "            print(current,season)\n",
    "            for r_id in r_ids:\n",
    "                calculate_save_spectrum(r_id,season)"
   ]
  },
  {
   "cell_type": "code",
   "execution_count": null,
   "metadata": {
    "ExecuteTime": {
     "end_time": "2020-04-27T04:47:13.054679Z",
     "start_time": "2020-04-27T04:43:02.395Z"
    }
   },
   "outputs": [],
   "source": [
    "for r_id in ids_regions[\"California\"]:\n",
    "    plot_spectra(r_id,seasons)"
   ]
  },
  {
   "cell_type": "code",
   "execution_count": null,
   "metadata": {
    "ExecuteTime": {
     "end_time": "2020-04-27T04:47:13.055757Z",
     "start_time": "2020-04-27T04:43:02.397Z"
    }
   },
   "outputs": [],
   "source": [
    "for r_id in ids_regions[\"Canarias\"]:\n",
    "    plot_spectra(r_id,seasons)"
   ]
  },
  {
   "cell_type": "code",
   "execution_count": null,
   "metadata": {
    "ExecuteTime": {
     "end_time": "2020-04-27T04:47:13.056768Z",
     "start_time": "2020-04-27T04:43:02.399Z"
    }
   },
   "outputs": [],
   "source": [
    "for r_id in ids_regions[\"Peru\"]:\n",
    "    plot_spectra(r_id,seasons)"
   ]
  },
  {
   "cell_type": "code",
   "execution_count": null,
   "metadata": {
    "ExecuteTime": {
     "end_time": "2020-04-27T04:47:13.057984Z",
     "start_time": "2020-04-27T04:43:02.402Z"
    }
   },
   "outputs": [],
   "source": [
    "for r_id in ids_regions[\"Benguela\"]:\n",
    "    plot_spectra(r_id,seasons)"
   ]
  },
  {
   "cell_type": "code",
   "execution_count": null,
   "metadata": {
    "ExecuteTime": {
     "end_time": "2020-04-27T04:47:13.059039Z",
     "start_time": "2020-04-27T04:43:02.404Z"
    }
   },
   "outputs": [],
   "source": [
    "for r_id in ids_regions[\"Kuroshio\"]:\n",
    "    plot_spectra(r_id,seasons)"
   ]
  },
  {
   "cell_type": "code",
   "execution_count": null,
   "metadata": {
    "ExecuteTime": {
     "end_time": "2020-04-27T04:47:13.060047Z",
     "start_time": "2020-04-27T04:43:02.408Z"
    },
    "code_folding": []
   },
   "outputs": [],
   "source": [
    "%%script false\n",
    "%%javascript\n",
    "var cell = Jupyter.notebook.get_selected_cell();\n",
    "var config = cell.config;\n",
    "var patch = {\n",
    "      CodeCell:{\n",
    "        cm_config:{indentUnit: 4} // only change here.\n",
    "      }\n",
    "    }\n",
    "config.update(patch)\n",
    "\n",
    "// IPython.notebook.save_notebook()"
   ]
  },
  {
   "cell_type": "markdown",
   "metadata": {},
   "source": [
    "## Histogramas 2D de vorticidad-estiramiento"
   ]
  },
  {
   "cell_type": "code",
   "execution_count": null,
   "metadata": {
    "ExecuteTime": {
     "end_time": "2020-04-27T04:47:13.061156Z",
     "start_time": "2020-04-27T04:43:02.420Z"
    }
   },
   "outputs": [],
   "source": [
    "zrange=(-3.5,3.5)\n",
    "srange=(0,7)\n",
    "drange=(-3.5,3.5)\n",
    "zbins=np.linspace(*zrange)\n",
    "sbins=np.linspace(*srange)\n",
    "dbins=np.linspace(*drange)\n",
    "\n",
    "def zeta_sigma_hist(r_id,season,t_res=\"days\"):\n",
    "\tU,V = UV4id(r_id,season,t_res,t_firstaxis=True)\n",
    "\tDX,DY,F = dxdyf4id(r_id,t_res) # De hecho t_res no importa, porque es un valor fijo\n",
    "\t\n",
    "\tzeta = rv_(U,V,DX,DY)/F\n",
    "\t#delta = div_(U,V,DX,DY)/F\n",
    "\tsigma = np.abs(st_(U,V,DX,DY)/F)\n",
    "\tow = ow_(U,V,DX,DY)/(F**2)\n",
    "\tQ0 = np.std(ow)\n",
    "\tsigma_elip = np.sqrt(np.square(zbins)-Q0)\n",
    "\tsigma_hyp = np.sqrt(np.square(zbins)+Q0)\n",
    "\t\n",
    "\t\n",
    "\t#plt.figure(figsize=(15,6))\n",
    "\t#plt.subplot(1,2,1)\n",
    "\tplt.hist2d(zeta.flat[:],sigma.flat[:],bins=[zbins,sbins],density=True,norm=LogNorm(vmin=1e-5),cmap=plt.cm.cubehelix_r)\n",
    "\tplt.colorbar()\n",
    "\tplt.plot(zbins,sigma_elip,color='darkturquoise',linewidth=2)\n",
    "\tplt.plot(zbins,sigma_hyp,color='lightcoral',linewidth=2)\n",
    "\txlims = list(plt.xlim(zrange))\n",
    "\tylims = list(plt.ylim(srange))\n",
    "\typlus = xlims\n",
    "\tyminus = [-1*y for y in yplus]\n",
    "\t#plt.plot([0,0],ylims,linestyle=\":\",color='k',scalex=False,scaley=False) # Vertical line\n",
    "\t#plt.plot(xlims,yplus,linestyle='--',color='w', scalex=False, scaley=False)\n",
    "\t#plt.plot(xlims,yminus,linestyle='--',color='w', scalex=False, scaley=False)\n",
    "\tplt.xlabel(\"$\\zeta/f$\",size=\"xx-large\")\n",
    "\tplt.ylabel(\"$\\sigma/f$\",size=\"xx-large\")\n",
    "\t#plt.subplot(1,2,2)\n",
    "\t#plt.hist2d(zeta.flat[:],delta.flat[:],bins=100,density=True,norm=LogNorm(vmin=1e-4),cmap=plt.cm.gnuplot2_r)\n",
    "\t#plt.colorbar()\n",
    "\t#xlims = list(plt.xlim(zrange))\n",
    "\t#ylims = list(plt.ylim(drange))\n",
    "\t#plt.plot([0,0],ylims,linestyle=\":\",color='k',scalex=False,scaley=False) # Vertical line\n",
    "\t#plt.plot(xlims,[0,0],linestyle=\":\",color='k',scalex=False,scaley=False) # Horizontal line\n",
    "\t#plt.xlabel(\"$\\zeta/f$\",size=\"xx-large\")\n",
    "\t#plt.ylabel(\"$\\delta/f$\",size=\"xx-large\")\n",
    "\tplt.title(\"{} / {}\".format(r_id,season),size=\"xx-large\")\n",
    "\t#plt.show()"
   ]
  },
  {
   "cell_type": "code",
   "execution_count": null,
   "metadata": {
    "ExecuteTime": {
     "end_time": "2020-04-27T04:47:13.062128Z",
     "start_time": "2020-04-27T04:43:02.423Z"
    }
   },
   "outputs": [],
   "source": [
    "def plot_2dhists(current,t_res=\"days\"):\n",
    "\tfor r_id in ids_regions[current]:\n",
    "\t\tfig, ax = plt.subplots(1,2,figsize=(12,5))\n",
    "\t\tax = ax.flat[:]\n",
    "\t\tfor i,season in enumerate(seasons):\n",
    "\t\t\tplt.sca(ax[i])\n",
    "\t\t\tzeta_sigma_hist(r_id,season,t_res)\n",
    "\t\tplt.show()"
   ]
  },
  {
   "cell_type": "code",
   "execution_count": null,
   "metadata": {
    "ExecuteTime": {
     "end_time": "2020-04-27T04:47:13.063169Z",
     "start_time": "2020-04-27T04:43:02.425Z"
    },
    "scrolled": false
   },
   "outputs": [],
   "source": [
    "plot_2dhists(\"California\")"
   ]
  },
  {
   "cell_type": "code",
   "execution_count": null,
   "metadata": {
    "ExecuteTime": {
     "end_time": "2020-04-27T04:47:13.064153Z",
     "start_time": "2020-04-27T04:43:02.428Z"
    },
    "scrolled": false
   },
   "outputs": [],
   "source": [
    "plot_2dhists(\"Canarias\")"
   ]
  },
  {
   "cell_type": "code",
   "execution_count": null,
   "metadata": {
    "ExecuteTime": {
     "end_time": "2020-04-27T04:47:13.065203Z",
     "start_time": "2020-04-27T04:43:02.430Z"
    },
    "scrolled": false
   },
   "outputs": [],
   "source": [
    "plot_2dhists(\"Peru\")"
   ]
  },
  {
   "cell_type": "code",
   "execution_count": null,
   "metadata": {
    "ExecuteTime": {
     "end_time": "2020-04-27T04:47:13.066239Z",
     "start_time": "2020-04-27T04:43:02.434Z"
    },
    "scrolled": false
   },
   "outputs": [],
   "source": [
    "plot_2dhists(\"Benguela\")"
   ]
  },
  {
   "cell_type": "code",
   "execution_count": null,
   "metadata": {
    "ExecuteTime": {
     "end_time": "2020-04-27T04:47:13.067383Z",
     "start_time": "2020-04-27T04:43:02.437Z"
    },
    "scrolled": false
   },
   "outputs": [],
   "source": [
    "plot_2dhists(\"Kuroshio\")"
   ]
  },
  {
   "cell_type": "code",
   "execution_count": null,
   "metadata": {},
   "outputs": [],
   "source": []
  }
 ],
 "metadata": {
  "celltoolbar": "Initialization Cell",
  "kernelspec": {
   "display_name": "LLC",
   "language": "python",
   "name": "llc"
  },
  "language_info": {
   "codemirror_mode": {
    "name": "ipython",
    "version": 3
   },
   "file_extension": ".py",
   "mimetype": "text/x-python",
   "name": "python",
   "nbconvert_exporter": "python",
   "pygments_lexer": "ipython3",
   "version": "3.6.9"
  },
  "latex_envs": {
   "LaTeX_envs_menu_present": true,
   "autoclose": true,
   "autocomplete": true,
   "bibliofile": "biblio.bib",
   "cite_by": "apalike",
   "current_citInitial": 1,
   "eqLabelWithNumbers": true,
   "eqNumInitial": 1,
   "hotkeys": {
    "equation": "Ctrl-E",
    "itemize": "Ctrl-I"
   },
   "labels_anchors": false,
   "latex_user_defs": false,
   "report_style_numbering": false,
   "user_envs_cfg": false
  },
  "varInspector": {
   "cols": {
    "lenName": 16,
    "lenType": 16,
    "lenVar": 40
   },
   "kernels_config": {
    "python": {
     "delete_cmd_postfix": "",
     "delete_cmd_prefix": "del ",
     "library": "var_list.py",
     "varRefreshCmd": "print(var_dic_list())"
    },
    "r": {
     "delete_cmd_postfix": ") ",
     "delete_cmd_prefix": "rm(",
     "library": "var_list.r",
     "varRefreshCmd": "cat(var_dic_list()) "
    }
   },
   "position": {
    "height": "279px",
    "left": "1548.98px",
    "right": "20px",
    "top": "118px",
    "width": "350px"
   },
   "types_to_exclude": [
    "module",
    "function",
    "builtin_function_or_method",
    "instance",
    "_Feature"
   ],
   "window_display": false
  }
 },
 "nbformat": 4,
 "nbformat_minor": 2
}
