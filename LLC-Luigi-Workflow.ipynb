{
 "cells": [
  {
   "cell_type": "markdown",
   "metadata": {},
   "source": [
    "# Workflow para calcular el número de Rossby baroclínico en la corriente de Canarias\n",
    "\n",
    "Un workflow sirve para procesar grandes volúmenes de datos que puedan ser tratados por partes. En nuestro caso, vamos a procesar los datos de las velocidades horizontales (u,v) en función de la latitud, longitud y tiempo (lon,lat,t) para 2 capas (0 y ~400 m), ya que para cada par nos interesa calcular el número de Rossby baroclínico dado por:\n",
    "\n",
    "$Ro_b = \\left|\\frac{\\zeta_b}{f}\\right|$\n",
    "\n",
    "con $\\zeta_b = \\zeta_{z=0 m} - \\zeta_{z=-400 m}$\n",
    "\n",
    "La forma en que haremos la **paralelización** será por el eje temporal. De modo que cada hilo (o _thread_) calculará $Ro_b$ para un tiempo distinto, tanto para todas las longitudes de onda, como para sus componentes de alto y bajo número de onda, divididos mediante la escala de transición en donde las ondas internas dominan sobre los movimientos en balance.\n",
    "\n",
    "Para la caja 771 de LLC4320, esta escala se tomará a unos 75 km."
   ]
  },
  {
   "cell_type": "code",
   "execution_count": null,
   "metadata": {
    "ExecuteTime": {
     "end_time": "2020-04-27T07:24:36.904131Z",
     "start_time": "2020-04-27T07:24:33.130Z"
    },
    "init_cell": true
   },
   "outputs": [],
   "source": [
    "import warnings\n",
    "warnings.filterwarnings('ignore')"
   ]
  },
  {
   "cell_type": "code",
   "execution_count": 16,
   "metadata": {
    "ExecuteTime": {
     "end_time": "2020-04-27T07:24:36.425414Z",
     "start_time": "2020-04-27T07:24:36.423316Z"
    },
    "init_cell": true
   },
   "outputs": [],
   "source": [
    "from spectral_analysis.preprocess.common_vars import DATA_FOLDER,MODEL_FOLDER,LUIGI_OUT_FOLDER\n",
    "grid_path = \"{}/LLC2160/grid/\".format(MODEL_FOLDER)"
   ]
  },
  {
   "cell_type": "code",
   "execution_count": 17,
   "metadata": {
    "ExecuteTime": {
     "end_time": "2020-04-27T07:24:36.429419Z",
     "start_time": "2020-04-27T07:24:36.426805Z"
    },
    "init_cell": true
   },
   "outputs": [],
   "source": [
    "import pandas as pd\n",
    "import geopandas as gpd\n",
    "#import dask.dataframe as dd\n",
    "import matplotlib.pyplot as plt\n",
    "import matplotlib.colors as colors\n",
    "import numpy as np\n",
    "\n",
    "from xmitgcm import llcreader"
   ]
  },
  {
   "cell_type": "code",
   "execution_count": 18,
   "metadata": {
    "ExecuteTime": {
     "end_time": "2020-04-27T07:24:36.433944Z",
     "start_time": "2020-04-27T07:24:36.430847Z"
    },
    "init_cell": true
   },
   "outputs": [
    {
     "name": "stdout",
     "output_type": "stream",
     "text": [
      "1.1.4\n",
      "0.4.1+9.gde396c2\n",
      "1.17.3\n"
     ]
    }
   ],
   "source": [
    "import dask,xmitgcm,numpy\n",
    "print(dask.__version__)\n",
    "print(xmitgcm.__version__)\n",
    "print(numpy.__version__)"
   ]
  },
  {
   "cell_type": "code",
   "execution_count": 19,
   "metadata": {
    "ExecuteTime": {
     "end_time": "2020-04-27T07:24:36.437216Z",
     "start_time": "2020-04-27T07:24:36.435333Z"
    },
    "init_cell": true
   },
   "outputs": [],
   "source": [
    "# Resolución: Puntos por grado\n",
    "map_res = 48"
   ]
  },
  {
   "cell_type": "code",
   "execution_count": 20,
   "metadata": {
    "ExecuteTime": {
     "end_time": "2020-04-27T07:24:36.596685Z",
     "start_time": "2020-04-27T07:24:36.438649Z"
    },
    "init_cell": true
   },
   "outputs": [
    {
     "data": {
      "text/plain": [
       "['Eta',\n",
       " 'KPPhbl',\n",
       " 'oceFWflx',\n",
       " 'oceQnet',\n",
       " 'oceQsw',\n",
       " 'oceSflux',\n",
       " 'oceTAUX',\n",
       " 'oceTAUY',\n",
       " 'PhiBot',\n",
       " 'Salt',\n",
       " 'SIarea',\n",
       " 'SIheff',\n",
       " 'SIhsalt',\n",
       " 'SIhsnow',\n",
       " 'SIuice',\n",
       " 'SIvice',\n",
       " 'Theta',\n",
       " 'U',\n",
       " 'V',\n",
       " 'W']"
      ]
     },
     "execution_count": 20,
     "metadata": {},
     "output_type": "execute_result"
    }
   ],
   "source": [
    "if map_res==24:\n",
    "    model = llcreader.ECCOPortalLLC2160Model()\n",
    "elif map_res==48:\n",
    "    model = llcreader.ECCOPortalLLC4320Model()\n",
    "else:\n",
    "    raise Exception(\"Invalid resolution\")\n",
    "model.varnames"
   ]
  },
  {
   "cell_type": "code",
   "execution_count": 21,
   "metadata": {
    "ExecuteTime": {
     "end_time": "2020-04-27T07:24:36.600681Z",
     "start_time": "2020-04-27T07:24:36.598369Z"
    },
    "init_cell": true
   },
   "outputs": [],
   "source": [
    "## Variables a utilizar en el workflow (_wf)\n",
    "vars_wf = [\"U\",\"V\"] # Variables del modelo"
   ]
  },
  {
   "cell_type": "code",
   "execution_count": 22,
   "metadata": {
    "ExecuteTime": {
     "end_time": "2020-04-27T07:24:36.605088Z",
     "start_time": "2020-04-27T07:24:36.602426Z"
    },
    "init_cell": true
   },
   "outputs": [],
   "source": [
    "# Parámetros para la extracción de los datos\n",
    "map_mode = 'faces' # 'faces' or 'latlon'\n",
    "cols2drop_uv=['time','niter','face','k']\n",
    "area_face=2 # Los datos de Canarias están en la cara 2: https://ecco-v4-python-tutorial.readthedocs.io/ECCO_v4_Plotting_Tiles.html\n",
    "#area_face=10 # Los datos de California están en la cara 10"
   ]
  },
  {
   "cell_type": "markdown",
   "metadata": {},
   "source": [
    "##### Prueba: Definimos los tiempos que usaremos (invierno y verano 2012)"
   ]
  },
  {
   "cell_type": "code",
   "execution_count": 54,
   "metadata": {
    "ExecuteTime": {
     "end_time": "2020-04-27T04:56:44.335434Z",
     "start_time": "2020-04-27T04:56:44.332845Z"
    }
   },
   "outputs": [
    {
     "name": "stdout",
     "output_type": "stream",
     "text": [
      "1310545\n",
      "379.20862268518516\n"
     ]
    }
   ],
   "source": [
    "print(model.iter_stop)\n",
    "print(model.iter_stop/(144*24))"
   ]
  },
  {
   "cell_type": "code",
   "execution_count": 55,
   "metadata": {
    "ExecuteTime": {
     "end_time": "2020-04-27T04:56:44.340163Z",
     "start_time": "2020-04-27T04:56:44.337120Z"
    }
   },
   "outputs": [
    {
     "name": "stdout",
     "output_type": "stream",
     "text": [
      "1495152\n",
      "432.625\n"
     ]
    }
   ],
   "source": [
    "model.iter_stop = 1495152 #(hasta 2012-11-15T14:00:00)\n",
    "print(model.iter_stop)\n",
    "print(model.iter_stop/(144*24))"
   ]
  },
  {
   "cell_type": "code",
   "execution_count": 56,
   "metadata": {
    "ExecuteTime": {
     "end_time": "2020-04-27T04:57:35.050182Z",
     "start_time": "2020-04-27T04:56:44.342018Z"
    }
   },
   "outputs": [
    {
     "data": {
      "text/plain": [
       "<xarray.Dataset>\n",
       "Dimensions:  (face: 13, i: 4320, i_g: 4320, j: 4320, j_g: 4320, k: 90, k_l: 90, k_p1: 90, k_u: 90, time: 10311)\n",
       "Coordinates:\n",
       "  * face     (face) int64 0 1 2 3 4 5 6 7 8 9 10 11 12\n",
       "  * i        (i) int64 0 1 2 3 4 5 6 7 ... 4313 4314 4315 4316 4317 4318 4319\n",
       "  * i_g      (i_g) int64 0 1 2 3 4 5 6 7 ... 4313 4314 4315 4316 4317 4318 4319\n",
       "  * j        (j) int64 0 1 2 3 4 5 6 7 ... 4313 4314 4315 4316 4317 4318 4319\n",
       "  * j_g      (j_g) int64 0 1 2 3 4 5 6 7 ... 4313 4314 4315 4316 4317 4318 4319\n",
       "  * k        (k) int64 0 1 2 3 4 5 6 7 8 9 10 ... 80 81 82 83 84 85 86 87 88 89\n",
       "  * k_u      (k_u) int64 0 1 2 3 4 5 6 7 8 9 ... 80 81 82 83 84 85 86 87 88 89\n",
       "  * k_l      (k_l) int64 0 1 2 3 4 5 6 7 8 9 ... 80 81 82 83 84 85 86 87 88 89\n",
       "  * k_p1     (k_p1) int64 0 1 2 3 4 5 6 7 8 9 ... 80 81 82 83 84 85 86 87 88 89\n",
       "    niter    (time) int64 ...\n",
       "  * time     (time) datetime64[ns] 2011-09-13 ... 2012-11-15T14:00:00\n",
       "Data variables:\n",
       "    U        (time, k, face, j, i_g) >f4 dask.array<chunksize=(1, 1, 3, 4320, 4320), meta=np.ndarray>\n",
       "    V        (time, k, face, j_g, i) >f4 dask.array<chunksize=(1, 1, 3, 4320, 4320), meta=np.ndarray>"
      ]
     },
     "execution_count": 56,
     "metadata": {},
     "output_type": "execute_result"
    }
   ],
   "source": [
    "ds_tst = model.get_dataset(varnames=vars_wf,k_chunksize=1,type=map_mode,iter_step=144)\n",
    "ds_tst"
   ]
  },
  {
   "cell_type": "code",
   "execution_count": 57,
   "metadata": {
    "ExecuteTime": {
     "end_time": "2020-04-27T04:57:35.077182Z",
     "start_time": "2020-04-27T04:57:35.052441Z"
    }
   },
   "outputs": [
    {
     "data": {
      "text/plain": [
       "<xarray.Dataset>\n",
       "Dimensions:  (i: 4320, i_g: 4320, j: 4320, j_g: 4320, k_l: 90, k_p1: 90, k_u: 90)\n",
       "Coordinates:\n",
       "    face     int64 10\n",
       "  * i        (i) int64 0 1 2 3 4 5 6 7 ... 4313 4314 4315 4316 4317 4318 4319\n",
       "  * i_g      (i_g) int64 0 1 2 3 4 5 6 7 ... 4313 4314 4315 4316 4317 4318 4319\n",
       "  * j        (j) int64 0 1 2 3 4 5 6 7 ... 4313 4314 4315 4316 4317 4318 4319\n",
       "  * j_g      (j_g) int64 0 1 2 3 4 5 6 7 ... 4313 4314 4315 4316 4317 4318 4319\n",
       "    k        int64 0\n",
       "  * k_u      (k_u) int64 0 1 2 3 4 5 6 7 8 9 ... 80 81 82 83 84 85 86 87 88 89\n",
       "  * k_l      (k_l) int64 0 1 2 3 4 5 6 7 8 9 ... 80 81 82 83 84 85 86 87 88 89\n",
       "  * k_p1     (k_p1) int64 0 1 2 3 4 5 6 7 8 9 ... 80 81 82 83 84 85 86 87 88 89\n",
       "    niter    int64 ...\n",
       "    time     datetime64[ns] 2012-11-15T14:00:00\n",
       "Data variables:\n",
       "    U        (j, i_g) >f4 dask.array<chunksize=(4320, 4320), meta=np.ndarray>\n",
       "    V        (j_g, i) >f4 dask.array<chunksize=(4320, 4320), meta=np.ndarray>"
      ]
     },
     "execution_count": 57,
     "metadata": {},
     "output_type": "execute_result"
    }
   ],
   "source": [
    "ds_time_tst = ds_tst.isel(k=0,face=10,time=-1)\n",
    "ds_time_tst"
   ]
  },
  {
   "cell_type": "code",
   "execution_count": null,
   "metadata": {
    "ExecuteTime": {
     "start_time": "2020-04-27T04:55:02.358Z"
    }
   },
   "outputs": [],
   "source": [
    "# Funciona hasta 2012-11-15T14:00:00\n",
    "U_tst = ds_time_tst.U.values"
   ]
  },
  {
   "cell_type": "code",
   "execution_count": 23,
   "metadata": {
    "ExecuteTime": {
     "end_time": "2020-04-27T07:24:36.609540Z",
     "start_time": "2020-04-27T07:24:36.606554Z"
    },
    "init_cell": true
   },
   "outputs": [
    {
     "name": "stdout",
     "output_type": "stream",
     "text": [
      "91\n"
     ]
    }
   ],
   "source": [
    "## Invierno\n",
    "idx_t_JFM = [i for i in range(377) if i>=110 and i<201] # Tiempos correspondientes a los 91 días de JFM\n",
    "#idx_t_JFM = [(24*i)+hr for i in range(377) if i>=110 and i<201 for hr in range(24)] # Tiempos correspondientes a los 91*24 horas de JFM\n",
    "print(len(idx_t_JFM))"
   ]
  },
  {
   "cell_type": "code",
   "execution_count": null,
   "metadata": {
    "ExecuteTime": {
     "start_time": "2020-04-27T04:55:02.365Z"
    }
   },
   "outputs": [],
   "source": [
    "ds_tst_JFM = ds_tst.isel(time=idx_t_JFM) # JFM ?\n",
    "ds_tst_JFM.time.values"
   ]
  },
  {
   "cell_type": "code",
   "execution_count": null,
   "metadata": {
    "ExecuteTime": {
     "start_time": "2020-04-27T04:55:02.369Z"
    }
   },
   "outputs": [],
   "source": [
    "ds_tst_JFM0 = ds_tst.isel(time=idx_t_JFM[:2]) # JFM ?\n",
    "ds_tst_JFM0.time.values"
   ]
  },
  {
   "cell_type": "code",
   "execution_count": 24,
   "metadata": {
    "ExecuteTime": {
     "end_time": "2020-04-27T07:24:36.613995Z",
     "start_time": "2020-04-27T07:24:36.611011Z"
    },
    "init_cell": true
   },
   "outputs": [
    {
     "name": "stdout",
     "output_type": "stream",
     "text": [
      "85\n"
     ]
    }
   ],
   "source": [
    "## Verano\n",
    "#idx_t_ASO = [i for i in range(377) if i>=323 or i<48] # Tiempos correspondientes a los 92 días de ASO, 2011-2012\n",
    "idx_t_JAS = [i for i in range(377) if i>=292] # Tiempos correspondientes a los 54 días de JAS 2012\n",
    "# Tiempos correspondientes a los 54*24-18 horas de JAS 2012. El 23 de septiembre solo tiene hasta las 5:00 h\n",
    "#idx_t_JAS = [(24*i)+hr for i in range(377) if i>=292  for hr in range(24)][:-18]\n",
    "print(len(idx_t_JAS))"
   ]
  },
  {
   "cell_type": "code",
   "execution_count": null,
   "metadata": {
    "ExecuteTime": {
     "start_time": "2020-04-27T04:55:02.377Z"
    }
   },
   "outputs": [],
   "source": [
    "ds_tst_ASO = ds_tst.isel(time=idx_t_JAS) # Summer 2012\n",
    "ds_tst_ASO.time"
   ]
  },
  {
   "cell_type": "code",
   "execution_count": null,
   "metadata": {
    "ExecuteTime": {
     "start_time": "2020-04-27T04:55:02.381Z"
    },
    "scrolled": true
   },
   "outputs": [],
   "source": [
    "ds_tst_JFMASO = ds_tst.isel(time=idx_t_JFM+idx_t_JAS) # JFM & JAS 2012\n",
    "ds_tst_JFMASO.time"
   ]
  },
  {
   "cell_type": "markdown",
   "metadata": {},
   "source": [
    "### Hacemos la prueba con todos los 377 tiempos disponibles"
   ]
  },
  {
   "cell_type": "code",
   "execution_count": null,
   "metadata": {
    "ExecuteTime": {
     "start_time": "2020-04-27T04:55:02.393Z"
    }
   },
   "outputs": [],
   "source": [
    "ds = model.get_dataset(varnames=vars_wf,k_chunksize=1,type=map_mode,iter_step=144*24).isel(face=area_face) # 144 iters = 1 hr\n",
    "ds"
   ]
  },
  {
   "cell_type": "code",
   "execution_count": null,
   "metadata": {
    "ExecuteTime": {
     "start_time": "2020-04-27T04:55:02.399Z"
    }
   },
   "outputs": [],
   "source": [
    "#ds.niter.values"
   ]
  },
  {
   "cell_type": "code",
   "execution_count": null,
   "metadata": {
    "ExecuteTime": {
     "start_time": "2020-04-27T04:55:02.403Z"
    }
   },
   "outputs": [],
   "source": [
    "times_wf = ds.time.values ## Datos horarios\n",
    "times_wf"
   ]
  },
  {
   "cell_type": "code",
   "execution_count": null,
   "metadata": {
    "ExecuteTime": {
     "start_time": "2020-04-27T04:55:02.408Z"
    }
   },
   "outputs": [],
   "source": [
    "# Tamaño total en GB\n",
    "ds.nbytes / (1024*1024*1024)"
   ]
  },
  {
   "cell_type": "code",
   "execution_count": null,
   "metadata": {
    "ExecuteTime": {
     "start_time": "2020-04-27T04:55:02.413Z"
    }
   },
   "outputs": [],
   "source": [
    "# Índices para longitud (i) y latitud (j) -- necesitamos convertirlos a grados (lat-lon)\n",
    "i = ds.i.values\n",
    "j = ds.j.values"
   ]
  },
  {
   "cell_type": "code",
   "execution_count": null,
   "metadata": {
    "ExecuteTime": {
     "start_time": "2020-04-27T04:55:02.420Z"
    }
   },
   "outputs": [],
   "source": [
    "%%script false \n",
    "df_U_kt0 = ds.U.isel(k=0,time=0).to_dataframe()\n",
    "df_U_kt0.reset_index(inplace=True)\n",
    "df_U_kt0.head()"
   ]
  },
  {
   "cell_type": "code",
   "execution_count": null,
   "metadata": {
    "ExecuteTime": {
     "start_time": "2020-04-27T04:55:02.424Z"
    }
   },
   "outputs": [],
   "source": [
    "%%script false \n",
    "# Al hacer pivot_table, le damos la forma de matriz\n",
    "df_U_kt0 = df_U_kt0.drop(cols2drop_uv,axis=1).pivot_table(index='j',columns='i_g',dropna=False)"
   ]
  },
  {
   "cell_type": "code",
   "execution_count": null,
   "metadata": {
    "ExecuteTime": {
     "start_time": "2020-04-27T04:55:02.428Z"
    }
   },
   "outputs": [],
   "source": [
    "vals_U_kt0 = ds.U.isel(k=0,time=0).values\n",
    "#vals_np.shape"
   ]
  },
  {
   "cell_type": "code",
   "execution_count": null,
   "metadata": {
    "ExecuteTime": {
     "start_time": "2020-04-27T04:55:02.433Z"
    },
    "scrolled": true
   },
   "outputs": [],
   "source": [
    "plt.pcolormesh(i,j,vals_U_kt0)\n",
    "plt.colorbar()\n",
    "plt.show()"
   ]
  },
  {
   "cell_type": "markdown",
   "metadata": {},
   "source": [
    "## *Conversión de índices (i,j) a (longitud,latitud)\n",
    "\n",
    "Necesitamos \"convertir\" los índices (i,j) a (lon,lat)\n",
    "\n",
    "La cara 2 tiene los siguientes rangos (aproximados):\n",
    " - Longitud: -35 a 55 (90 grados)\n",
    " - Latitud: 13.5 a 71 (57.5 grados)\n",
    " \n",
    "\\* Ya no será necesario. Ir a siguiente sección"
   ]
  },
  {
   "cell_type": "code",
   "execution_count": null,
   "metadata": {
    "ExecuteTime": {
     "start_time": "2020-04-27T04:55:02.448Z"
    }
   },
   "outputs": [],
   "source": [
    "%%script false \n",
    "# La longitud es sencilla de convertir\n",
    "min_lon = -35\n",
    "lon = min_lon+i/map_res\n",
    "\n",
    "lon_i = ((lon_,i_,1/map_res) for lon_,i_ in zip(lon,i))\n",
    "lon_i_df = pd.DataFrame(lon_i,columns=[\"lon\",\"i\",\"d_lon\"])\n",
    "lon_i_df.set_index(\"lon\",inplace=True)\n",
    "#lon_i_df.head()"
   ]
  },
  {
   "cell_type": "code",
   "execution_count": null,
   "metadata": {
    "ExecuteTime": {
     "start_time": "2020-04-27T04:55:02.454Z"
    }
   },
   "outputs": [],
   "source": [
    "%%script false \n",
    "min_lat = 13.5\n",
    "#max_lat = 71 # Algo así deberíamos de obtener en max(lat)\n",
    "lat = np.zeros((len(j),))\n",
    "lat[0] = min_lat\n",
    "del_lat = np.zeros((len(j),))\n",
    "del_lat[0] = np.cos(min_lat*np.pi/180)/map_res\n",
    "for jj in range(1,len(j)):\n",
    "    del_lat[jj] = np.cos(lat[jj-1]*np.pi/180)/map_res\n",
    "    lat[jj] = lat[jj-1] + del_lat[jj]\n",
    "print(min(lat))\n",
    "print(max(lat))\n",
    "\n",
    "lat_j = ((lat_,j_,dlat) for lat_,j_,dlat in zip(lat,j,del_lat))\n",
    "lat_j_df = pd.DataFrame(lat_j,columns=[\"lat\",\"j\",\"d_lat\"])\n",
    "lat_j_df.set_index(\"lat\",inplace=True)"
   ]
  },
  {
   "cell_type": "markdown",
   "metadata": {},
   "source": [
    "## Leyendo (lon,lat) directamente de la malla 1/24\n"
   ]
  },
  {
   "cell_type": "code",
   "execution_count": null,
   "metadata": {
    "ExecuteTime": {
     "start_time": "2020-04-27T04:55:02.467Z"
    }
   },
   "outputs": [],
   "source": [
    "from xmitgcm import open_mdsdataset"
   ]
  },
  {
   "cell_type": "code",
   "execution_count": null,
   "metadata": {
    "ExecuteTime": {
     "start_time": "2020-04-27T04:55:02.472Z"
    }
   },
   "outputs": [],
   "source": [
    "grid_ds = open_mdsdataset(grid_path, read_grid=True, iters=None, default_dtype=np.float32, geometry='llc')"
   ]
  },
  {
   "cell_type": "code",
   "execution_count": null,
   "metadata": {
    "ExecuteTime": {
     "start_time": "2020-04-27T04:55:02.476Z"
    }
   },
   "outputs": [],
   "source": [
    "grid_ds\n",
    "#grid_ds.Zl.values ## z=-500 m está en el índice 40"
   ]
  },
  {
   "cell_type": "code",
   "execution_count": null,
   "metadata": {
    "ExecuteTime": {
     "start_time": "2020-04-27T04:55:02.479Z"
    }
   },
   "outputs": [],
   "source": [
    "print(\"Fetching grid lon\")\n",
    "LON_24 = grid_ds.XG.isel(face=2).values\n",
    "print(\"Fetching grid lat\")\n",
    "LAT_24 = grid_ds.YG.isel(face=2).values\n",
    "print(\"Fetching grid depth\")\n",
    "DEPTH_24 = grid_ds.Depth.isel(face=2).values"
   ]
  },
  {
   "cell_type": "code",
   "execution_count": null,
   "metadata": {
    "ExecuteTime": {
     "start_time": "2020-04-27T04:55:02.483Z"
    }
   },
   "outputs": [],
   "source": [
    "print(LAT_24.shape)\n",
    "print(LON_24.shape)\n",
    "print(DEPTH_24.shape)"
   ]
  },
  {
   "cell_type": "code",
   "execution_count": null,
   "metadata": {
    "ExecuteTime": {
     "start_time": "2020-04-27T04:55:02.487Z"
    },
    "scrolled": true
   },
   "outputs": [],
   "source": [
    "plt.figure(figsize=(8,5))\n",
    "plt.contour(LON_24,LAT_24,DEPTH_24,[0],colors='black')\n",
    "_c = plt.pcolormesh(LON_24,LAT_24,DEPTH_24,cmap=plt.cm.Greys)\n",
    "plt.colorbar(_c)\n",
    "plt.show()"
   ]
  },
  {
   "cell_type": "markdown",
   "metadata": {},
   "source": [
    "### Interpolamos de la resolución de la malla 1/24 a 1/48"
   ]
  },
  {
   "cell_type": "code",
   "execution_count": null,
   "metadata": {
    "ExecuteTime": {
     "start_time": "2020-04-27T04:55:02.500Z"
    }
   },
   "outputs": [],
   "source": [
    "from scipy.interpolate import interp2d\n",
    "\n",
    "def interpmat_48(grid_mat):\n",
    "    # Old\n",
    "    nrow,ncol = grid_mat.shape\n",
    "    rows = np.arange(nrow)\n",
    "    cols = np.arange(ncol)\n",
    "    interp = interp2d(cols,rows,grid_mat,kind='cubic')\n",
    "    # New \n",
    "    new_r = np.arange(nrow*2)/2\n",
    "    new_c = np.arange(ncol*2)/2\n",
    "    return interp(new_c,new_r)"
   ]
  },
  {
   "cell_type": "code",
   "execution_count": null,
   "metadata": {
    "ExecuteTime": {
     "start_time": "2020-04-27T04:55:02.503Z"
    }
   },
   "outputs": [],
   "source": [
    "LAT_48 = interpmat_48(LAT_24)\n",
    "LON_48 = interpmat_48(LON_24)\n",
    "DEPTH_48 = interpmat_48(DEPTH_24)"
   ]
  },
  {
   "cell_type": "code",
   "execution_count": null,
   "metadata": {
    "ExecuteTime": {
     "start_time": "2020-04-27T04:55:02.506Z"
    }
   },
   "outputs": [],
   "source": [
    "print(LON_48.shape)\n",
    "print(LAT_48.shape)\n",
    "print(DEPTH_48.shape)"
   ]
  },
  {
   "cell_type": "code",
   "execution_count": null,
   "metadata": {
    "ExecuteTime": {
     "start_time": "2020-04-27T04:55:02.510Z"
    }
   },
   "outputs": [],
   "source": [
    "plt.figure(figsize=(8,5))\n",
    "plt.contour(LON_48,LAT_48,DEPTH_48,[0.1],colors='black')\n",
    "_c = plt.pcolormesh(LON_48,LAT_48,DEPTH_48,cmap=plt.cm.Greys)\n",
    "plt.colorbar(_c)\n",
    "plt.show()"
   ]
  },
  {
   "cell_type": "markdown",
   "metadata": {},
   "source": [
    "#### Ejemplo: Graficamos la velocidad U con ambas resoluciones"
   ]
  },
  {
   "cell_type": "code",
   "execution_count": null,
   "metadata": {
    "ExecuteTime": {
     "start_time": "2020-04-27T04:55:02.523Z"
    }
   },
   "outputs": [],
   "source": [
    "fig = plt.figure(figsize=(15,5))\n",
    "ax1 = fig.add_subplot(1,2,1)\n",
    "ax2 = fig.add_subplot(1,2,2)\n",
    "_c1 = ax1.pcolormesh(LON_24,LAT_24,vals_U_kt0[::2,::2])\n",
    "_c2 = ax2.pcolormesh(LON_48,LAT_48,vals_U_kt0)\n",
    "fig.colorbar(_c1,ax=ax1)\n",
    "fig.colorbar(_c2,ax=ax2)\n",
    "fig.show()"
   ]
  },
  {
   "cell_type": "markdown",
   "metadata": {},
   "source": [
    "### Trabajando con datos en las celdas 7-12"
   ]
  },
  {
   "cell_type": "code",
   "execution_count": null,
   "metadata": {
    "ExecuteTime": {
     "start_time": "2020-04-27T04:55:02.535Z"
    }
   },
   "outputs": [],
   "source": [
    "##%%script false\n",
    "## Experimental solamente\n",
    "cell=10\n",
    "if cell<=6:\n",
    "    print(\"No rot\")\n",
    "else:\n",
    "    print(\"rot\")"
   ]
  },
  {
   "cell_type": "code",
   "execution_count": null,
   "metadata": {
    "ExecuteTime": {
     "start_time": "2020-04-27T04:55:02.539Z"
    }
   },
   "outputs": [],
   "source": [
    "##%%script false\n",
    "## Experimental solamente\n",
    "print(\"Fetching grid lon\")\n",
    "LON_24_ = np.rot90(grid_ds.XG.isel(face=cell).values)\n",
    "print(\"Fetching grid lat\")\n",
    "LAT_24_ = np.rot90(grid_ds.YG.isel(face=cell).values)\n",
    "\n",
    "LON_48_ = interpmat_48(LON_24_)\n",
    "LAT_48_ = interpmat_48(LAT_24_)"
   ]
  },
  {
   "cell_type": "code",
   "execution_count": null,
   "metadata": {
    "ExecuteTime": {
     "start_time": "2020-04-27T04:55:02.542Z"
    }
   },
   "outputs": [],
   "source": [
    "##%%script false\n",
    "## Experimental solamente\n",
    "DY_24_ = np.rot90(grid_ds.dyG.isel(face=cell).values)\n",
    "DX_24_ = np.rot90(grid_ds.dxG.isel(face=cell).values)\n",
    "\n",
    "DY_48_ = interpmat_48(DY_24_/2)\n",
    "DX_48_ = interpmat_48(DX_24_/2)"
   ]
  },
  {
   "cell_type": "code",
   "execution_count": null,
   "metadata": {
    "ExecuteTime": {
     "start_time": "2020-04-27T04:55:02.546Z"
    }
   },
   "outputs": [],
   "source": [
    "##%%script false\n",
    "## Experimental solamente\n",
    "ds_ = model.get_dataset(varnames=vars_wf,k_chunksize=1,type=map_mode,iter_step=144*24).isel(face=cell) # 144 iters = 1 hr\n",
    "vals_u_ = ds_.U.isel(time=0,k=0).values"
   ]
  },
  {
   "cell_type": "code",
   "execution_count": null,
   "metadata": {
    "ExecuteTime": {
     "start_time": "2020-04-27T04:55:02.549Z"
    }
   },
   "outputs": [],
   "source": [
    "##%%script false\n",
    "## Experimental solamente\n",
    "fig = plt.figure(figsize=(15,15))\n",
    "ax1 = fig.add_subplot(2,2,1)\n",
    "ax2 = fig.add_subplot(2,2,2)\n",
    "ax3 = fig.add_subplot(2,2,3)\n",
    "ax4 = fig.add_subplot(2,2,4)\n",
    "ax1.pcolormesh(vals_u_)\n",
    "dat_ = np.rot90(vals_u_)\n",
    "ax2.pcolormesh(LON_48_,LAT_48_,dat_)\n",
    "c_lon = ax3.pcolormesh(LON_48_)\n",
    "c_lat = ax4.pcolormesh(LAT_48_)\n",
    "fig.colorbar(c_lon,ax=ax3)\n",
    "fig.colorbar(c_lat,ax=ax4)\n",
    "\n",
    "plt.show()"
   ]
  },
  {
   "cell_type": "markdown",
   "metadata": {},
   "source": [
    "#### Tomando una sección de la celda"
   ]
  },
  {
   "cell_type": "code",
   "execution_count": null,
   "metadata": {
    "ExecuteTime": {
     "start_time": "2020-04-27T04:55:02.563Z"
    }
   },
   "outputs": [],
   "source": [
    "##%%script false\n",
    "## Experimental solamente\n",
    "min_i,min_j = find_ij_4lonlat(-128,29.09675,LON_48_,LAT_48_)\n",
    "max_i,max_j = find_ij_4lonlat(-122,33.82725,LON_48_,LAT_48_)\n",
    "#min_i,min_j = find_ij_4lonlat(-120,15,LON_48_,LAT_48_)\n",
    "#max_i,max_j = find_ij_4lonlat(-80,55,LON_48_,LAT_48_)\n",
    "max_i = max_i+1\n",
    "max_j = max_j+1\n",
    "#min_i,min_j,max_i,max_j = 3456,0,3744,289\n",
    "#min_i,min_j,max_i,max_j = 3166,0,3457,289\n",
    "\n",
    "i_slice = slice(min_i,max_i)\n",
    "j_slice = slice(min_j,max_j)\n",
    "print(min_i,min_j,max_i,max_j)\n",
    "\n",
    "print(\"Esquina inferior izquierda\",LON_48_[min_j,min_i],LAT_48_[min_j,min_i])\n",
    "print(\"Esquina superior derecha\",LON_48_[max_j,max_i],LAT_48_[max_j,max_i])"
   ]
  },
  {
   "cell_type": "code",
   "execution_count": null,
   "metadata": {
    "ExecuteTime": {
     "start_time": "2020-04-27T04:55:02.567Z"
    }
   },
   "outputs": [],
   "source": [
    "##%%script false\n",
    "## Experimental solamente\n",
    "LON__ = LON_48_[min_j:max_j,min_i:max_i]\n",
    "LAT__ = LAT_48_[min_j:max_j,min_i:max_i]\n",
    "DX__ = DX_48_[min_j:max_j,min_i:max_i]\n",
    "DY__ = DY_48_[min_j:max_j,min_i:max_i]\n",
    "\n",
    "ds__ = model.get_dataset(varnames=vars_wf,k_chunksize=1,type=map_mode,iter_step=144*24).isel(face=cell,time=0,k=0) # 144 iters = 1 hr\n",
    "vals_u__ = np.rot90(ds__.U.values)[min_j:max_j,min_i:max_i]\n",
    "vals_v__ = np.rot90(ds__.V.values)[min_j:max_j,min_i:max_i]\n",
    "rv__ = rv_(vals_u__,vals_v__,DX__,DY__)\n",
    "divnorm__ = colors.DivergingNorm(vmin=np.min(rv__), vcenter=0, vmax=np.max(rv__))\n",
    "\n",
    "print(LON__.shape)\n",
    "print(LAT__.shape)\n",
    "print(DX__.shape)\n",
    "print(DY__.shape)\n",
    "print(vals_u__.shape)"
   ]
  },
  {
   "cell_type": "code",
   "execution_count": null,
   "metadata": {
    "ExecuteTime": {
     "start_time": "2020-04-27T04:55:02.570Z"
    }
   },
   "outputs": [],
   "source": [
    "##%%script false\n",
    "## Experimental solamente\n",
    "fig = plt.figure(figsize=(15,25))\n",
    "ax1 = fig.add_subplot(3,2,1)\n",
    "ax2 = fig.add_subplot(3,2,2)\n",
    "ax3 = fig.add_subplot(3,2,3)\n",
    "ax4 = fig.add_subplot(3,2,4)\n",
    "ax5 = fig.add_subplot(3,2,5)\n",
    "ax6 = fig.add_subplot(3,2,6)\n",
    "nn_ = 5\n",
    "_c1 = ax1.pcolormesh(rv__,norm=divnorm__,cmap=plt.cm.RdBu)\n",
    "\n",
    "#ax1.quiver(vals_u__[::nn_,::nn_],vals_v__[::nn_,::nn_])\n",
    "ax2.pcolormesh(LON__,LAT__,rv__,norm=divnorm__,cmap=plt.cm.RdBu)\n",
    "ax2.quiver(LON__[::nn_,::nn_],LAT__[::nn_,::nn_],vals_u__[::nn_,::nn_],vals_v__[::nn_,::nn_])\n",
    "_c3 = ax3.pcolormesh(DX__)\n",
    "_c4 = ax4.pcolormesh(DY__)\n",
    "_c5 = ax5.pcolormesh(LON__)\n",
    "_c6 = ax6.pcolormesh(LAT__)\n",
    "fig.colorbar(_c3,ax=ax3)\n",
    "fig.colorbar(_c4,ax=ax4)\n",
    "fig.colorbar(_c5,ax=ax5)\n",
    "fig.colorbar(_c6,ax=ax6)\n",
    "plt.show()"
   ]
  },
  {
   "cell_type": "code",
   "execution_count": null,
   "metadata": {},
   "outputs": [],
   "source": []
  },
  {
   "cell_type": "markdown",
   "metadata": {},
   "source": [
    "### Estimando el tamaño cada diferencial de malla"
   ]
  },
  {
   "cell_type": "markdown",
   "metadata": {},
   "source": [
    "#### Interpolamos dx,dy"
   ]
  },
  {
   "cell_type": "code",
   "execution_count": null,
   "metadata": {
    "ExecuteTime": {
     "start_time": "2020-04-27T04:55:02.595Z"
    }
   },
   "outputs": [],
   "source": [
    "DY_24 = grid_ds.dyG.isel(face=2).values\n",
    "DX_24 = grid_ds.dxG.isel(face=2).values\n",
    "print(DY_24.shape)\n",
    "print(DX_24.shape)"
   ]
  },
  {
   "cell_type": "code",
   "execution_count": null,
   "metadata": {
    "ExecuteTime": {
     "start_time": "2020-04-27T04:55:02.599Z"
    }
   },
   "outputs": [],
   "source": [
    "DY_48 = interpmat_48(DY_24/2)\n",
    "DX_48 = interpmat_48(DX_24/2)\n",
    "print(DY_48.shape)\n",
    "print(DX_48.shape)"
   ]
  },
  {
   "cell_type": "code",
   "execution_count": null,
   "metadata": {
    "ExecuteTime": {
     "start_time": "2020-04-27T04:55:02.602Z"
    },
    "scrolled": true
   },
   "outputs": [],
   "source": [
    "fig = plt.figure(figsize=(15,5))\n",
    "ax1 = fig.add_subplot(1,2,1)\n",
    "ax2 = fig.add_subplot(1,2,2)\n",
    "_c1 = ax1.pcolormesh(LON_24,LAT_24,DX_24,cmap=plt.cm.Greys_r)\n",
    "_c2 = ax2.pcolormesh(LON_24,LAT_24,DY_24,cmap=plt.cm.Greys_r)\n",
    "fig.colorbar(_c1,ax=ax1)\n",
    "fig.colorbar(_c2,ax=ax2)\n",
    "fig.show()"
   ]
  },
  {
   "cell_type": "code",
   "execution_count": null,
   "metadata": {
    "ExecuteTime": {
     "start_time": "2020-04-27T04:55:02.606Z"
    }
   },
   "outputs": [],
   "source": [
    "fig = plt.figure(figsize=(15,5))\n",
    "ax1 = fig.add_subplot(1,2,1)\n",
    "ax2 = fig.add_subplot(1,2,2)\n",
    "_c1 = ax1.pcolormesh(LON_48,LAT_48,DX_48,cmap=plt.cm.Greys_r)\n",
    "_c2 = ax2.pcolormesh(LON_48,LAT_48,DY_48,cmap=plt.cm.Greys_r)\n",
    "fig.colorbar(_c1,ax=ax1)\n",
    "fig.colorbar(_c2,ax=ax2)\n",
    "fig.show()"
   ]
  },
  {
   "cell_type": "code",
   "execution_count": null,
   "metadata": {
    "ExecuteTime": {
     "start_time": "2020-04-27T04:55:02.610Z"
    }
   },
   "outputs": [],
   "source": [
    "# Graficamos la distribución de dx y dy en la cara 2\n",
    "plt.figure(figsize=(7,5))\n",
    "dx48_vec = DX_48.flatten()\n",
    "dy48_vec = DY_48.flatten()\n",
    "plt.boxplot([dx48_vec,dy48_vec],showmeans=True,labels=[\"dx\",\"dy\"])\n",
    "plt.show()"
   ]
  },
  {
   "cell_type": "markdown",
   "metadata": {},
   "source": [
    "## Seleccionamos la región que usaremos (caja)"
   ]
  },
  {
   "cell_type": "code",
   "execution_count": null,
   "metadata": {
    "ExecuteTime": {
     "start_time": "2020-04-27T04:55:02.623Z"
    }
   },
   "outputs": [],
   "source": [
    "area_id = 730\n",
    "\n",
    "# Directorio de los datos geográficos\n",
    "prnt_map = '{}/by_region'.format(DATA_FOLDER)\n",
    "geodata = gpd.read_file('{}/{}_{}_geo.json'.format(prnt_map,'RV',\"ASO\"),driver='GeoJSON')\n",
    "data_area = geodata[geodata[\"s_id\"]==area_id].drop(columns=[\"season\",\"var\"])\n",
    "area_box = data_area['geometry'].values[0]\n",
    "lon_min,lat_min,lon_max,lat_max = area_box.bounds\n",
    "\n",
    "# ** Si no podemos leerlo (desde GDrive o local), metemos los datos a mano\n",
    "#lon_min,lat_min,lon_max,lat_max = (-26.0, 29.096750000000014, -20.0, 33.827249999999985)\n",
    "\n",
    "print(lon_min,lat_min,lon_max,lat_max)"
   ]
  },
  {
   "cell_type": "markdown",
   "metadata": {},
   "source": [
    "### Buscando los índices para seleccionar la región"
   ]
  },
  {
   "cell_type": "code",
   "execution_count": null,
   "metadata": {
    "ExecuteTime": {
     "start_time": "2020-04-27T04:55:02.635Z"
    }
   },
   "outputs": [],
   "source": [
    "%%script false\n",
    "i_area = lon_i_df[lon_min:lon_max][\"i\"].values\n",
    "j_area = lat_j_df[lat_min:lat_max][\"j\"].values\n",
    "lon_area = lon_i_df[lon_min:lon_max].index.values\n",
    "lat_area = lat_j_df[lat_min:lat_max].index.values\n",
    "\n",
    "min_i = i_area[0]\n",
    "max_i = i_area[-1]\n",
    "min_j = j_area[0]\n",
    "max_j = j_area[-1]"
   ]
  },
  {
   "cell_type": "code",
   "execution_count": null,
   "metadata": {
    "ExecuteTime": {
     "start_time": "2020-04-27T04:55:02.638Z"
    }
   },
   "outputs": [],
   "source": [
    "def find_ij_4lonlat(lon_v,lat_v,lon,lat):\n",
    "    # (lon_v,lat_v): Valores de [lon,lat] a buscar\n",
    "    # (lon,lat): Matrices con latitud y longitud en donde buscaremos\n",
    "    # Regresa: Índices i(lon),j(lat) correspondientes al punto más cercano a (lon_v,lat_v)\n",
    "    # Hacemos la búsqueda con el punto R2 = (lon-lon_v)^2 + (lat-lat_v)^2, tal que R2 sea mínimo\n",
    "    R2 = np.square(lon-lon_v) + np.square(lat-lat_v)\n",
    "    found = np.where(R2==np.amin(R2))\n",
    "    # Para xmitgcm, los índices están invertidos: i=eje x (columnas), j=eje y (filas)\n",
    "    j = found[0][0]\n",
    "    i = found[1][0]\n",
    "    return i,j"
   ]
  },
  {
   "cell_type": "code",
   "execution_count": null,
   "metadata": {
    "ExecuteTime": {
     "start_time": "2020-04-27T04:55:02.642Z"
    }
   },
   "outputs": [],
   "source": [
    "## Esquina inferior izquierda\n",
    "print(lon_min,lat_min)\n",
    "min_i,min_j = find_ij_4lonlat(lon_min,lat_min,LON_48,LAT_48)\n",
    "print(min_i,min_j)\n",
    "print(LON_48[min_j,min_i],LAT_48[min_j,min_i])\n",
    "\n",
    "## Esquina superior derecha\n",
    "print(lon_max,lat_max)\n",
    "max_i,max_j = find_ij_4lonlat(lon_max,lat_max,LON_48,LAT_48)\n",
    "#print(max_i,max_j)\n",
    "print(LON_48[max_j,max_i],LAT_48[max_j,max_i])\n",
    "# slice(start:end) y np.array[start:end] no incluyen el punto final\n",
    "max_i = max_i+1\n",
    "max_j = max_j+1\n",
    "print(max_i,max_j)"
   ]
  },
  {
   "cell_type": "markdown",
   "metadata": {},
   "source": [
    "### Seleccionamos las coordenadas del área, así como dx,dy"
   ]
  },
  {
   "cell_type": "code",
   "execution_count": null,
   "metadata": {
    "ExecuteTime": {
     "start_time": "2020-04-27T04:55:02.659Z"
    }
   },
   "outputs": [],
   "source": [
    "lat_area = LAT_48[min_j:max_j,min_i:max_i]\n",
    "lon_area = LON_48[min_j:max_j,min_i:max_i]\n",
    "dx_area = DX_48[min_j:max_j,min_i:max_i]\n",
    "dy_area = DY_48[min_j:max_j,min_i:max_i]"
   ]
  },
  {
   "cell_type": "code",
   "execution_count": null,
   "metadata": {
    "ExecuteTime": {
     "start_time": "2020-04-27T04:55:02.662Z"
    },
    "scrolled": true
   },
   "outputs": [],
   "source": [
    "print(lat_area.shape)\n",
    "print(lon_area.shape)\n",
    "print(dx_area.shape)\n",
    "print(dy_area.shape)"
   ]
  },
  {
   "cell_type": "code",
   "execution_count": null,
   "metadata": {
    "ExecuteTime": {
     "start_time": "2020-04-27T04:55:02.666Z"
    }
   },
   "outputs": [],
   "source": [
    "cos_lat = np.cos(lat_area*np.pi/180)\n",
    "sin_lat = np.sin(lat_area*np.pi/180)"
   ]
  },
  {
   "cell_type": "code",
   "execution_count": null,
   "metadata": {
    "ExecuteTime": {
     "start_time": "2020-04-27T04:55:02.669Z"
    }
   },
   "outputs": [],
   "source": [
    "%%script false\n",
    "cos_lat = np.tile(np.cos(lat_area*np.pi/180).reshape((len(j_area),1)),(1,len(i_area)))\n",
    "sin_lat = np.tile(np.sin(lat_area*np.pi/180).reshape((len(j_area),1)),(1,len(i_area)))\n",
    "\n",
    "R = 6371*1000 # Radio de la Tierra, en metros\n",
    "C = 2*np.pi*R # Circunferencia en el Ecuador\n",
    "DX = C*cos_lat/map_res/360\n",
    "DY = dx"
   ]
  },
  {
   "cell_type": "markdown",
   "metadata": {},
   "source": [
    "### Necesitamos los valores k para z=0 y z=400 m"
   ]
  },
  {
   "cell_type": "code",
   "execution_count": null,
   "metadata": {
    "ExecuteTime": {
     "start_time": "2020-04-27T04:55:02.681Z"
    },
    "scrolled": true
   },
   "outputs": [],
   "source": [
    "z_grid = np.abs(grid_ds.Zl.values)\n",
    "# z=0\n",
    "k0 = 0\n",
    "print(k0, z_grid[k0])\n",
    "# z=H=400 m\n",
    "HH = 400\n",
    "Z_H = np.abs(z_grid-HH)\n",
    "found_k = np.where(Z_H==np.amin(Z_H))\n",
    "kH = found_k[0][0] # Coordenada i (0) del primer elemento (0)\n",
    "print(kH,z_grid[kH])\n",
    "k_lvl_wf = [k0,kH]       # Índices correspondientes a la profundidad a la que operaremos\n",
    "print(k_lvl_wf)"
   ]
  },
  {
   "cell_type": "markdown",
   "metadata": {},
   "source": [
    "### Tomamos los datos para el área"
   ]
  },
  {
   "cell_type": "code",
   "execution_count": null,
   "metadata": {
    "ExecuteTime": {
     "start_time": "2020-04-27T04:55:02.694Z"
    }
   },
   "outputs": [],
   "source": [
    "ds_area = ds.isel(i=slice(min_i,max_i),j=slice(min_j,max_j),\n",
    "                  i_g=slice(min_i,max_i),j_g=slice(min_j,max_j),\n",
    "                  k=k_lvl_wf\n",
    "                  )\n",
    "ds_area"
   ]
  },
  {
   "cell_type": "code",
   "execution_count": null,
   "metadata": {
    "ExecuteTime": {
     "start_time": "2020-04-27T04:55:02.698Z"
    }
   },
   "outputs": [],
   "source": [
    "ds_area.nbytes/(1024**3)"
   ]
  },
  {
   "cell_type": "code",
   "execution_count": null,
   "metadata": {
    "ExecuteTime": {
     "start_time": "2020-04-27T04:55:02.701Z"
    }
   },
   "outputs": [],
   "source": [
    "len(ds_area.time.values)"
   ]
  },
  {
   "cell_type": "markdown",
   "metadata": {},
   "source": [
    "## Vorticidad planetaria (f) en la región"
   ]
  },
  {
   "cell_type": "code",
   "execution_count": null,
   "metadata": {
    "ExecuteTime": {
     "start_time": "2020-04-27T04:55:02.713Z"
    }
   },
   "outputs": [],
   "source": [
    "# Parámetro de coriolis: f = 2*Omega*cos(latitud)\n",
    "Omega = 2*np.pi/(24*3600) # Frecuencia de rotación terrestre\n",
    "f_cor = 2*Omega*sin_lat"
   ]
  },
  {
   "cell_type": "code",
   "execution_count": null,
   "metadata": {
    "ExecuteTime": {
     "start_time": "2020-04-27T04:55:02.716Z"
    }
   },
   "outputs": [],
   "source": [
    "plt.figure(figsize=(8,5))\n",
    "#plt.contour(lon_area,lat_area,f_cor)\n",
    "_c = plt.pcolormesh(lon_area,lat_area,f_cor,cmap=plt.cm.Greys)\n",
    "plt.colorbar(_c)\n",
    "plt.show()"
   ]
  },
  {
   "cell_type": "markdown",
   "metadata": {},
   "source": [
    "## Ejemplo: Vorticidad relativa en la región (t=0, z=0)"
   ]
  },
  {
   "cell_type": "code",
   "execution_count": null,
   "metadata": {
    "ExecuteTime": {
     "start_time": "2020-04-27T04:55:02.728Z"
    }
   },
   "outputs": [],
   "source": [
    "vals_u = ds_area.U.isel(time=0,k=0).values\n",
    "vals_u.shape"
   ]
  },
  {
   "cell_type": "code",
   "execution_count": null,
   "metadata": {
    "ExecuteTime": {
     "start_time": "2020-04-27T04:55:02.732Z"
    }
   },
   "outputs": [],
   "source": [
    "vals_v = ds_area.V.isel(time=0,k=0).values\n",
    "vals_v.shape"
   ]
  },
  {
   "cell_type": "code",
   "execution_count": null,
   "metadata": {
    "ExecuteTime": {
     "start_time": "2020-04-27T04:55:02.736Z"
    }
   },
   "outputs": [],
   "source": [
    "def rv(u,v):\n",
    "    return (np.gradient(v,axis=-1,edge_order=2)/dx_area) - (np.gradient(u,axis=-2,edge_order=2)/dy_area)"
   ]
  },
  {
   "cell_type": "code",
   "execution_count": null,
   "metadata": {
    "ExecuteTime": {
     "start_time": "2020-04-27T04:55:02.739Z"
    }
   },
   "outputs": [],
   "source": [
    "RV_0 = rv(vals_u,vals_v)"
   ]
  },
  {
   "cell_type": "code",
   "execution_count": null,
   "metadata": {
    "ExecuteTime": {
     "start_time": "2020-04-27T04:55:02.743Z"
    },
    "scrolled": true
   },
   "outputs": [],
   "source": [
    "plt.figure(figsize=(20,16))\n",
    "divnorm = colors.DivergingNorm(vmin=np.min(RV_0), vcenter=0, vmax=np.max(RV_0))\n",
    "\n",
    "nn=3\n",
    "_cs = plt.pcolormesh(lon_area,lat_area,RV_0,norm=divnorm,cmap=plt.cm.RdBu) # plt.cm.RdBu\n",
    "plt.colorbar(_cs)\n",
    "plt.quiver(lon_area[::nn,::nn],lat_area[::nn,::nn],vals_u[::nn,::nn],vals_v[::nn,::nn],color='gray')\n",
    "plt.show()"
   ]
  },
  {
   "cell_type": "markdown",
   "metadata": {},
   "source": [
    "## Funciones para filtrar movimientos cortos y largos\n",
    "\n",
    "### Transformada de Fourier directa e inversa (FFT, IFFT)\n",
    "\n",
    "Ver [pregunta en SO](https://dsp.stackexchange.com/questions/724/low-pass-filter-and-fft-for-beginners-with-python/725#725) para información sobre consideraciones en el uso de un filtro \"ideal\"\n",
    "\n",
    "#### Intervalos de \"muestreo\"\n",
    "\n",
    "Las funciones como FFT dan por hecho que estamos muestreando a intervalos regulares.\n",
    "\n",
    "En el caso de la trasnformada de Fourier espacial en (x,y), suponemos que tanto dx como dy son constantes. Esto no es en general cierto para una esfera, pero si la variación no es muy significativa, podemos usar FFT como buena aproximación, ya que de lo contrario tendríamos que interpolar a una malla regular, hacer el filtrado, y de nuevo interpolar a la malla original, lo que podría inducir mayor ruido."
   ]
  },
  {
   "cell_type": "code",
   "execution_count": null,
   "metadata": {
    "ExecuteTime": {
     "start_time": "2020-04-27T04:55:02.758Z"
    }
   },
   "outputs": [],
   "source": [
    "%%script false\n",
    "max_dx = np.max(dxdy)\n",
    "min_dx = np.min(dxdy)\n",
    "print(max_dx)\n",
    "print(min_dx)\n",
    "print(\"Diferencia entre intervalos de muestreo: {0:.2f}%\".format(100*(max_dx-min_dx)/max_dx))\n",
    "# Esta diferencia porcentual nos permite hacer la FFT como si los puntos estuvieran en una malla cuadriculada\n",
    "dxdy_avg = (max_dx + min_dx)/2\n",
    "print(\"Usaremos un delta_xy promedio de {0:.3f} km\".format(dxdy_avg/1000))"
   ]
  },
  {
   "cell_type": "code",
   "execution_count": null,
   "metadata": {
    "ExecuteTime": {
     "start_time": "2020-04-27T04:55:02.761Z"
    }
   },
   "outputs": [],
   "source": [
    "# Graficamos la distribución de dx y dy en el área\n",
    "plt.figure(figsize=(7,5))\n",
    "dx_vec = dx_area.flatten()\n",
    "dy_vec = dy_area.flatten()\n",
    "plt.boxplot([dx_vec,dy_vec],showmeans=True,labels=[\"dx\",\"dy\"])\n",
    "plt.show()"
   ]
  },
  {
   "cell_type": "code",
   "execution_count": null,
   "metadata": {
    "ExecuteTime": {
     "start_time": "2020-04-27T04:55:02.764Z"
    }
   },
   "outputs": [],
   "source": [
    "# Como puede verse, la variación es relativamente poca\n",
    "max_dx = np.max(dx_vec)\n",
    "min_dx = np.min(dx_vec)\n",
    "dx_avg = np.mean(dx_vec)\n",
    "print(\"Diferencia entre intervalos de muestreo en x: {0:.2f}%\".format(100*(max_dx-min_dx)/max_dx))\n",
    "print(\"Tenemos un dx promedio de {0:.3f} km\".format(dx_avg/1000))\n",
    "max_dy = np.max(dy_vec)\n",
    "min_dy= np.min(dy_vec)\n",
    "dy_avg = np.mean(dy_vec)\n",
    "print(\"Diferencia entre intervalos de muestreo en y: {0:.2f}%\".format(100*(max_dy-min_dy)/max_dy))\n",
    "print(\"Tenemos un dy promedio de {0:.3f} km\".format(dy_avg/1000))"
   ]
  },
  {
   "cell_type": "markdown",
   "metadata": {},
   "source": [
    "#### FFT-IFFT"
   ]
  },
  {
   "cell_type": "code",
   "execution_count": null,
   "metadata": {
    "ExecuteTime": {
     "start_time": "2020-04-27T04:55:02.778Z"
    }
   },
   "outputs": [],
   "source": [
    "Nx = lon_area.shape[1]\n",
    "Lx = Nx*dx_avg\n",
    "delta_kx = 1/Lx\n",
    "Ny = lon_area.shape[0]\n",
    "Ly = Ny*dy_avg\n",
    "delta_ky = 1/Ly\n",
    "\n",
    "print(\"Se hace la FFT en una región cuadrangular de ~ {0:.2f} x {1:.2f} km, o {2}x{3} puntos\".format(Lx/1000,Ly/1000,Nx,Ny))"
   ]
  },
  {
   "cell_type": "code",
   "execution_count": null,
   "metadata": {
    "ExecuteTime": {
     "start_time": "2020-04-27T04:55:02.781Z"
    }
   },
   "outputs": [],
   "source": [
    "N_kx = (Nx-1)/2\n",
    "Kx = delta_kx*np.arange(-N_kx,N_kx+1)\n",
    "N_ky = (Ny-1)/2\n",
    "Ky = delta_ky*np.arange(-N_ky,N_ky+1)\n",
    "print(len(Kx))\n",
    "print(len(Ky))\n",
    "print(1/(delta_kx*N_kx)) # Longitud de onda maxima mostrada en el espacio K (# de onda)"
   ]
  },
  {
   "cell_type": "code",
   "execution_count": 25,
   "metadata": {
    "ExecuteTime": {
     "end_time": "2020-04-27T07:24:36.619897Z",
     "start_time": "2020-04-27T07:24:36.615463Z"
    },
    "init_cell": true
   },
   "outputs": [],
   "source": [
    "def kxky(dx,dy,shape):\n",
    "    Ny,Nx = shape[-2:]\n",
    "    Lx = Nx*dx\n",
    "    Ly = Ny*dy\n",
    "    delta_kx = 1/Lx\n",
    "    delta_ky = 1/Ly\n",
    "    N_kx = (Nx-1)/2\n",
    "    N_ky = (Ny-1)/2\n",
    "    Kx = delta_kx*np.arange(-N_kx,N_kx+1)\n",
    "    Ky = delta_ky*np.arange(-N_ky,N_ky+1)\n",
    "    return np.meshgrid(Kx,Ky)"
   ]
  },
  {
   "cell_type": "code",
   "execution_count": 26,
   "metadata": {
    "ExecuteTime": {
     "end_time": "2020-04-27T07:24:36.628891Z",
     "start_time": "2020-04-27T07:24:36.621348Z"
    },
    "init_cell": true
   },
   "outputs": [],
   "source": [
    "def create_filter_k(Lt=50*1000,order=0,k_=None,flip=False): #Orden 0 es el filtro ideal, de 1 de adelante es el Butterworth\n",
    "    K_max = 1/Lt\n",
    "    kx_,ky_ = np.meshgrid(Kx,Ky) if k_ is None else k_\n",
    "    \n",
    "    if order==0:\n",
    "        filter_mask_plt = (np.square(kx_)+np.square(ky_) <= K_max**2).astype(np.float32)\n",
    "    else:\n",
    "        with np.errstate(over='ignore'):\n",
    "            filter_mask_plt = 1/( 1 + ( (np.square(kx_)+np.square(ky_))/(K_max**2) )**order )\n",
    "    \n",
    "    filter_mask = np.fft.fftshift(filter_mask_plt)\n",
    "    \n",
    "    if flip:\n",
    "        filter_mask = filter_mask*np.fliplr(filter_mask) # Simetria en Kx\n",
    "        filter_mask = filter_mask*np.flipud(filter_mask) # Simetria en Ky\n",
    "    \n",
    "    return filter_mask"
   ]
  },
  {
   "cell_type": "code",
   "execution_count": 27,
   "metadata": {
    "ExecuteTime": {
     "end_time": "2020-04-27T07:24:36.636001Z",
     "start_time": "2020-04-27T07:24:36.630780Z"
    },
    "init_cell": true
   },
   "outputs": [],
   "source": [
    "# Por defecto, filtra a 50 km\n",
    "def filter_fft(var_xy,Lt=50*1000):\n",
    "    var_k = np.fft.fft2(var_xy)\n",
    "\n",
    "    # Las variables _plt solo se usan de forma auxiliar para las gráficas (plot)\n",
    "    filter_mask = create_filter_k(Lt=Lt,flip=True)\n",
    "    \n",
    "    # El cálculo de la inversa se hará sobre la variable a la que no se le aplica fftshift,\n",
    "    # ya que np.flipup y np.fliplr no conmutan con fftshift\n",
    "    var_k_lo = var_k*filter_mask\n",
    "    _var_lo = np.fft.ifft2(var_k_lo)\n",
    "    \n",
    "    # Eliminamos la parte imaginaria, ya que es espuria\n",
    "    var_lo = np.real(_var_lo)\n",
    "    var_hi = var_xy-var_lo\n",
    "    \n",
    "    return var_lo,var_hi"
   ]
  },
  {
   "cell_type": "code",
   "execution_count": 28,
   "metadata": {
    "ExecuteTime": {
     "end_time": "2020-04-27T07:24:36.646195Z",
     "start_time": "2020-04-27T07:24:36.638071Z"
    },
    "init_cell": true
   },
   "outputs": [],
   "source": [
    "## Filtro de Butterworth\n",
    "## Por defecto, filtra a 50 km\n",
    "def filter_fft_butterworth(var_xy,Lt=50*1000,dx=None,dy=None,order=100):\n",
    "    var_k = np.fft.fft2(var_xy)\n",
    "    \n",
    "    if (dx is None) or (dy is None):\n",
    "        dx = dx_avg\n",
    "        dy = dy_avg\n",
    "    \n",
    "    k_ = kxky(dx,dy,var_xy.shape)\n",
    "    filter_mask = create_filter_k(Lt=Lt,order=order,k_=k_)\n",
    "    \n",
    "    # El cálculo de la inversa se hará sobre la variable a la que no se le aplica fftshift,\n",
    "    # ya que np.flipup y np.fliplr no conmutan con fftshift\n",
    "    var_k_lo = var_k*filter_mask\n",
    "    _var_lo = np.fft.ifft2(var_k_lo)\n",
    "    \n",
    "    # Eliminamos la parte imaginaria, ya que es espuria\n",
    "    var_lo = np.real(_var_lo)\n",
    "    var_hi = var_xy-var_lo\n",
    "    \n",
    "    return var_lo,var_hi"
   ]
  },
  {
   "cell_type": "markdown",
   "metadata": {},
   "source": [
    "### Comparamos ambos filtros\n",
    "\n",
    "#### Primero en el espacio K"
   ]
  },
  {
   "cell_type": "code",
   "execution_count": null,
   "metadata": {
    "ExecuteTime": {
     "start_time": "2020-04-27T04:55:02.809Z"
    }
   },
   "outputs": [],
   "source": [
    "from matplotlib.colors import LogNorm,PowerNorm\n",
    "\n",
    "filter_ideal = np.fft.fftshift(create_filter_k())[int(Nx/3):int(2*Nx/3),int(Ny/3):int(2*Ny/3)]\n",
    "filter_butterworth = np.fft.fftshift(create_filter_k(order=100))[int(Nx/3):int(2*Nx/3),int(Ny/3):int(2*Ny/3)]\n",
    "\n",
    "kx_,ky_ = np.meshgrid(Kx,Ky)\n",
    "fig, ax = plt.subplots(1,3,figsize=(15,4))\n",
    "ax = ax.flat[:]\n",
    "kxx = kx_[int(Nx/3):int(2*Nx/3),int(Ny/3):int(2*Ny/3)]\n",
    "kyy = ky_[int(Nx/3):int(2*Nx/3),int(Ny/3):int(2*Ny/3)]\n",
    "\n",
    "plt.sca(ax[0])\n",
    "plt.pcolormesh(kxx,kyy,filter_ideal)\n",
    "plt.colorbar()\n",
    "plt.sca(ax[1])\n",
    "plt.pcolormesh(kxx,kyy,filter_butterworth)\n",
    "plt.colorbar()\n",
    "plt.sca(ax[2])\n",
    "filter_diff = filter_butterworth-filter_ideal\n",
    "divnorm_diff_fk = colors.DivergingNorm(vmin=np.min(filter_diff), vcenter=0, vmax=np.max(filter_diff))\n",
    "plt.pcolormesh(kxx,kyy,filter_diff,norm=divnorm_diff_fk,cmap=plt.cm.RdBu)\n",
    "plt.colorbar()\n",
    "\n",
    "fig.show()"
   ]
  },
  {
   "cell_type": "markdown",
   "metadata": {
    "ExecuteTime": {
     "end_time": "2020-03-03T01:47:43.444549Z",
     "start_time": "2020-03-03T01:47:43.440271Z"
    }
   },
   "source": [
    "#### Luego el resultado de aplicarlos en el espacio xy"
   ]
  },
  {
   "cell_type": "code",
   "execution_count": null,
   "metadata": {
    "ExecuteTime": {
     "start_time": "2020-04-27T04:55:02.822Z"
    },
    "scrolled": false
   },
   "outputs": [],
   "source": [
    "# Ideal filter\n",
    "u_lo_filt_ideal,u_hi_filt_ideal = filter_fft(vals_u)\n",
    "v_lo_filt_ideal,v_hi_filt_ideal = filter_fft(vals_v)\n",
    "rv_lo_ideal = rv(u_lo_filt_ideal,v_lo_filt_ideal)\n",
    "rv_hi_ideal = rv(u_hi_filt_ideal,v_hi_filt_ideal)\n",
    "# Butterworth filter\n",
    "u_lo_filt_bw,u_hi_filt_bw = filter_fft_butterworth(vals_u)\n",
    "v_lo_filt_bw,v_hi_filt_bw = filter_fft_butterworth(vals_v)\n",
    "rv_lo_bw = rv(u_lo_filt_bw,v_lo_filt_bw)\n",
    "rv_hi_bw = rv(u_hi_filt_bw,v_hi_filt_bw)\n",
    "\n",
    "min_rv = min(np.min(rv_lo_ideal),np.min(rv_hi_ideal),np.min(rv_lo_bw),np.min(rv_hi_bw))\n",
    "max_rv = max(np.max(rv_lo_ideal),np.max(rv_hi_ideal),np.max(rv_lo_bw),np.max(rv_hi_bw))\n",
    "divnorm_all = colors.DivergingNorm(vmin=min_rv, vcenter=0, vmax=max_rv)\n",
    "fig, ax = plt.subplots(3,2,figsize=(15,20))\n",
    "\n",
    "plt.sca(ax[0][0])\n",
    "plt.pcolormesh(lon_area,lat_area,rv_lo_ideal,norm=divnorm_all,cmap=plt.cm.RdBu)\n",
    "plt.colorbar()\n",
    "plt.sca(ax[0][1])\n",
    "plt.pcolormesh(lon_area,lat_area,rv_hi_ideal,norm=divnorm_all,cmap=plt.cm.RdBu)\n",
    "plt.colorbar()\n",
    "plt.sca(ax[1][0])\n",
    "plt.pcolormesh(lon_area,lat_area,rv_lo_bw,norm=divnorm_all,cmap=plt.cm.RdBu)\n",
    "plt.colorbar()\n",
    "plt.sca(ax[1][1])\n",
    "plt.pcolormesh(lon_area,lat_area,rv_hi_bw,norm=divnorm_all,cmap=plt.cm.RdBu)\n",
    "plt.colorbar()\n",
    "plt.sca(ax[2][0])\n",
    "plt.pcolormesh(lon_area,lat_area,rv_lo_ideal-rv_lo_bw,cmap=plt.cm.RdBu)\n",
    "plt.colorbar()\n",
    "plt.sca(ax[2][1])\n",
    "plt.pcolormesh(lon_area,lat_area,rv_hi_ideal-rv_hi_bw,cmap=plt.cm.RdBu)\n",
    "plt.colorbar()\n",
    "\n",
    "plt.show()"
   ]
  },
  {
   "cell_type": "code",
   "execution_count": null,
   "metadata": {
    "ExecuteTime": {
     "start_time": "2020-04-27T04:55:02.826Z"
    }
   },
   "outputs": [],
   "source": [
    "%%script false # Uncomment to test\n",
    "## Practicamos escritura y lectura de datos\n",
    "fname = \"/tmp/file0.dat\"\n",
    "np.savetxt(fname,lat_area,fmt='%s')\n",
    "print(lat_area.shape)\n",
    "lat_AA = np.loadtxt(fname)\n",
    "print(lat_AA.shape)"
   ]
  },
  {
   "cell_type": "markdown",
   "metadata": {},
   "source": [
    "## Workflow"
   ]
  },
  {
   "cell_type": "markdown",
   "metadata": {},
   "source": [
    "### Función que calcula Ro_b, así como sus componentes de alta y baja frecuencia"
   ]
  },
  {
   "cell_type": "code",
   "execution_count": null,
   "metadata": {
    "ExecuteTime": {
     "start_time": "2020-04-27T04:55:02.848Z"
    }
   },
   "outputs": [],
   "source": [
    "from netCDF4 import Datasetdef Ro_b_filter(ds_area,t,Lt=50*1000):\n",
    "    ds_area_t = ds_area.isel(time=t)\n",
    "    print(t,ds_area_t.nbytes/(1024**3))\n",
    "    \n",
    "    print(\"U,V\")\n",
    "    # Obtenemos U en z=0\n",
    "    u0 = ds_area_t.U.isel(k=0).values\n",
    "    # Obtenemos V en z=0\n",
    "    v0 = ds_area_t.V.isel(k=0).values\n",
    "    # Calculamos RV en z=0\n",
    "    RV_0 = (np.gradient(v0,axis=1)/dx_area) - (np.gradient(u0,axis=0)/dy_area)\n",
    "    # Filtramos y calculamos RV\n",
    "    print (\"Filter 0\")\n",
    "    u0_lo,u0_hi = filter_fft(u0,Lt)\n",
    "    del u0\n",
    "    v0_lo,v0_hi = filter_fft(v0,Lt)\n",
    "    del v0\n",
    "    print(\"RV_0\")\n",
    "    rv0_hi = (np.gradient(v0_hi,axis=1)/dx_area) - (np.gradient(u0_hi,axis=0)/dy_area)\n",
    "    del u0_hi,v0_hi\n",
    "    rv0_lo = (np.gradient(v0_lo,axis=1)/dx_area) - (np.gradient(u0_lo,axis=0)/dy_area)\n",
    "    del u0_lo,v0_lo\n",
    "    \n",
    "    # Obtenemos U en z=H\n",
    "    uH = ds_area_t.U.isel(k=1).values\n",
    "    # Obtenemos V en z=H\n",
    "    vH = ds_area_t.V.isel(k=1).values\n",
    "    # Calculamos RV en z=0\n",
    "    RV_H = (np.gradient(vH,axis=1)/dx_area) - (np.gradient(uH,axis=0)/dy_area)\n",
    "    # Filtramos y calculamos RV\n",
    "    print(\"Filter H\")\n",
    "    uH_lo,uH_hi = filter_fft(uH,Lt)\n",
    "    del uH\n",
    "    vH_lo,vH_hi = filter_fft(vH,Lt)\n",
    "    del Vh\n",
    "    print(\"RV_H\")\n",
    "    rvH_hi = (np.gradient(vH_hi,axis=1)/dx_area) - (np.gradient(uH_hi,axis=0)/dy_area)\n",
    "    del uH_hi,vH_hi\n",
    "    rvH_lo = (np.gradient(vH_lo,axis=1)/dx_area) - (np.gradient(uH_lo,axis=0)/dy_area)\n",
    "    del uH_lo,vH_lo\n",
    "\n",
    "    print(\"Ro_b\")\n",
    "    # ... y finalmente el Número de Rossby baroclínico (Ro_b)\n",
    "    Ro_b = np.abs((RV_0-RV_H)/f_cor)\n",
    "    #print(np.max(Ro_b))\n",
    "    Rob_lo = np.abs((rv0_lo-rvH_lo)/f_cor)\n",
    "    Rob_hi = np.abs((rv0_hi-rvH_hi)/f_cor)\n",
    "    #print(np.max(Rob_lo),np.max(Rob_hi))\n",
    "    \n",
    "    return (Ro_b,Rob_lo,Rob_hi)"
   ]
  },
  {
   "cell_type": "markdown",
   "metadata": {},
   "source": [
    "### Versión script plano"
   ]
  },
  {
   "cell_type": "code",
   "execution_count": null,
   "metadata": {
    "ExecuteTime": {
     "start_time": "2020-04-27T04:55:02.861Z"
    },
    "scrolled": true
   },
   "outputs": [],
   "source": [
    "for time_ds in range(len(ds.time.values)):\n",
    "    Ro_b_filter(ds_area,time_ds)"
   ]
  },
  {
   "cell_type": "markdown",
   "metadata": {},
   "source": [
    "### Versión Luigi"
   ]
  },
  {
   "cell_type": "code",
   "execution_count": null,
   "metadata": {
    "ExecuteTime": {
     "start_time": "2020-04-27T04:55:02.873Z"
    }
   },
   "outputs": [],
   "source": [
    "import luigi\n",
    "from luigi import Task,LocalTarget,IntParameter\n",
    "import multiprocessing\n",
    "from netCDF4 import Dataset"
   ]
  },
  {
   "cell_type": "code",
   "execution_count": null,
   "metadata": {
    "ExecuteTime": {
     "start_time": "2020-04-27T04:55:02.877Z"
    }
   },
   "outputs": [],
   "source": [
    "prnt = LUIGI_OUT_FOLDER + \"/Rob_k_filtered\"\n",
    "Lt = 75*1000 # Partimos en 75 km\n",
    "class RossbyB(Task):\n",
    "    t = IntParameter()\n",
    "    _target = None\n",
    "    \n",
    "    def output(self):\n",
    "        if self._target is None:\n",
    "            self._target = LocalTarget(\"{}/Rob_{:05d}.nc\".format(prnt,self.t))\n",
    "        return self._target\n",
    "    \n",
    "    def run(self):\n",
    "        Ro_b,Rob_lo,Rob_hi = Ro_b_filter(ds_area,self.t,Lt=Lt)\n",
    "        fn_out = self.output().fn\n",
    "        print(\"Saving to {}\".format(fn_out))\n",
    "        nc = Dataset(fn_out,'w','NETCDF3')\n",
    "        nlon,nlat=lon_area.shape\n",
    "        nc.createDimension('nlon',nlon)\n",
    "        nc.createDimension('nlat',nlat)\n",
    "        nc.createDimension('time',None)   # Solo ponemos un tiempo\n",
    "        # Coordenadas\n",
    "        nlon_v = nc.createVariable('nlon','int',('nlon'))\n",
    "        nlon_v = np.arange(nlon)\n",
    "        nlat_v = nc.createVariable('nlat','int',('nlat'))\n",
    "        nlat_v = np.arange(nlat)\n",
    "        # Variables \n",
    "        time_v = nc.createVariable('time','int',('time'))\n",
    "        time_v.setncattr('units','Hours since 2011-09-13T00:00:00')\n",
    "        time_v = self.t\n",
    "        lon_v = nc.createVariable('lon','float32',('time','nlon','nlat'))\n",
    "        time_v.setncattr('units','degrees')\n",
    "        lon_v[:] = lon_area\n",
    "        lat_v = nc.createVariable('lat','float32',('time','nlon','nlat'))\n",
    "        time_v.setncattr('units','degrees')\n",
    "        lat_v[:] = lat_area\n",
    "        # RV\n",
    "        Rob_v = nc.createVariable('Rob','float32',('time','nlon','nlat'))\n",
    "        Rob_v.setncatts({'units':'s^-1','description':\"RV for all wavelenghts\"})\n",
    "        Rob_hi_v = nc.createVariable('Rob_Hi','float32',('time','nlon','nlat'))\n",
    "        Rob_hi_v.setncatts({'units':'s^-1','description':\"RV for wavelenghts < {:.1f} km\".format(Lt/1000)})\n",
    "        Rob_lo_v = nc.createVariable('Rob_Lo','float32',('time','nlon','nlat'))\n",
    "        Rob_lo_v.setncatts({'units':'s^-1','description':\"RV for wavelenghts > {:.1f} km\".format(Lt/1000)})\n",
    "        \n",
    "        nc.close()"
   ]
  },
  {
   "cell_type": "code",
   "execution_count": null,
   "metadata": {
    "ExecuteTime": {
     "start_time": "2020-04-27T04:55:02.880Z"
    },
    "scrolled": true
   },
   "outputs": [],
   "source": [
    "tasks = [RossbyB(t=_t) for _t in range(20)]\n",
    "wf_result = luigi.build(tasks, local_scheduler=True, workers=5, detailed_summary=True)\n",
    "print(wf_result.summary_text)"
   ]
  },
  {
   "cell_type": "code",
   "execution_count": null,
   "metadata": {
    "ExecuteTime": {
     "start_time": "2020-04-27T04:55:02.884Z"
    }
   },
   "outputs": [],
   "source": [
    "len(ds_area.time.values)"
   ]
  },
  {
   "cell_type": "markdown",
   "metadata": {},
   "source": [
    "## Verificamos resultados"
   ]
  },
  {
   "cell_type": "code",
   "execution_count": null,
   "metadata": {
    "ExecuteTime": {
     "start_time": "2020-04-27T04:55:02.896Z"
    }
   },
   "outputs": [],
   "source": [
    "from netCDF4 import Dataset\n",
    "import matplotlib.pyplot as plt\n",
    "import matplotlib.colors as colors\n",
    "import numpy as np"
   ]
  },
  {
   "cell_type": "code",
   "execution_count": null,
   "metadata": {
    "ExecuteTime": {
     "start_time": "2020-04-27T04:55:02.900Z"
    }
   },
   "outputs": [],
   "source": [
    "dat = Dataset(LUIGI_OUT_FOLDER + \"/Rob_k_filtered/730/days/Rob_ASO.nc\",'r')\n",
    "[k for k in dat.variables]"
   ]
  },
  {
   "cell_type": "code",
   "execution_count": null,
   "metadata": {
    "ExecuteTime": {
     "start_time": "2020-04-27T04:55:02.904Z"
    }
   },
   "outputs": [],
   "source": [
    "lat_r = dat[\"lat\"]\n",
    "lon_r = dat[\"lon\"]\n",
    "f_cor = dat[\"f_coriolis\"]\n",
    "RV0_r = dat[\"RV\"][0,0,:,:]/f_cor\n",
    "RVH_r = dat[\"RV\"][0,1,:,:]/f_cor\n",
    "Rob_r = np.abs(dat[\"Rob\"][0,:,:])\n",
    "RV0_lo_r = dat[\"RV_Lo\"][0,0,:,:]/f_cor\n",
    "RVH_lo_r = dat[\"RV_Lo\"][0,1,:,:]/f_cor\n",
    "Rob_lo_r = np.abs(dat[\"Rob_Lo\"][0,:,:])\n",
    "#Rob_lo_r_avg = np.ma.mean(np.ma.array(Rob_lo_r,mask=Rob_lo_r==0),axis=0)\n",
    "RV0_hi_r = dat[\"RV_Hi\"][0,0,:,:]/f_cor\n",
    "RVH_hi_r = dat[\"RV_Hi\"][0,1,:,:]/f_cor\n",
    "Rob_hi_r = np.abs(dat[\"Rob_Hi\"][0,:,:])\n",
    "#Rob_hi_r_avg = np.ma.mean(np.ma.array(Rob_hi_r,mask=Rob_hi_r==0),axis=0)"
   ]
  },
  {
   "cell_type": "code",
   "execution_count": null,
   "metadata": {
    "ExecuteTime": {
     "start_time": "2020-04-27T04:55:02.907Z"
    },
    "scrolled": false
   },
   "outputs": [],
   "source": [
    "nrows=3\n",
    "fig = plt.figure(figsize=(20,4*nrows))\n",
    "\n",
    "min_RV0 = min(np.min(RV0_r),np.min(RV0_lo_r),np.min(RV0_hi_r))\n",
    "max_RV0 = max(np.max(RV0_r),np.max(RV0_lo_r),np.max(RV0_hi_r))\n",
    "min_RVH = min(np.min(RVH_r),np.min(RVH_lo_r),np.min(RVH_hi_r))\n",
    "max_RVH = max(np.max(RVH_r),np.max(RVH_lo_r),np.max(RVH_hi_r))\n",
    "divnorm_rv = colors.DivergingNorm(vmin=min(min_RV0,min_RVH), vcenter=0, vmax=max(max_RV0,max_RVH))\n",
    "#divnorm2 = colors.DivergingNorm(vmin=min_RVH, vcenter=0, vmax=max_RVH)\n",
    "\n",
    "min_Rob = min(np.min(Rob_lo_r),np.min(Rob_hi_r),np.min(Rob_r))\n",
    "max_Rob = max(np.max(Rob_lo_r),np.max(Rob_hi_r),np.max(Rob_r))\n",
    "mean_Rob = (np.mean(Rob_lo_r)+np.mean(Rob_hi_r)+np.mean(np.max(Rob_r)))/3\n",
    "divnorm_rob = colors.DivergingNorm(vmin=0,vcenter=mean_Rob,vmax=max_Rob)\n",
    "#divnorm_rob = colors.LogNorm(vmin=min_Rob+5e-3,vmax=max_Rob)\n",
    "\n",
    "## Sin Filtrar\n",
    "\n",
    "# RV en z=0\n",
    "ax1 = fig.add_subplot(nrows,3,1)\n",
    "_c1 = plt.pcolormesh(lon_r,lat_r,RV0_r,norm=divnorm_rv,cmap=plt.cm.RdBu_r) # plt.cm.RdBu\n",
    "fig.colorbar(_c1,ax=ax1)\n",
    "\n",
    "# RV en z=H\n",
    "ax2 = fig.add_subplot(nrows,3,2)\n",
    "_c2 = plt.pcolormesh(lon_r,lat_r,RVH_r,norm=divnorm_rv,cmap=plt.cm.RdBu_r) # plt.cm.RdBu\n",
    "fig.colorbar(_c2,ax=ax2)\n",
    "\n",
    "# Ro_b\n",
    "ax3 = fig.add_subplot(nrows,3,3)\n",
    "#divnorm3 = colors.DivergingNorm(vmin=np.min(Rob_r), vcenter=0, vmax=np.max(Rob_r))\n",
    "_c3 = plt.pcolormesh(lon_r,lat_r,Rob_r,norm=divnorm_rob,cmap=plt.cm.Greys) # plt.cm.RdBu\n",
    "fig.colorbar(_c3,ax=ax3)\n",
    "\n",
    "## Bajas frecuencias espaciales\n",
    "\n",
    "# RV en z=0\n",
    "ax1 = fig.add_subplot(nrows,3,4)\n",
    "_c1 = plt.pcolormesh(lon_r,lat_r,RV0_lo_r,norm=divnorm_rv,cmap=plt.cm.RdBu_r) # plt.cm.RdBu\n",
    "fig.colorbar(_c1,ax=ax1)\n",
    "\n",
    "# RV en z=H\n",
    "ax2 = fig.add_subplot(nrows,3,5)\n",
    "_c2 = plt.pcolormesh(lon_r,lat_r,RVH_lo_r,norm=divnorm_rv,cmap=plt.cm.RdBu_r) # plt.cm.RdBu\n",
    "fig.colorbar(_c2,ax=ax2)\n",
    "\n",
    "# Ro_b\n",
    "ax3 = fig.add_subplot(nrows,3,6)\n",
    "_c3 = plt.pcolormesh(lon_r,lat_r,Rob_lo_r,norm=divnorm_rob,cmap=plt.cm.Greys) # plt.cm.RdBu\n",
    "fig.colorbar(_c3,ax=ax3)\n",
    "\n",
    "## Altas frecuencias espaciales\n",
    "\n",
    "# RV en z=0\n",
    "ax1 = fig.add_subplot(nrows,3,7)\n",
    "_c1 = plt.pcolormesh(lon_r,lat_r,RV0_hi_r,norm=divnorm_rv,cmap=plt.cm.RdBu_r) # plt.cm.RdBu\n",
    "fig.colorbar(_c1,ax=ax1)\n",
    "\n",
    "# RV en z=H\n",
    "ax2 = fig.add_subplot(nrows,3,8)\n",
    "_c2 = plt.pcolormesh(lon_r,lat_r,RVH_hi_r,norm=divnorm_rv,cmap=plt.cm.RdBu_r) # plt.cm.RdBu\n",
    "fig.colorbar(_c2,ax=ax2)\n",
    "\n",
    "# Ro_b\n",
    "ax3 = fig.add_subplot(nrows,3,9)\n",
    "_c3 = plt.pcolormesh(lon_r,lat_r,Rob_hi_r,norm=divnorm_rob,cmap=plt.cm.Greys) # plt.cm.RdBu\n",
    "fig.colorbar(_c3,ax=ax3)\n",
    "\n",
    "fig.show()"
   ]
  },
  {
   "cell_type": "code",
   "execution_count": null,
   "metadata": {
    "ExecuteTime": {
     "start_time": "2020-04-27T04:55:02.911Z"
    },
    "scrolled": true
   },
   "outputs": [],
   "source": [
    "# Graficamos la distribución de Ro_b en el área, para escalas cortas y largas\n",
    "plt.figure(figsize=(7,5))\n",
    "Rob_lo_vec = Rob_lo_r.flatten()\n",
    "Rob_hi_vec = Rob_hi_r.flatten()\n",
    "plt.boxplot([Rob_lo_vec,Rob_hi_vec],labels=[\">Lt\",\"<Lt\"],showmeans=False,whis=[5,95],showfliers=False)\n",
    "plt.show()"
   ]
  },
  {
   "cell_type": "code",
   "execution_count": null,
   "metadata": {
    "ExecuteTime": {
     "start_time": "2020-04-27T04:55:02.915Z"
    }
   },
   "outputs": [],
   "source": [
    "# Lo mismo de arriba, pero en histogramas\n",
    "plt.figure(figsize=(7,5))\n",
    "Rob_lo_vec = Rob_lo_r.flatten()\n",
    "Rob_hi_vec = Rob_hi_r.flatten()\n",
    "\n",
    "\n",
    "plt.hist([Rob_lo_vec,Rob_hi_vec],density=True,histtype='bar',log=True,label=[\">Lt\",\"<Lt\"])\n",
    "plt.legend(prop={'size': 15})\n",
    "plt.show()"
   ]
  },
  {
   "cell_type": "markdown",
   "metadata": {},
   "source": [
    "### Correlación con OW"
   ]
  },
  {
   "cell_type": "code",
   "execution_count": null,
   "metadata": {
    "ExecuteTime": {
     "start_time": "2020-04-27T04:55:02.927Z"
    }
   },
   "outputs": [],
   "source": [
    "Rob_lo_r = np.abs(dat[\"Rob_Lo\"][:,:,:])\n",
    "RV0_lo_ = dat[\"RV_Lo\"][:,0,:,:]\n",
    "OW0_lo_ = dat[\"OW_Lo\"][:,0,:,:]\n",
    "RVH_lo_ = dat[\"RV_Lo\"][:,1,:,:]\n",
    "OWH_lo_ = dat[\"OW_Lo\"][:,1,:,:]\n",
    "Rob_hi_r = np.abs(dat[\"Rob_Hi\"][:,:,:])\n",
    "RV0_hi_ = dat[\"RV_Hi\"][:,0,:,:]\n",
    "OW0_hi_ = dat[\"OW_Hi\"][:,0,:,:]\n",
    "RVH_hi_ = dat[\"RV_Hi\"][:,1,:,:]\n",
    "OWH_hi_ = dat[\"OW_Hi\"][:,1,:,:]\n",
    "f_cor = dat[\"f_coriolis\"]"
   ]
  },
  {
   "cell_type": "code",
   "execution_count": null,
   "metadata": {
    "ExecuteTime": {
     "start_time": "2020-04-27T04:55:02.930Z"
    }
   },
   "outputs": [],
   "source": [
    "print(RVH_hi_.shape)\n",
    "print(f_cor.shape)\n",
    "r_ = RVH_hi_/f_cor\n",
    "print(r_.shape)"
   ]
  },
  {
   "cell_type": "code",
   "execution_count": null,
   "metadata": {
    "ExecuteTime": {
     "start_time": "2020-04-27T04:55:02.934Z"
    }
   },
   "outputs": [],
   "source": [
    "import imageio\n",
    "from netCDF4 import Dataset\n",
    "\n",
    "ow_cmap = plt.cm.seismic_r\n",
    "dat = Dataset(LUIGI_OUT_FOLDER + \"/Rob_k_filtered/730/days/Rob_ASO.nc\",'r')\n",
    "f_cor = dat[\"f_coriolis\"]\n",
    "\n",
    "Rob_Lo = np.abs(dat[\"Rob_Lo\"][:,:,:])\n",
    "Rob_Hi = np.abs(dat[\"Rob_Hi\"][:,:,:])\n",
    "RV_Lo = dat[\"RV_Lo\"][:,:,:,:]/f_cor\n",
    "RV_Hi = dat[\"RV_Hi\"][:,:,:,:]/f_cor\n",
    "OW_Lo = dat[\"OW_Lo\"][:,:,:,:]/(f_cor[:,:]**2)\n",
    "OW_Hi = dat[\"OW_Hi\"][:,:,:,:]/(f_cor[:,:]**2)\n",
    "ST_Lo = np.sqrt(OW_Lo+RV_Lo**2)\n",
    "ST_Hi = np.sqrt(OW_Hi+RV_Hi**2)"
   ]
  },
  {
   "cell_type": "code",
   "execution_count": null,
   "metadata": {
    "ExecuteTime": {
     "start_time": "2020-04-27T04:55:02.937Z"
    },
    "code_folding": []
   },
   "outputs": [],
   "source": [
    "%%script false\n",
    "# Graficas 1 y 2\n",
    "min_y12 = np.min(Rob_Lo)\n",
    "max_y12 = np.max(Rob_Lo)\n",
    "# Gráfica 1\n",
    "min_x1 = np.min(RV_Lo[:,0,:,:])\n",
    "max_x1 = np.max(RV_Lo[:,0,:,:])\n",
    "min_y1 = np.min(ST_Lo[:,0,:,:])\n",
    "max_y1 = np.max(ST_Lo[:,0,:,:])\n",
    "min_c1 = np.min(OW_Lo[:,0,:,:])\n",
    "max_c1 = np.max(OW_Lo[:,0,:,:])\n",
    "ow_norm1 = colors.DivergingNorm(vmin=min_c1, vcenter=0, vmax=max_c1)\n",
    "# Gráfica 2\n",
    "min_x2 = np.min(RV_Lo[:,1,:,:])\n",
    "max_x2 = np.max(RV_Lo[:,1,:,:])\n",
    "min_y2 = np.min(ST_Lo[:,1,:,:])\n",
    "max_y2 = np.max(ST_Lo[:,1,:,:])\n",
    "min_c2 = np.min(OW_Lo[:,1,:,:])\n",
    "max_c2 = np.max(OW_Lo[:,1,:,:])\n",
    "ow_norm2 = colors.DivergingNorm(vmin=min_c2, vcenter=0, vmax=max_c2)\n",
    "\n",
    "# Graficas 3 y 4\n",
    "min_y34 = np.min(Rob_Hi)\n",
    "max_y34 = np.max(Rob_Hi)\n",
    "# Gráfica 3\n",
    "min_x3 = np.min(RV_Hi[:,0,:,:])\n",
    "max_x3 = np.max(RV_Hi[:,0,:,:])\n",
    "min_y3 = np.min(ST_Hi[:,0,:,:])\n",
    "max_y3 = np.max(ST_Hi[:,0,:,:])\n",
    "min_c3 = np.min(OW_Hi[:,0,:,:])\n",
    "max_c3 = np.max(OW_Hi[:,0,:,:])\n",
    "ow_norm3 = colors.DivergingNorm(vmin=min_c3, vcenter=0, vmax=max_c3)\n",
    "# Gráfica 4\n",
    "min_x4 = np.min(RV_Hi[:,1,:,:])\n",
    "max_x4 = np.max(RV_Hi[:,1,:,:])\n",
    "min_y4 = np.min(ST_Hi[:,1,:,:])\n",
    "max_y4 = np.max(ST_Hi[:,1,:,:])\n",
    "min_c4 = np.min(OW_Hi[:,1,:,:])\n",
    "max_c4 = np.max(OW_Hi[:,1,:,:])\n",
    "ow_norm4 = colors.DivergingNorm(vmin=min_c4, vcenter=0, vmax=max_c4)\n",
    "\n",
    "def scatter_ow_rob(t):\n",
    "    #\n",
    "    Rob_lo_r = Rob_Lo[t,:,:]\n",
    "    RV0_lo_ = RV_Lo[t,0,:,:]\n",
    "    ST0_lo_ = ST_Lo[t,0,:,:]\n",
    "    OW0_lo_ = OW_Lo[t,0,:,:]\n",
    "    RVH_lo_ = RV_Lo[t,1,:,:]\n",
    "    STH_lo_ = ST_Lo[t,1,:,:]\n",
    "    OWH_lo_ = OW_Lo[t,1,:,:]\n",
    "    #\n",
    "    Rob_hi_r = Rob_Hi[t,:,:]\n",
    "    RV0_hi_ = RV_Hi[t,0,:,:]\n",
    "    ST0_hi_ = ST_Hi[t,0,:,:]\n",
    "    OW0_hi_ = OW_Hi[t,0,:,:]\n",
    "    RVH_hi_ = RV_Hi[t,1,:,:]\n",
    "    STH_hi_ = ST_Hi[t,1,:,:]\n",
    "    OWH_hi_ = OW_Hi[t,1,:,:]\n",
    "    \n",
    "    fig, ax = plt.subplots(2,2,figsize=(20,2*5))\n",
    "    print(t)\n",
    "    \n",
    "    plt.sca(ax[0][0])\n",
    "    _c1 = plt.scatter(RV0_lo_,ST0_lo_,c=OW0_lo_,cmap=ow_cmap,s=1e-13,marker='o',alpha=0.75,norm=ow_norm1)\n",
    "    fig.colorbar(_c1,ax=ax[0][0])\n",
    "    ax[0][0].set_xlabel(\"$\\zeta/f$\")\n",
    "    ax[0][0].set_ylabel(\"$\\sigma/f$\")\n",
    "    ax[0][0].set_title(\"Lo freq, z=0\")\n",
    "    ax[0][0].set_xlim([min_x1,max_x1])\n",
    "    ax[0][0].set_ylim([min_y1,max_y1])\n",
    "    \n",
    "    plt.sca(ax[0][1])\n",
    "    _c2 = plt.scatter(RVH_lo_,STH_lo_,c=OWH_lo_,cmap=ow_cmap,s=1e-13,marker='o',alpha=0.75,norm=ow_norm2)\n",
    "    fig.colorbar(_c2,ax=ax[0][1])\n",
    "    ax[0][1].set_xlabel(\"$\\zeta/f$\")\n",
    "    ax[0][1].set_ylabel(\"$\\sigma/f$\")\n",
    "    ax[0][1].set_title(\"Lo freq, z=H\")\n",
    "    ax[0][1].set_xlim([min_x2,max_x2])\n",
    "    ax[0][1].set_ylim([min_y2,max_y2])\n",
    "    \n",
    "    plt.sca(ax[1][0])\n",
    "    _c3 = plt.scatter(RV0_hi_,ST0_hi_,c=OW0_hi_,cmap=ow_cmap,s=1e-13,marker='o',alpha=0.75,norm=ow_norm3)\n",
    "    fig.colorbar(_c3,ax=ax[1][0])\n",
    "    ax[1][0].set_xlabel(\"$\\zeta/f$\")\n",
    "    ax[1][0].set_ylabel(\"$\\sigma/f$\")\n",
    "    ax[1][0].set_title(\"Hi freq, z=0\")\n",
    "    ax[1][0].set_xlim([min_x3,max_x3])\n",
    "    ax[1][0].set_ylim([min_y3,max_y3])\n",
    "    \n",
    "    plt.sca(ax[1][1])\n",
    "    _c4 = plt.scatter(RVH_hi_,STH_hi_,c=OWH_hi_,cmap=ow_cmap,s=1e-13,marker='o',alpha=0.75,norm=ow_norm4)\n",
    "    fig.colorbar(_c4,ax=ax[1][1])\n",
    "    ax[1][1].set_xlabel(\"$\\zeta/f$\")\n",
    "    ax[1][1].set_ylabel(\"$\\sigma/f$\")\n",
    "    ax[1][1].set_title(\"Hi freq, z=H\")\n",
    "    ax[1][1].set_xlim([min_x4,max_x4])\n",
    "    ax[1][1].set_ylim([min_y4,max_y4])\n",
    "    \n",
    "    fig.suptitle(\"t = {}\".format(t), fontsize='x-large')\n",
    "    fig.canvas.draw()\n",
    "    image = np.frombuffer(fig.canvas.tostring_rgb(), dtype='uint8')\n",
    "    image  = image.reshape(fig.canvas.get_width_height()[::-1] + (3,))\n",
    "    plt.close(fig)\n",
    "    \n",
    "    return image\n",
    "\n",
    "\n",
    "kwargs_write = {'fps':1.0, 'quantizer':'nq'}\n",
    "print(\"Saving...\")\n",
    "imageio.mimsave('ow-st-scatter.gif', (scatter_ow_rob(t) for t in range(92)), fps=1)\n",
    "print(\"Saved!\")"
   ]
  },
  {
   "cell_type": "code",
   "execution_count": null,
   "metadata": {
    "ExecuteTime": {
     "start_time": "2020-04-27T04:55:02.941Z"
    },
    "scrolled": false
   },
   "outputs": [],
   "source": [
    "%%script false\n",
    "fig = plt.figure(figsize=(20,2*5))\n",
    "ow_cmap = plt.cm.coolwarm_r\n",
    "\n",
    "## Números de onda bajos\n",
    "ax1 = fig.add_subplot(2,2,1)\n",
    "#_c3 = plt.scatter(RV0_hi_,OW0_hi_,c=Rob_hi_r,cmap=plt.cm.RdBu,s=1e-13,marker='o',alpha=0.75)\n",
    "ow_norm = colors.DivergingNorm(vmin=np.min(OW0_lo_), vcenter=0, vmax=np.max(OW0_lo_))\n",
    "_c1 = plt.scatter(np.abs(RV0_lo_/f_cor),Rob_lo_r,c=OW0_lo_,cmap=ow_cmap,s=1e-13,marker='o',alpha=0.75,norm=ow_norm)\n",
    "fig.colorbar(_c1,ax=ax1)\n",
    "\n",
    "ax2 = fig.add_subplot(2,2,2)\n",
    "#_c4 = plt.scatter(RVH_hi_,OWH_hi_,c=Rob_hi_r,cmap=plt.cm.RdBu,s=1e-13,marker='o',alpha=0.75)\n",
    "ow_norm = colors.DivergingNorm(vmin=np.min(OWH_lo_), vcenter=0, vmax=np.max(OWH_lo_))\n",
    "_c2 = plt.scatter(np.abs(RVH_lo_/f_cor),Rob_lo_r,c=OWH_lo_,cmap=ow_cmap,s=1e-13,marker='o',alpha=0.75,norm=ow_norm)\n",
    "fig.colorbar(_c2,ax=ax2)\n",
    "\n",
    "## Números de onda altos\n",
    "ax3 = fig.add_subplot(2,2,3)\n",
    "ow_norm = colors.DivergingNorm(vmin=np.min(OW0_hi_), vcenter=0, vmax=np.max(OW0_hi_))\n",
    "_c3 = plt.scatter(np.abs(RV0_hi_/f_cor),Rob_hi_r,c=OW0_hi_,cmap=ow_cmap,s=1e-13,marker='o',alpha=0.75,norm=ow_norm)\n",
    "fig.colorbar(_c3,ax=ax3)\n",
    "\n",
    "ax4 = fig.add_subplot(2,2,4)\n",
    "ow_norm = colors.DivergingNorm(vmin=np.min(OWH_hi_), vcenter=0, vmax=np.max(OWH_hi_))\n",
    "_c4 = plt.scatter(np.abs(RVH_hi_/f_cor),Rob_hi_r,c=OWH_hi_,cmap=ow_cmap,s=1e-13,marker='o',alpha=0.75,norm=ow_norm)\n",
    "fig.colorbar(_c4,ax=ax4)\n",
    "\n",
    "print(\"Saving figure...\")\n",
    "fig.savefig('rv-rob-ow_scatter.png')\n",
    "print(\"Saved!\")\n",
    "#fig.show()"
   ]
  },
  {
   "cell_type": "markdown",
   "metadata": {},
   "source": [
    "### Calculamos la PDF de $\\zeta$ y $\\sigma$\n",
    "\n",
    "Se puede ver que la distrubución de $\\zeta$ para el fondo ($z=H$) es simétrica para movimientos en todas las escalas.\n",
    "\n",
    "Por otra parte, esa simetría se rompe en la capa superficial solo para movimientos menores a $L_t$.\n",
    "\n",
    "Lo anterior es debido a que los remolinos de submesoescala con vorticidades anticiclónicas fuertes ($\\zeta<-f$) son inestables, mientras que los de vorticidad ciclónica fuerte ($\\zeta>f$) son estables ($\\cite{Shcherbina2013}$)."
   ]
  },
  {
   "cell_type": "code",
   "execution_count": null,
   "metadata": {
    "ExecuteTime": {
     "start_time": "2020-04-27T04:55:02.955Z"
    },
    "scrolled": false
   },
   "outputs": [],
   "source": [
    "from matplotlib.colors import LogNorm,PowerNorm\n",
    "fig, ax = plt.subplots(2,2,figsize=(20,2*5))\n",
    "hist_norm = PowerNorm(0.25)\n",
    "\n",
    "plt.sca(ax[0][0])\n",
    "plt.hist2d(RV_Lo[:,0,:,:].flat[:],ST_Lo[:,0,:,:].flat[:],bins=50,density=False,norm=hist_norm)\n",
    "plt.colorbar()\n",
    "plt.xlabel(\"$\\zeta/f$\")\n",
    "plt.ylabel(\"$\\sigma/f$\")\n",
    "plt.title(\"Lo freq, z=0\")\n",
    "\n",
    "plt.sca(ax[0][1])\n",
    "plt.hist2d(RV_Lo[:,1,:,:].flat[:],ST_Lo[:,1,:,:].flat[:],bins=50,density=False,norm=hist_norm)\n",
    "plt.colorbar()\n",
    "plt.xlabel(\"$\\zeta/f$\")\n",
    "plt.ylabel(\"$\\sigma/f$\")\n",
    "plt.title(\"Lo freq, z=H\")\n",
    "\n",
    "plt.sca(ax[1][0])\n",
    "plt.hist2d(RV_Hi[:,0,:,:].flat[:],ST_Hi[:,0,:,:].flat[:],bins=50,density=False,norm=hist_norm)\n",
    "plt.colorbar()\n",
    "plt.xlabel(\"$\\zeta/f$\")\n",
    "plt.ylabel(\"$\\sigma/f$\")\n",
    "plt.title(\"Hi freq, z=0\")\n",
    "\n",
    "plt.sca(ax[1][1])\n",
    "plt.hist2d(RV_Hi[:,1,:,:].flat[:],ST_Hi[:,1,:,:].flat[:],bins=50,density=False,norm=hist_norm)\n",
    "plt.colorbar()\n",
    "plt.xlabel(\"$\\zeta/f$\")\n",
    "plt.ylabel(\"$\\sigma/f$\")\n",
    "plt.title(\"Hi freq, z=H\")"
   ]
  },
  {
   "cell_type": "markdown",
   "metadata": {},
   "source": [
    "## Nueva escala de transición\n",
    "\n",
    "Entonces, probaremos una definición distinta para una escala de transición que separe la submesoescala. Dicha definición busca una escala para la cual la distrubución de $\\zeta$ en $z=0$ para escalas mayores a $L_t$ sea aproximadamente simétrica. En términos de la asimetría estadística (_skewness_) $\\overline{\\mu_3}$:\n",
    "\n",
    "$\\left|\\overline{\\mu_3}\\right| < 0.5 $"
   ]
  },
  {
   "cell_type": "code",
   "execution_count": null,
   "metadata": {
    "ExecuteTime": {
     "start_time": "2020-04-27T04:55:02.970Z"
    }
   },
   "outputs": [],
   "source": [
    "fname_fmt = LUIGI_OUT_FOLDER + \"/Datasets/{0}/days/{1}0_00{2:03d}.txt\"\n",
    "import numpy as np\n",
    "from scipy.stats import skew\n",
    "import matplotlib.pyplot as plt\n",
    "scales = [x for x in range(12,277,15)]\n",
    "len(scales)"
   ]
  },
  {
   "cell_type": "code",
   "execution_count": null,
   "metadata": {
    "ExecuteTime": {
     "start_time": "2020-04-27T04:55:02.973Z"
    }
   },
   "outputs": [],
   "source": [
    "def UV4id(id,idx_t):\n",
    "    for idx,t in enumerate(idx_t):\n",
    "        U_ = np.loadtxt(fname_fmt.format(id,\"U\",t))\n",
    "        V_ = np.loadtxt(fname_fmt.format(id,\"V\",t))\n",
    "        if idx==0:\n",
    "            print(id,t)\n",
    "            #print(U_.shape)\n",
    "            shape_uv = U_.shape\n",
    "            print(\"U shape\",shape_uv)\n",
    "            shape = (len(idx_t),shape_uv[0],shape_uv[1])\n",
    "            U = np.zeros(shape)\n",
    "            V = np.zeros(shape)\n",
    "        U[idx,:,:] = U_\n",
    "        V[idx,:,:] = V_\n",
    "        \n",
    "    return U,V"
   ]
  },
  {
   "cell_type": "code",
   "execution_count": null,
   "metadata": {
    "ExecuteTime": {
     "start_time": "2020-04-27T04:55:02.976Z"
    }
   },
   "outputs": [],
   "source": [
    "fname_fmt_ = LUIGI_OUT_FOLDER + \"/Datasets/{}/days/{}.txt\"\n",
    "def dxdyf4id(id):\n",
    "    dx_ = np.loadtxt(fname_fmt_.format(id,\"dx\"))\n",
    "    dy_ = np.loadtxt(fname_fmt_.format(id,\"dy\"))\n",
    "    f_ = np.loadtxt(fname_fmt_.format(id,\"f\"))\n",
    "    \n",
    "    return dx_,dy_,f_"
   ]
  },
  {
   "cell_type": "code",
   "execution_count": null,
   "metadata": {
    "ExecuteTime": {
     "start_time": "2020-04-27T04:55:02.980Z"
    }
   },
   "outputs": [],
   "source": [
    "def dxdy_avg(dx,dy):\n",
    "    dx_avg = np.mean(dx.flatten())\n",
    "    dy_avg = np.mean(dy.flatten())\n",
    "    return dx_avg,dy_avg"
   ]
  },
  {
   "cell_type": "code",
   "execution_count": null,
   "metadata": {
    "ExecuteTime": {
     "start_time": "2020-04-27T04:55:02.984Z"
    }
   },
   "outputs": [],
   "source": [
    "def rv_(u,v,dx,dy):\n",
    "    return (np.gradient(v,axis=-1,edge_order=2)/dx) - (np.gradient(u,axis=-2,edge_order=2)/dy)"
   ]
  },
  {
   "cell_type": "code",
   "execution_count": null,
   "metadata": {
    "ExecuteTime": {
     "start_time": "2020-04-27T04:55:02.988Z"
    }
   },
   "outputs": [],
   "source": [
    "def ro_lohi(U,V,DX,DY,F,scale_km):\n",
    "    dx,dy = dxdy_avg(DX,DY)\n",
    "    #print(\"Avg dx,dy\",dx,dy)\n",
    "    u_lo,u_hi_ = filter_fft_butterworth(U,Lt=scale_km*1000,dx=dx,dy=dy)\n",
    "    u_hi,_ = filter_fft_butterworth(u_hi_,Lt=5*1000,dx=dx,dy=dy)\n",
    "    v_lo,v_hi_ = filter_fft_butterworth(V,Lt=scale_km*1000,dx=dx,dy=dy)\n",
    "    v_hi,_ = filter_fft_butterworth(v_hi_,Lt=5*1000,dx=dx,dy=dy)\n",
    "    rv_lo = rv_(u_lo,v_lo,DX,DY)\n",
    "    rv_hi = rv_(u_hi,v_hi,DX,DY)\n",
    "    return rv_lo/F,rv_hi/F\n",
    "\n",
    "def ro_rms_lohi(U,V,DX,DY,F):\n",
    "    #skew_lo = np.zeros((1,len(scales))).flatten()\n",
    "    #skew_hi = np.zeros((1,len(scales))).flatten()\n",
    "    rms_ro_lo = np.zeros((1,len(scales))).flatten()\n",
    "    rms_ro_hi = np.zeros((1,len(scales))).flatten()\n",
    "\n",
    "    for scale,i in zip(scales,range(len(scales))):\n",
    "        #print(scale)\n",
    "        ro_lo,ro_hi = ro_lohi(U,V,DX,DY,F,scale)\n",
    "        #skew_lo[i] = skew(ro_lo.flatten())\n",
    "        #skew_hi[i] = skew(ro_hi.flatten())\n",
    "        rms_ro_lo[i] = np.sqrt(np.mean(np.square(ro_lo.flatten())))\n",
    "        rms_ro_hi[i] = np.sqrt(np.mean(np.square(ro_hi.flatten())))\n",
    "\n",
    "    return rms_ro_lo,rms_ro_hi"
   ]
  },
  {
   "cell_type": "code",
   "execution_count": null,
   "metadata": {
    "ExecuteTime": {
     "start_time": "2020-04-27T04:55:02.992Z"
    },
    "code_folding": [
     0
    ]
   },
   "outputs": [],
   "source": [
    "def lt4uv(U,V,DX,DY,F,id,season):\n",
    "    print(\"rms(Ro) for all scales ({},{})\".format(id,season))\n",
    "    rms_ro_lo,rms_ro_hi = ro_rms_lohi(U,V,DX,DY,F)\n",
    "    #sk_lo = np.abs(skew_lo)\n",
    "    #idx_lt = np.where(skew_hi>=np.max(skew_hi))[0][-1]\n",
    "    #idx_where = np.where(sk_lo==np.min(sk_lo))[0]\n",
    "    #idx_where = np.where(np.abs(sk_lo)<=0.5[0])\n",
    "    #idx_where = np.where(max_ro_lo<=0.5)[0]\n",
    "    #idx_where = np.where(max_ro_lo<=np.sqrt(0.1))[0]\n",
    "    #idx_where = np.where(max_ro_lo<=np.sqrt(0.1) or max_ro_lo<=0.5)[0]\n",
    "    #idx_where = np.where(max_ro_lo<=np.sqrt(0.1))[0]\n",
    "    #print(idx_where)\n",
    "    #if len(idx_where):\n",
    "    #    idx_lt = idx_where[0]\n",
    "    #else:\n",
    "    #    idx_lt = -1 # Tomamos la última\n",
    "    \n",
    "    #lt = scales[idx_lt]\n",
    "    #print(\"lt\",lt)\n",
    "    #min_sk = min(np.min(skew_lo),np.min(skew_hi),-0.5)-0.1\n",
    "    #max_sk = max(np.max(skew_lo),np.max(skew_hi),+0.5)+0.1\n",
    "\n",
    "    print(\"Plotting\")\n",
    "    #fig,ax = plt.subplots(1,1,figsize=(10,5))\n",
    "    plt.figure()#figsize=(10,12))\n",
    "    #ax = ax.flat[:]\n",
    "\n",
    "    #plt.sca(ax[0]) \n",
    "    plt.plot(scales,rms_ro_lo)\n",
    "    plt.plot(scales,rms_ro_hi)\n",
    "    #plt.sca(ax[0].twinx())\n",
    "    #plt.plot(scales,max_ro_lo)                          # Max Ro\n",
    "    #plt.plot([scales[0],scales[-1]],[0.5,0.5],'r-')# 1/sqrt(10)\n",
    "    #plt.plot([lt,lt],[min_sk,max_sk],color='grey',linestyle='dashed')              # Lt\n",
    "    #plt.plot([scales[0],scales[-1]],[0.316,0.316],'r:')# 1/sqrt(10)\n",
    "    #plt.legend([\"Max Ro Low\"])\n",
    "    #plt.sca(ax[0])\n",
    "    #plt.plot([scales[0],scales[-1]],[0.5,0.5],'k--')    # Upper bound\n",
    "    #plt.plot([scales[0],scales[-1]],[0,0],'k-')         # Zero skewness\n",
    "    #plt.plot([scales[0],scales[-1]],[-0.5,-0.5],'k--')  # Lower bound\n",
    "    plt.legend([\"RMS Low Kh\",\"RMS High Kh\"])\n",
    "    #plt.ylim([min_sk,min(np.max(max_ro_lo),max_sk,3)+0.1])\n",
    "\n",
    "    #plt.sca(ax[1])\n",
    "    #ro_lo_lt,ro_hi_lt = ro_lohi(U,V,DX,DY,F,lt)\n",
    "    #ro_lo_lt_flat,ro_hi_lt_flat = ro_lo_lt.flatten(),ro_hi_lt.flatten()\n",
    "    #plt.hist([ro_lo_lt_flat,ro_hi_lt_flat],density=True,bins=101,log=True)\n",
    "    #plt.legend([\"Lo\",\"Hi\"])\n",
    "    \n",
    "    plt.suptitle(\"{}/{}\".format(id,season))\n",
    "    plt.show()\n",
    "    \n",
    "    return rms_ro_lo,rms_ro_hi"
   ]
  },
  {
   "cell_type": "markdown",
   "metadata": {
    "ExecuteTime": {
     "end_time": "2020-03-07T00:53:31.771258Z",
     "start_time": "2020-03-07T00:53:31.767651Z"
    }
   },
   "source": [
    "#### Calculamos para las regiones de cada corriente"
   ]
  },
  {
   "cell_type": "code",
   "execution_count": null,
   "metadata": {
    "ExecuteTime": {
     "start_time": "2020-04-27T04:55:03.004Z"
    }
   },
   "outputs": [],
   "source": [
    "ids_Cal = [762, 787, 809, 831, 852, 868] # California -- 23 to 51 N\n",
    "ids_Can = [709, 730, 750, 771] # Canarias -- 16 to 36 N\n",
    "ids_Peru = [450, 572, 596, 616, 636] # Peru Chile -- 5 to 45 S\n",
    "ids_Ben = [459, 533, 556, 578, 602] # Benguela -- 15 to 37 S ** Quitamos la **459** y ponemos la 602"
   ]
  },
  {
   "cell_type": "code",
   "execution_count": null,
   "metadata": {
    "ExecuteTime": {
     "start_time": "2020-04-27T04:55:03.007Z"
    }
   },
   "outputs": [],
   "source": [
    "idx_t = {\"JFM\": idx_t_JFM, \"JAS\": idx_t_JAS}"
   ]
  },
  {
   "cell_type": "code",
   "execution_count": null,
   "metadata": {
    "ExecuteTime": {
     "start_time": "2020-04-27T04:55:03.011Z"
    },
    "code_folding": [
     0,
     16
    ]
   },
   "outputs": [],
   "source": [
    "## Los resultados se guardan en la siguiente estructura:\n",
    "#{\n",
    "#    season: {\n",
    "#        id: {\n",
    "#            \"scales\": scales,\n",
    "#            \"sk_lo\": sk_lo,\n",
    "#            \"sk_hi\": sk_hi,\n",
    "#            \"max_ro_lo\": max_ro_lo,\n",
    "#            \"lt\": lt, # L_t: escala para la cual ro_max_lo<=lo_thr\n",
    "#            \"lt_thr\": 1/sqrt(10) # Umbral utilizado para definir L_t\n",
    "#            \"ro_lo_lt\": ro_lo_lt,\n",
    "#            \"ro_hi_lt\": ro_hi_lt\n",
    "#        }\n",
    "#    }\n",
    "#}\n",
    "\n",
    "def lt_4ids(ids,seasons,res=None):\n",
    "    res_ = {} if res is None else res\n",
    "    for r_id in ids:\n",
    "        #print(r_id)\n",
    "        DX_id,DY_id,F_id = dxdyf4id(r_id)\n",
    "        for season in seasons:\n",
    "            print(r_id,season)\n",
    "            idx_t_season = idx_t[season]\n",
    "            #print(DX_id.shape,DY_id.shape,F_id.shape)\n",
    "            U_id,V_id = UV4id(r_id,idx_t_season)\n",
    "            #print(U_ASO.shape,V_ASO.shape)\n",
    "            # * Guardando resultado\n",
    "            rms_ro_lo,rms_ro_hi = lt4uv(U_id,V_id,DX_id,DY_id,F_id,r_id,season)\n",
    "            if season not in res_.keys():\n",
    "                res_[season] = {}\n",
    "            res_[season][r_id] = {\n",
    "                \"scales\": scales,\n",
    "                #\"sk_lo\": sk_lo,\n",
    "                #\"sk_hi\": sk_hi,\n",
    "                #\"max_ro_lo\": max_ro_lo,\n",
    "                #\"lt\": lt,\n",
    "                #\"lt_thr\": lt_thr,\n",
    "                \"rms_ro_lo\": rms_ro_lo,\n",
    "                \"rms_ro_hi\": rms_ro_hi\n",
    "            }\n",
    "    return res_"
   ]
  },
  {
   "cell_type": "markdown",
   "metadata": {},
   "source": [
    "##### California"
   ]
  },
  {
   "cell_type": "code",
   "execution_count": null,
   "metadata": {
    "ExecuteTime": {
     "start_time": "2020-04-27T04:55:03.024Z"
    },
    "scrolled": true
   },
   "outputs": [],
   "source": [
    "resCal = lt_4ids(ids_Cal,[\"JAS\",\"JFM\"])"
   ]
  },
  {
   "cell_type": "markdown",
   "metadata": {},
   "source": [
    "##### Canarias"
   ]
  },
  {
   "cell_type": "code",
   "execution_count": null,
   "metadata": {
    "ExecuteTime": {
     "start_time": "2020-04-27T04:55:03.036Z"
    },
    "scrolled": true
   },
   "outputs": [],
   "source": [
    "resCan = lt_4ids(ids_Can,[\"JAS\",\"JFM\"])"
   ]
  },
  {
   "cell_type": "markdown",
   "metadata": {},
   "source": [
    "##### Peru-Chile "
   ]
  },
  {
   "cell_type": "code",
   "execution_count": null,
   "metadata": {
    "ExecuteTime": {
     "start_time": "2020-04-27T04:55:03.048Z"
    },
    "scrolled": true
   },
   "outputs": [],
   "source": [
    "resPeru = lt_4ids(ids_Peru,[\"JAS\",\"JFM\"])"
   ]
  },
  {
   "cell_type": "markdown",
   "metadata": {},
   "source": [
    "##### Benguela"
   ]
  },
  {
   "cell_type": "code",
   "execution_count": null,
   "metadata": {
    "ExecuteTime": {
     "start_time": "2020-04-27T04:55:03.061Z"
    },
    "scrolled": false
   },
   "outputs": [],
   "source": [
    "resBen = lt_4ids(ids_Ben,[\"JAS\",\"JFM\"])"
   ]
  },
  {
   "cell_type": "markdown",
   "metadata": {},
   "source": [
    "##### Kuroshio"
   ]
  },
  {
   "cell_type": "code",
   "execution_count": null,
   "metadata": {
    "ExecuteTime": {
     "start_time": "2020-04-27T04:55:03.073Z"
    },
    "scrolled": false
   },
   "outputs": [],
   "source": [
    "ids_Kuro = [733,751,796]\n",
    "resKuro = lt_4ids(ids_Kuro,[\"JAS\",\"JFM\"])"
   ]
  },
  {
   "cell_type": "markdown",
   "metadata": {},
   "source": [
    "##### Función para graficar MaxRo para una corriente"
   ]
  },
  {
   "cell_type": "code",
   "execution_count": null,
   "metadata": {
    "ExecuteTime": {
     "start_time": "2020-04-27T04:55:03.085Z"
    }
   },
   "outputs": [],
   "source": [
    "lats4id = {\n",
    "    762: 26.641, 787: 31.462, 809: 36.056, 831: 40.411, 852: 44.521, 868: 48.383,\n",
    "    709: 16.398, 730: 21.611, 750: 26.641, 771: 31.462,\n",
    "    450: -40.411, 572: -21.611, 596: -16.398, 616: -11.032, 636: -5.552,\n",
    "    459: -36.056, 533: -26.641, 556: -21.611, 578: -16.398, 602: -11.032,\n",
    "    733: 21.612, 751: 26.642, 796: 36.055\n",
    "}"
   ]
  },
  {
   "cell_type": "code",
   "execution_count": null,
   "metadata": {
    "ExecuteTime": {
     "start_time": "2020-04-27T04:55:03.089Z"
    },
    "code_folding": []
   },
   "outputs": [],
   "source": [
    "def createMaxRoPlot(res,title,hem,ax,var):\n",
    "    #max_x = 50\n",
    "    max_y = 0\n",
    "    ids_ = set([])\n",
    "    plt.sca(ax)\n",
    "    for season_id,season_v in res.items():\n",
    "        #print(season_id)\n",
    "        linestyle = \"-\" if ((season_id==\"JAS\" and hem==\"N\") or (season_id==\"JFM\" and hem==\"S\")) else \"--\" # summer or winter\n",
    "        for id_k,id_v in season_v.items():\n",
    "            ids_.add(id_k)\n",
    "            #plt.sca(ax[idx])\n",
    "            leg = \"{} @ {} {}\".format(id_k,lats4id[id_k],hem)\n",
    "            #max_x = max(max_x,id_v[\"lt\"])\n",
    "            max_y = max(max_y,id_v[var].max())\n",
    "            plt.plot(id_v[\"scales\"],id_v[var],linestyle=linestyle,label=leg)\n",
    "        ax.set_prop_cycle(None) # Reset color cycle\n",
    "    #plt.plot([scales[0],scales[-1]],[np.sqrt(0.1),np.sqrt(0.1)],'r:')\n",
    "    # Legends -- see https://stackoverflow.com/questions/13303928/how-to-make-custom-legend-in-matplotlib\n",
    "    handles, labels = ax.get_legend_handles_labels()\n",
    "    display = [x for x in range(len(ids_))] # Solo un display por ID, en lugar del doble\n",
    "    artistSummer = plt.Line2D((0,1),(0,0), color='gray', linestyle='-')\n",
    "    artistWinter = plt.Line2D((0,1),(0,0), color='gray', linestyle='--')\n",
    "    allArtists = [handle for i,handle in enumerate(handles) if i in display]+[artistSummer,artistWinter]\n",
    "    allLabels = [label for i,label in enumerate(labels) if i in display]+['Summer', 'Winter']\n",
    "    plt.legend(allArtists,allLabels)\n",
    "    #plt.legend(ncol=len(res.keys()))\n",
    "    #\n",
    "    plt.yscale('log')\n",
    "    yticks = [10**(-i) for i in range(4)]\n",
    "    plt.yticks(yticks,[\"{:.3f}\".format(x) for x in yticks])\n",
    "    plt.ylabel(\"Ro RMS\",size='x-large')\n",
    "    plt.xlabel(\"Horizontal scales cutoff\",size='x-large')\n",
    "    #plt.xlim([min(scales),max_x+5])\n",
    "    plt.xlim([min(scales),max(scales)])\n",
    "    plt.ylim([0.001,1])\n",
    "    plt.title(title,size='xx-large')"
   ]
  },
  {
   "cell_type": "code",
   "execution_count": null,
   "metadata": {
    "ExecuteTime": {
     "start_time": "2020-04-27T04:55:03.092Z"
    }
   },
   "outputs": [],
   "source": [
    "fig_kur, ax_kur = plt.subplots(1,2,figsize=(15,7))\n",
    "ax_kur = ax_kur.flat[:]\n",
    "createMaxRoPlot(resKuro,\"Kuroshio Lo\",\"N\",ax_kur[0],\"rms_ro_lo\")\n",
    "createMaxRoPlot(resKuro,\"Kuroshio Hi\",\"N\",ax_kur[1],\"rms_ro_hi\")\n",
    "plt.show()"
   ]
  },
  {
   "cell_type": "markdown",
   "metadata": {},
   "source": [
    "#### Graficando todas juntas"
   ]
  },
  {
   "cell_type": "code",
   "execution_count": null,
   "metadata": {
    "ExecuteTime": {
     "start_time": "2020-04-27T04:55:03.107Z"
    }
   },
   "outputs": [],
   "source": [
    "res_All = [(resCal,\"California\",\"N\"), (resCan,\"Canarias\",\"N\"), (resPeru,\"Peru\",\"S\"), (resBen,\"Benguela\",\"S\"),(resKuro,\"Kuroshio\",\"N\")]"
   ]
  },
  {
   "cell_type": "code",
   "execution_count": null,
   "metadata": {
    "ExecuteTime": {
     "start_time": "2020-04-27T04:55:03.110Z"
    },
    "code_folding": [],
    "scrolled": false
   },
   "outputs": [],
   "source": [
    "fig, ax = plt.subplots(3,2,figsize=(15,20))\n",
    "ax = ax.flat[:]\n",
    "\n",
    "for idx,res_wname in enumerate(res_All):\n",
    "    #plt.sca(ax[idx])\n",
    "    res,region,hem = res_wname\n",
    "    #print(idx,region)\n",
    "    #print(res.keys())\n",
    "    createMaxRoPlot(res,region,hem,ax[idx],\"rms_ro_lo\")\n",
    "    \n",
    "plt.show()"
   ]
  },
  {
   "cell_type": "code",
   "execution_count": null,
   "metadata": {
    "ExecuteTime": {
     "start_time": "2020-04-27T04:55:03.114Z"
    }
   },
   "outputs": [],
   "source": [
    "fig, ax = plt.subplots(3,2,figsize=(15,20))\n",
    "ax = ax.flat[:]\n",
    "\n",
    "for idx,res_wname in enumerate(res_All):\n",
    "    #plt.sca(ax[idx])\n",
    "    res,region,hem = res_wname\n",
    "    #print(idx,region)\n",
    "    #print(res.keys())\n",
    "    createMaxRoPlot(res,region,hem,ax[idx],\"rms_ro_hi\")\n",
    "    \n",
    "plt.show()"
   ]
  },
  {
   "cell_type": "code",
   "execution_count": null,
   "metadata": {
    "ExecuteTime": {
     "start_time": "2020-04-27T04:55:03.118Z"
    },
    "code_folding": [
     1
    ]
   },
   "outputs": [],
   "source": [
    "%%script false\n",
    "def diffLt(res_):\n",
    "    ltJAS = [id_v[\"lt\"] for id_v in res_[\"JAS\"].values()]\n",
    "    ltJFM = [id_v[\"lt\"] for id_v in res_[\"JFM\"].values()]\n",
    "    return [x-y for x,y in zip(ltJAS,ltJFM)]"
   ]
  },
  {
   "cell_type": "code",
   "execution_count": null,
   "metadata": {
    "ExecuteTime": {
     "start_time": "2020-04-27T04:55:03.122Z"
    },
    "code_folding": [
     3
    ]
   },
   "outputs": [],
   "source": [
    "%%script false\n",
    "plt.figure(figsize=(10,7))\n",
    "\n",
    "for idx,res_wname in enumerate(res_All):\n",
    "    res,region,_ = res_wname\n",
    "    ltScatter = diffLt(res)\n",
    "    x_ = [idx]*len(ltScatter)\n",
    "    plt.scatter(x_,ltScatter)\n",
    "    #plt.xticks([idx],region)\n",
    "\n",
    "labels_ = [x for x in zip(*[[idx,r[1]] for idx,r in enumerate(res_All)])]\n",
    "plt.xticks(*labels_)\n",
    "plt.ylabel(\"Lt* diff\",size='xx-large')\n",
    "plt.show()"
   ]
  },
  {
   "cell_type": "markdown",
   "metadata": {},
   "source": [
    "#### Graficando $L_t$ contra otras variables, para buscar posibles correlaciones"
   ]
  },
  {
   "cell_type": "code",
   "execution_count": null,
   "metadata": {
    "ExecuteTime": {
     "start_time": "2020-04-27T04:55:03.134Z"
    }
   },
   "outputs": [],
   "source": [
    "from importlib import reload\n",
    "import spectral_analysis\n",
    "reload(spectral_analysis)\n",
    "from spectral_analysis.tools.spectral_analysis_tools import open_ds_kwe,calc_bm_igw_k\n",
    "#from spectral_analysis.tools..utils_thesis import coriolis"
   ]
  },
  {
   "cell_type": "code",
   "execution_count": null,
   "metadata": {
    "ExecuteTime": {
     "start_time": "2020-04-27T04:55:03.137Z"
    }
   },
   "outputs": [],
   "source": [
    "import pandas as pd\n",
    "import json"
   ]
  },
  {
   "cell_type": "code",
   "execution_count": null,
   "metadata": {
    "ExecuteTime": {
     "start_time": "2020-04-27T04:55:03.141Z"
    }
   },
   "outputs": [],
   "source": [
    "spectra_folder = '{}/spectra'.format(DATA_FOLDER)\n",
    "json_fname_fmt = \"{folder}/all_{season}_{var}.json\"\n",
    "spectra_fname_fmt = \"{folder}/{season}/{var}/{fname}\""
   ]
  },
  {
   "cell_type": "code",
   "execution_count": null,
   "metadata": {
    "ExecuteTime": {
     "start_time": "2020-04-27T04:55:03.144Z"
    },
    "scrolled": true
   },
   "outputs": [],
   "source": [
    "merged_Rd_c1_H_Nbv = pd.read_csv('{}/merged_Rd_c1_H_Nbv.csv'.format(DATA_FOLDER),index_col='s_id')\n",
    "merged_Rd_c1_H_Nbv.head()"
   ]
  },
  {
   "cell_type": "code",
   "execution_count": null,
   "metadata": {
    "ExecuteTime": {
     "start_time": "2020-04-27T04:55:03.148Z"
    }
   },
   "outputs": [],
   "source": [
    "def getSpectrumFnameLat(season,var,id):\n",
    "    with open(json_fname_fmt.format(folder=spectra_folder,season=season,var=var),'r') as f:\n",
    "        data = json.load(f)\n",
    "    s_id = str(id)\n",
    "    lat = data[s_id]['lat']\n",
    "    fname = spectra_fname_fmt.format(folder=spectra_folder,season=season,var=var,fname=data[s_id]['fname'])\n",
    "    return fname,lat"
   ]
  },
  {
   "cell_type": "code",
   "execution_count": null,
   "metadata": {
    "ExecuteTime": {
     "start_time": "2020-04-27T04:55:03.154Z"
    }
   },
   "outputs": [],
   "source": [
    "def getSpectrum_bmigw_lohi(season,var,id,Lt_km,log=False):\n",
    "    # Get data\n",
    "    fname,lat = getSpectrumFnameLat(season,var,id)\n",
    "    kh,freq,S = open_ds_kwe(fname,log)\n",
    "    dk = kh[1]-kh[0]\n",
    "    id_data = merged_Rd_c1_H_Nbv.loc[id]\n",
    "    N = id_data[\"Nbv_cph_2\"]\n",
    "    H = id_data[\"H\"]/1000\n",
    "    # Calculamos la energía por encima y por debajo de la curva IGW10_M2\n",
    "    bm_k,igw_k = calc_bm_igw_k(kh,freq,S,lat,Nbv=N,H=H,log=log)\n",
    "    # Convertimos a energía\n",
    "    if var==\"RV\" or var==\"DIV\":\n",
    "        bm_k = (bm_k/kh)**2\n",
    "        igw_k = (igw_k/kh)**2\n",
    "    # Separamos las partes por encima y por debajo de lt\n",
    "    kMask_lo = 1./kh>Lt_km\n",
    "    kMask_hi = 1./kh<=Lt_km\n",
    "    # Integramos para toda k\n",
    "    bm_lo_tot = bm_k[kMask_lo].sum()*dk\n",
    "    bm_hi_tot = bm_k[kMask_hi].sum()*dk\n",
    "    igw_lo_tot = igw_k[kMask_lo].sum()*dk\n",
    "    igw_hi_tot = igw_k[kMask_hi].sum()*dk\n",
    "    return bm_lo_tot,bm_hi_tot,igw_lo_tot,igw_hi_tot"
   ]
  },
  {
   "cell_type": "markdown",
   "metadata": {},
   "source": [
    "# References\n",
    "\n",
    "(<a id=\"cit-Shcherbina2013\" href=\"#call-Shcherbina2013\">?</a>) !! _This reference was not found in biblio.bib _ !!\n",
    "\n"
   ]
  },
  {
   "cell_type": "code",
   "execution_count": null,
   "metadata": {
    "ExecuteTime": {
     "start_time": "2020-04-27T04:55:03.169Z"
    }
   },
   "outputs": [],
   "source": [
    "%%javascript\n",
    "IPython.notebook.save_notebook()"
   ]
  },
  {
   "cell_type": "code",
   "execution_count": null,
   "metadata": {},
   "outputs": [],
   "source": []
  }
 ],
 "metadata": {
  "celltoolbar": "Initialization Cell",
  "kernelspec": {
   "display_name": "LLC",
   "language": "python",
   "name": "llc"
  },
  "language_info": {
   "codemirror_mode": {
    "name": "ipython",
    "version": 3
   },
   "file_extension": ".py",
   "mimetype": "text/x-python",
   "name": "python",
   "nbconvert_exporter": "python",
   "pygments_lexer": "ipython3",
   "version": "3.6.9"
  },
  "latex_envs": {
   "LaTeX_envs_menu_present": true,
   "autoclose": true,
   "autocomplete": true,
   "bibliofile": "biblio.bib",
   "cite_by": "apalike",
   "current_citInitial": 1,
   "eqLabelWithNumbers": true,
   "eqNumInitial": 1,
   "hotkeys": {
    "equation": "Ctrl-E",
    "itemize": "Ctrl-I"
   },
   "labels_anchors": false,
   "latex_user_defs": false,
   "report_style_numbering": false,
   "user_envs_cfg": false
  },
  "varInspector": {
   "cols": {
    "lenName": 16,
    "lenType": 16,
    "lenVar": 40
   },
   "kernels_config": {
    "python": {
     "delete_cmd_postfix": "",
     "delete_cmd_prefix": "del ",
     "library": "var_list.py",
     "varRefreshCmd": "print(var_dic_list())"
    },
    "r": {
     "delete_cmd_postfix": ") ",
     "delete_cmd_prefix": "rm(",
     "library": "var_list.r",
     "varRefreshCmd": "cat(var_dic_list()) "
    }
   },
   "position": {
    "height": "699px",
    "left": "1525.99px",
    "right": "20px",
    "top": "118.993px",
    "width": "539px"
   },
   "types_to_exclude": [
    "module",
    "function",
    "builtin_function_or_method",
    "instance",
    "_Feature"
   ],
   "window_display": false
  }
 },
 "nbformat": 4,
 "nbformat_minor": 2
}
