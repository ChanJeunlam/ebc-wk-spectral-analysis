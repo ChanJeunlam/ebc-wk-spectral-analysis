{
 "cells": [
  {
   "cell_type": "code",
   "execution_count": 1,
   "metadata": {
    "execution": {
     "iopub.execute_input": "2020-11-19T08:08:59.303927Z",
     "iopub.status.busy": "2020-11-19T08:08:59.303632Z",
     "iopub.status.idle": "2020-11-19T08:08:59.308082Z",
     "shell.execute_reply": "2020-11-19T08:08:59.307119Z",
     "shell.execute_reply.started": "2020-11-19T08:08:59.303899Z"
    }
   },
   "outputs": [],
   "source": [
    "import gc\n",
    "import warnings\n",
    "warnings.filterwarnings('ignore')"
   ]
  },
  {
   "cell_type": "code",
   "execution_count": 2,
   "metadata": {
    "execution": {
     "iopub.execute_input": "2020-11-19T08:08:59.690009Z",
     "iopub.status.busy": "2020-11-19T08:08:59.689728Z",
     "iopub.status.idle": "2020-11-19T08:09:00.926478Z",
     "shell.execute_reply": "2020-11-19T08:09:00.925700Z",
     "shell.execute_reply.started": "2020-11-19T08:08:59.689982Z"
    }
   },
   "outputs": [],
   "source": [
    "import os\n",
    "import ephem\n",
    "import datetime\n",
    "import numpy as np\n",
    "import seaborn as sns\n",
    "from scipy import signal\n",
    "from IPython import display\n",
    "from itertools import product\n",
    "import matplotlib.pyplot as plt\n",
    "import matplotlib.colors as colors\n",
    "from matplotlib.colors import LogNorm, DivergingNorm, SymLogNorm\n",
    "\n",
    "sns.set()\n",
    "sns.set_style(\"ticks\")"
   ]
  },
  {
   "cell_type": "code",
   "execution_count": 3,
   "metadata": {
    "execution": {
     "iopub.execute_input": "2020-11-19T08:09:12.393855Z",
     "iopub.status.busy": "2020-11-19T08:09:12.393525Z",
     "iopub.status.idle": "2020-11-19T08:09:12.430557Z",
     "shell.execute_reply": "2020-11-19T08:09:12.429677Z",
     "shell.execute_reply.started": "2020-11-19T08:09:12.393818Z"
    }
   },
   "outputs": [],
   "source": [
    "from spectral_analysis.common_vars.time_slices import idx_t\n",
    "from spectral_analysis.common_vars.directories import LUIGI_OUT_FOLDER,POSTPROCESS_OUT_FOLDER\n",
    "from spectral_analysis.common_vars.regions import ids_regions,lats4id,lons4id,faces_regions\n",
    "from spectral_analysis.isotropic_spectra.spectral_kinema import spectral_kinematics\n",
    "from spectral_analysis.isotropic_spectra.co_spec import cospec_ab\n",
    "from spectral_analysis.isotropic_spectra.isotropic import calc_ispec\n",
    "from spectral_analysis.luigi_workflows.output import theta4idt,Theta4id,uv4idt,UV4id,tau4idt,Tau4id,VorticityGrid,H4id"
   ]
  },
  {
   "cell_type": "code",
   "execution_count": 4,
   "metadata": {
    "execution": {
     "iopub.execute_input": "2020-11-19T08:09:13.819737Z",
     "iopub.status.busy": "2020-11-19T08:09:13.819439Z",
     "iopub.status.idle": "2020-11-19T08:09:13.838354Z",
     "shell.execute_reply": "2020-11-19T08:09:13.837537Z",
     "shell.execute_reply.started": "2020-11-19T08:09:13.819710Z"
    }
   },
   "outputs": [],
   "source": [
    "%matplotlib widget"
   ]
  },
  {
   "cell_type": "code",
   "execution_count": 5,
   "metadata": {
    "execution": {
     "iopub.execute_input": "2020-11-19T08:09:14.570928Z",
     "iopub.status.busy": "2020-11-19T08:09:14.570629Z",
     "iopub.status.idle": "2020-11-19T08:09:14.575524Z",
     "shell.execute_reply": "2020-11-19T08:09:14.574549Z",
     "shell.execute_reply.started": "2020-11-19T08:09:14.570901Z"
    }
   },
   "outputs": [],
   "source": [
    "cmap_ranges = {\n",
    "    \"KE\": [-1e-2,1e-2],\n",
    "    \"RV\": [1e-12,1e-10],\n",
    "    \"DIV\": [1e-12,1e-10],\n",
    "    \"RVDIV\": [0.1,10]\n",
    "}"
   ]
  },
  {
   "cell_type": "code",
   "execution_count": 6,
   "metadata": {
    "execution": {
     "iopub.execute_input": "2020-11-19T08:09:15.170711Z",
     "iopub.status.busy": "2020-11-19T08:09:15.170399Z",
     "iopub.status.idle": "2020-11-19T08:09:15.177646Z",
     "shell.execute_reply": "2020-11-19T08:09:15.176673Z",
     "shell.execute_reply.started": "2020-11-19T08:09:15.170682Z"
    }
   },
   "outputs": [],
   "source": [
    "xlims = [1/150,1/8]\n",
    "xticks = [1/10,1/25,1/50,1/80,1/150]\n",
    "xticksLabel = ['10','25','50','80','150']\n",
    "yticks = [1/3,1/6,1/12,1/24,1/(24*7),1/(24*30)]\n",
    "yticksLabel = ['3 h','6 h','12 h','1 d','1 w','1 mo']\n",
    "# Lt plots\n",
    "xticks_ = [1/10,1/20,1/30,1/40,1/50,1/75,1/100,1/150]\n",
    "xticksLabel_ = ['10','20','30','40','50','75','100','150']"
   ]
  },
  {
   "cell_type": "code",
   "execution_count": 7,
   "metadata": {
    "execution": {
     "iopub.execute_input": "2020-11-19T08:09:15.978094Z",
     "iopub.status.busy": "2020-11-19T08:09:15.977791Z",
     "iopub.status.idle": "2020-11-19T08:09:15.982311Z",
     "shell.execute_reply": "2020-11-19T08:09:15.981426Z",
     "shell.execute_reply.started": "2020-11-19T08:09:15.978067Z"
    }
   },
   "outputs": [],
   "source": [
    "timevec\n",
    "= idx_t[\"hours\"][\"JFM\"]"
   ]
  },
  {
   "cell_type": "code",
   "execution_count": 8,
   "metadata": {
    "execution": {
     "iopub.execute_input": "2020-11-19T08:09:16.413577Z",
     "iopub.status.busy": "2020-11-19T08:09:16.413233Z",
     "iopub.status.idle": "2020-11-19T08:09:16.421297Z",
     "shell.execute_reply": "2020-11-19T08:09:16.420223Z",
     "shell.execute_reply.started": "2020-11-19T08:09:16.413547Z"
    }
   },
   "outputs": [],
   "source": [
    "def plot_cospectra(ki, omega, S, title, linthresh=1e-8, cmap='bwr', vminmax=None):\n",
    "    plt.figure(figsize=(8,6))\n",
    "    SS = (omega*S).T*ki\n",
    "    if vminmax is None:\n",
    "        vminmax = max(abs(np.min(SS)), np.max(SS))\n",
    "    plt.pcolormesh(ki, omega, SS, norm = SymLogNorm(linthresh=linthresh,vmin=-1*vminmax,vmax=vminmax), cmap=cmap)\n",
    "    #plt.clim(cmap_ranges[\"KE\"])\n",
    "    plt.xscale('log')\n",
    "    plt.xticks(xticks,xticksLabel)\n",
    "    plt.xlim(xlims)\n",
    "    plt.yscale('log')\n",
    "    plt.ylim([omega[1],omega[-100]])\n",
    "    plt.yticks(yticks,yticksLabel)\n",
    "    plt.colorbar()\n",
    "    plt.xlabel('Horizontal scales [km]')\n",
    "    plt.ylabel('Time scales')\n",
    "    plt.title(title)\n",
    "    plt.show()"
   ]
  },
  {
   "cell_type": "code",
   "execution_count": 9,
   "metadata": {
    "execution": {
     "iopub.execute_input": "2020-11-19T08:09:16.933191Z",
     "iopub.status.busy": "2020-11-19T08:09:16.932875Z",
     "iopub.status.idle": "2020-11-19T08:09:16.949528Z",
     "shell.execute_reply": "2020-11-19T08:09:16.948483Z",
     "shell.execute_reply.started": "2020-11-19T08:09:16.933162Z"
    }
   },
   "outputs": [],
   "source": [
    "def plotRegion(regionId):\n",
    "    # Load vars\n",
    "    grid = VorticityGrid(regionId)\n",
    "    U,V = UV4id(regionId,timevec,0)\n",
    "    qFlux = H4id(regionId,timevec)\n",
    "    tauX,tauY = Tau4id(regionId,timevec,0)\n",
    "    tau = np.sqrt(tauX**2 + tauY**2)\n",
    "\n",
    "    # Rotational\n",
    "    U_tfirst = np.moveaxis(U,-1,0)\n",
    "    V_tfirst = np.moveaxis(V,-1,0)\n",
    "    RV = grid.rv(U_tfirst,V_tfirst)\n",
    "    RV = np.moveaxis(RV,0,-1)\n",
    "\n",
    "    # Divergence\n",
    "    DIV = grid.div(U_tfirst,V_tfirst)\n",
    "    DIV = np.moveaxis(DIV,0,-1)\n",
    "\n",
    "    # rot(tau)\n",
    "    tauX_tfirst = np.moveaxis(tauX,-1,0)\n",
    "    tauY_tfirst = np.moveaxis(tauY,-1,0)\n",
    "    rotTau = grid.rv(tauX_tfirst,tauY_tfirst)\n",
    "    rotTau = np.moveaxis(rotTau,0,-1)\n",
    "\n",
    "\n",
    "    ## Cospectra oceQnet - RV/DIV\n",
    "    co_qfluxRV,kx,ky,omega,dkx,dky,domega = cospec_ab(qFlux,RV,2,2,1)\n",
    "    ki,co_qfluxRV_iso = calc_ispec(co_qfluxRV,kx,ky,omega)\n",
    "    co_qfluxRV_iso.shape\n",
    "    co_qfluxDIV,kx,ky,omega,dkx,dky,domega = cospec_ab(qFlux,DIV,2,2,1)\n",
    "    ki,co_qfluxDIV_iso = calc_ispec(co_qfluxDIV,kx,ky,omega)\n",
    "    co_qfluxDIV_iso.shape\n",
    "\n",
    "    ## Cospectra tau - RV/DIV\n",
    "    cospec_rvTau,kx,ky,omega,dkx,dky,domega = cospec_ab(RV,tau,2,2,1)\n",
    "    ki,cospec_rv_iso = calc_ispec(cospec_rvTau,kx,ky,omega)\n",
    "    cospec_rv_iso.shape\n",
    "    cospec_divTau,kx,ky,omega,dkx,dky,domega = cospec_ab(DIV,tau,2,2,1)\n",
    "    ki,cospec_div_iso = calc_ispec(cospec_divTau,kx,ky,omega)\n",
    "    cospec_div_iso.shape\n",
    "\n",
    "    ## Cospectra rot(tau) - RV/DIV\n",
    "    cospec_rvRottau,kx,ky,omega,dkx,dky,domega = cospec_ab(RV,rotTau,2,2,1)\n",
    "    ki,cospec_rvRottau_iso = calc_ispec(cospec_rvRottau,kx,ky,omega)\n",
    "    cospec_rvRottau_iso.shape\n",
    "    cospec_divRottau,kx,ky,omega,dkx,dky,domega = cospec_ab(DIV,rotTau,2,2,1)\n",
    "    ki,cospec_divrotTau_iso = calc_ispec(cospec_divRottau,kx,ky,omega)\n",
    "    cospec_divrotTau_iso.shape\n",
    "\n",
    "    # Plot\n",
    "\n",
    "    ## Cospectra oceQnet - RV/DIV\n",
    "    plot_cospectra(ki, omega, co_qfluxRV_iso, \"oceQnet - RV - {}\".format(regionId), 1e-7)\n",
    "    plot_cospectra(ki, omega, co_qfluxDIV_iso, \"oceQnet - DIV - {}\".format(regionId), 1e-7)\n",
    "\n",
    "    ## Cospectra tau - RV/DIV\n",
    "    plot_cospectra(ki, omega, cospec_rv_iso, \"RV - |Tau| - {}\".format(regionId), 1e-10)\n",
    "    plot_cospectra(ki, omega, cospec_div_iso, \"DIV - |Tau| - {}\".format(regionId), 1e-10)\n",
    "\n",
    "    ## Cospectra rot(tau) - RV/DIV\n",
    "    plot_cospectra(ki, omega, cospec_rvRottau_iso, \"RV - rot(Tau) - {}\".format(regionId), 5e-14)\n",
    "    plot_cospectra(ki, omega, cospec_divrotTau_iso, \"DIV - rot(Tau) - {}\".format(regionId), 5e-14)"
   ]
  },
  {
   "cell_type": "code",
   "execution_count": 10,
   "metadata": {
    "collapsed": true,
    "execution": {
     "iopub.execute_input": "2020-11-19T08:09:17.959637Z",
     "iopub.status.busy": "2020-11-19T08:09:17.959308Z",
     "iopub.status.idle": "2020-11-19T08:21:21.580876Z",
     "shell.execute_reply": "2020-11-19T08:21:21.579940Z",
     "shell.execute_reply.started": "2020-11-19T08:09:17.959606Z"
    },
    "jupyter": {
     "outputs_hidden": true
    }
   },
   "outputs": [
    {
     "name": "stderr",
     "output_type": "stream",
     "text": [
      "2020-11-19 08:09:19 INFO     UV shape (k=0): (290, 289, 2184)\n",
      "2020-11-19 08:13:36 INFO     HF shape (k=0): (290, 289, 2184)\n",
      "2020-11-19 08:15:38 INFO     TAUxy shape (k=0): (290, 289, 2184)\n"
     ]
    },
    {
     "name": "stdout",
     "output_type": "stream",
     "text": [
      "before fftn\n",
      "290 289 2184\n",
      "before fftn\n",
      "290 289 2184\n",
      "before fftn\n",
      "290 289 2184\n",
      "before fftn\n",
      "290 289 2184\n",
      "before fftn\n",
      "290 289 2184\n",
      "before fftn\n",
      "290 289 2184\n"
     ]
    },
    {
     "data": {
      "application/vnd.jupyter.widget-view+json": {
       "model_id": "f54191e669324c599227a341770e1181",
       "version_major": 2,
       "version_minor": 0
      },
      "text/plain": [
       "Canvas(toolbar=Toolbar(toolitems=[('Home', 'Reset original view', 'home', 'home'), ('Back', 'Back to previous …"
      ]
     },
     "metadata": {},
     "output_type": "display_data"
    },
    {
     "data": {
      "application/vnd.jupyter.widget-view+json": {
       "model_id": "511828245d594dbbb4b91f2cea13e336",
       "version_major": 2,
       "version_minor": 0
      },
      "text/plain": [
       "Canvas(toolbar=Toolbar(toolitems=[('Home', 'Reset original view', 'home', 'home'), ('Back', 'Back to previous …"
      ]
     },
     "metadata": {},
     "output_type": "display_data"
    },
    {
     "data": {
      "application/vnd.jupyter.widget-view+json": {
       "model_id": "1a72063d283b48b7aaa1b4739d2b8b8e",
       "version_major": 2,
       "version_minor": 0
      },
      "text/plain": [
       "Canvas(toolbar=Toolbar(toolitems=[('Home', 'Reset original view', 'home', 'home'), ('Back', 'Back to previous …"
      ]
     },
     "metadata": {},
     "output_type": "display_data"
    },
    {
     "data": {
      "application/vnd.jupyter.widget-view+json": {
       "model_id": "d120e78598e54e469890357a7bb43b57",
       "version_major": 2,
       "version_minor": 0
      },
      "text/plain": [
       "Canvas(toolbar=Toolbar(toolitems=[('Home', 'Reset original view', 'home', 'home'), ('Back', 'Back to previous …"
      ]
     },
     "metadata": {},
     "output_type": "display_data"
    },
    {
     "data": {
      "application/vnd.jupyter.widget-view+json": {
       "model_id": "a4c903dc1f704269b79537d3bf64f0bd",
       "version_major": 2,
       "version_minor": 0
      },
      "text/plain": [
       "Canvas(toolbar=Toolbar(toolitems=[('Home', 'Reset original view', 'home', 'home'), ('Back', 'Back to previous …"
      ]
     },
     "metadata": {},
     "output_type": "display_data"
    },
    {
     "data": {
      "application/vnd.jupyter.widget-view+json": {
       "model_id": "7cd924ceebe1477fab369a47901c856c",
       "version_major": 2,
       "version_minor": 0
      },
      "text/plain": [
       "Canvas(toolbar=Toolbar(toolitems=[('Home', 'Reset original view', 'home', 'home'), ('Back', 'Back to previous …"
      ]
     },
     "metadata": {},
     "output_type": "display_data"
    }
   ],
   "source": [
    "plotRegion(730)"
   ]
  },
  {
   "cell_type": "code",
   "execution_count": 11,
   "metadata": {
    "collapsed": true,
    "execution": {
     "iopub.execute_input": "2020-11-19T08:21:21.595735Z",
     "iopub.status.busy": "2020-11-19T08:21:21.595502Z",
     "iopub.status.idle": "2020-11-19T08:33:29.258434Z",
     "shell.execute_reply": "2020-11-19T08:33:29.257399Z",
     "shell.execute_reply.started": "2020-11-19T08:21:21.595708Z"
    },
    "jupyter": {
     "outputs_hidden": true
    },
    "slideshow": {
     "slide_type": "slide"
    }
   },
   "outputs": [
    {
     "name": "stderr",
     "output_type": "stream",
     "text": [
      "2020-11-19 08:21:22 INFO     UV shape (k=0): (291, 289, 2184)\n",
      "2020-11-19 08:25:42 INFO     HF shape (k=0): (291, 289, 2184)\n",
      "2020-11-19 08:27:45 INFO     TAUxy shape (k=0): (291, 289, 2184)\n"
     ]
    },
    {
     "name": "stdout",
     "output_type": "stream",
     "text": [
      "before fftn\n",
      "291 289 2184\n",
      "before fftn\n",
      "291 289 2184\n",
      "before fftn\n",
      "291 289 2184\n",
      "before fftn\n",
      "291 289 2184\n",
      "before fftn\n",
      "291 289 2184\n",
      "before fftn\n",
      "291 289 2184\n"
     ]
    },
    {
     "data": {
      "application/vnd.jupyter.widget-view+json": {
       "model_id": "70b43ba19e2b436e8714b68d65fe0a03",
       "version_major": 2,
       "version_minor": 0
      },
      "text/plain": [
       "Canvas(toolbar=Toolbar(toolitems=[('Home', 'Reset original view', 'home', 'home'), ('Back', 'Back to previous …"
      ]
     },
     "metadata": {},
     "output_type": "display_data"
    },
    {
     "data": {
      "application/vnd.jupyter.widget-view+json": {
       "model_id": "2c410038b9184c3eb48603b8a0115dbe",
       "version_major": 2,
       "version_minor": 0
      },
      "text/plain": [
       "Canvas(toolbar=Toolbar(toolitems=[('Home', 'Reset original view', 'home', 'home'), ('Back', 'Back to previous …"
      ]
     },
     "metadata": {},
     "output_type": "display_data"
    },
    {
     "data": {
      "application/vnd.jupyter.widget-view+json": {
       "model_id": "d64c561af37d44779cb0079afd38fcc7",
       "version_major": 2,
       "version_minor": 0
      },
      "text/plain": [
       "Canvas(toolbar=Toolbar(toolitems=[('Home', 'Reset original view', 'home', 'home'), ('Back', 'Back to previous …"
      ]
     },
     "metadata": {},
     "output_type": "display_data"
    },
    {
     "data": {
      "application/vnd.jupyter.widget-view+json": {
       "model_id": "27fad65ef1b04f15bf151b57f8410c2c",
       "version_major": 2,
       "version_minor": 0
      },
      "text/plain": [
       "Canvas(toolbar=Toolbar(toolitems=[('Home', 'Reset original view', 'home', 'home'), ('Back', 'Back to previous …"
      ]
     },
     "metadata": {},
     "output_type": "display_data"
    },
    {
     "data": {
      "application/vnd.jupyter.widget-view+json": {
       "model_id": "c48de88d8de342fcb7d2100ac640fdb4",
       "version_major": 2,
       "version_minor": 0
      },
      "text/plain": [
       "Canvas(toolbar=Toolbar(toolitems=[('Home', 'Reset original view', 'home', 'home'), ('Back', 'Back to previous …"
      ]
     },
     "metadata": {},
     "output_type": "display_data"
    },
    {
     "data": {
      "application/vnd.jupyter.widget-view+json": {
       "model_id": "7255eae4fcb14162897f8febb89d8634",
       "version_major": 2,
       "version_minor": 0
      },
      "text/plain": [
       "Canvas(toolbar=Toolbar(toolitems=[('Home', 'Reset original view', 'home', 'home'), ('Back', 'Back to previous …"
      ]
     },
     "metadata": {},
     "output_type": "display_data"
    }
   ],
   "source": [
    "plotRegion(787)"
   ]
  },
  {
   "cell_type": "code",
   "execution_count": null,
   "metadata": {},
   "outputs": [],
   "source": []
  }
 ],
 "metadata": {
  "kernelspec": {
   "display_name": "Python 3",
   "language": "python",
   "name": "python3"
  },
  "language_info": {
   "codemirror_mode": {
    "name": "ipython",
    "version": 3
   },
   "file_extension": ".py",
   "mimetype": "text/x-python",
   "name": "python",
   "nbconvert_exporter": "python",
   "pygments_lexer": "ipython3",
   "version": "3.6.9"
  }
 },
 "nbformat": 4,
 "nbformat_minor": 4
}
