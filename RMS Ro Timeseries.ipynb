{
 "cells": [
  {
   "cell_type": "markdown",
   "metadata": {},
   "source": [
    "# Promedio RMS de $Ro = \\left|\\frac{\\zeta}{f}\\right|$ en función del tiempo"
   ]
  },
  {
   "cell_type": "code",
   "execution_count": 1,
   "metadata": {
    "ExecuteTime": {
     "end_time": "2020-05-04T05:24:43.967992Z",
     "start_time": "2020-05-04T05:24:43.963277Z"
    },
    "init_cell": true
   },
   "outputs": [],
   "source": [
    "import gc\n",
    "import warnings\n",
    "warnings.filterwarnings('ignore')"
   ]
  },
  {
   "cell_type": "code",
   "execution_count": 2,
   "metadata": {
    "ExecuteTime": {
     "end_time": "2020-05-04T05:24:44.753079Z",
     "start_time": "2020-05-04T05:24:43.971221Z"
    },
    "init_cell": true
   },
   "outputs": [],
   "source": [
    "import imageio\n",
    "import numpy as np\n",
    "from scipy import signal\n",
    "from pathlib import Path\n",
    "from itertools import product\n",
    "import matplotlib.pyplot as plt\n",
    "import matplotlib.colors as colors\n",
    "from xmitgcm import open_mdsdataset\n",
    "from datetime import date,datetime,timedelta"
   ]
  },
  {
   "cell_type": "code",
   "execution_count": 3,
   "metadata": {
    "ExecuteTime": {
     "end_time": "2020-05-04T05:24:50.849089Z",
     "start_time": "2020-05-04T05:24:44.755681Z"
    },
    "init_cell": true
   },
   "outputs": [],
   "source": [
    "from spectral_analysis.preprocess.common_vars import OUT_IMGS_FOLDER,MODEL_FOLDER,LUIGI_OUT_FOLDER\n",
    "from common_vars.time_slices import idx_t\n",
    "from common_vars.regions import ids_regions"
   ]
  },
  {
   "cell_type": "code",
   "execution_count": 4,
   "metadata": {
    "ExecuteTime": {
     "end_time": "2020-05-04T05:24:50.859461Z",
     "start_time": "2020-05-04T05:24:50.853087Z"
    },
    "init_cell": true
   },
   "outputs": [],
   "source": [
    "def fig2img(fig):\n",
    "    fig.canvas.draw()\n",
    "    image = np.frombuffer(fig.canvas.tostring_rgb(),dtype='uint8')\n",
    "    image  = image.reshape(fig.canvas.get_width_height()[::-1] + (3,))\n",
    "    return image"
   ]
  },
  {
   "cell_type": "code",
   "execution_count": 5,
   "metadata": {
    "ExecuteTime": {
     "end_time": "2020-05-04T05:24:50.864305Z",
     "start_time": "2020-05-04T05:24:50.861355Z"
    },
    "code_folding": [],
    "init_cell": true
   },
   "outputs": [],
   "source": [
    "def savefig(f,*args,**kvargs):\n",
    "    fig = f(*args,**kvargs)\n",
    "    image = fig2img(fig)\n",
    "    plt.close(fig=fig)\n",
    "    return image"
   ]
  },
  {
   "cell_type": "code",
   "execution_count": 6,
   "metadata": {
    "ExecuteTime": {
     "end_time": "2020-05-04T05:24:51.463870Z",
     "start_time": "2020-05-04T05:24:50.865801Z"
    },
    "init_cell": true
   },
   "outputs": [
    {
     "data": {
      "text/plain": [
       "<xarray.Dataset>\n",
       "Dimensions:  (face: 13, i: 2160, i_g: 2160, j: 2160, j_g: 2160, k: 90, k_l: 90, k_p1: 91, k_u: 90)\n",
       "Coordinates:\n",
       "  * i        (i) int64 0 1 2 3 4 5 6 7 ... 2153 2154 2155 2156 2157 2158 2159\n",
       "  * i_g      (i_g) int64 0 1 2 3 4 5 6 7 ... 2153 2154 2155 2156 2157 2158 2159\n",
       "  * j        (j) int64 0 1 2 3 4 5 6 7 ... 2153 2154 2155 2156 2157 2158 2159\n",
       "  * j_g      (j_g) int64 0 1 2 3 4 5 6 7 ... 2153 2154 2155 2156 2157 2158 2159\n",
       "  * k        (k) int64 0 1 2 3 4 5 6 7 8 9 10 ... 80 81 82 83 84 85 86 87 88 89\n",
       "  * k_u      (k_u) int64 0 1 2 3 4 5 6 7 8 9 ... 80 81 82 83 84 85 86 87 88 89\n",
       "  * k_l      (k_l) int64 0 1 2 3 4 5 6 7 8 9 ... 80 81 82 83 84 85 86 87 88 89\n",
       "  * k_p1     (k_p1) int64 0 1 2 3 4 5 6 7 8 9 ... 81 82 83 84 85 86 87 88 89 90\n",
       "  * face     (face) int64 0 1 2 3 4 5 6 7 8 9 10 11 12\n",
       "    XC       (face, j, i) >f4 dask.array<chunksize=(1, 2160, 2160), meta=np.ndarray>\n",
       "    YC       (face, j, i) >f4 dask.array<chunksize=(1, 2160, 2160), meta=np.ndarray>\n",
       "    XG       (face, j_g, i_g) >f4 dask.array<chunksize=(1, 2160, 2160), meta=np.ndarray>\n",
       "    YG       (face, j_g, i_g) >f4 dask.array<chunksize=(1, 2160, 2160), meta=np.ndarray>\n",
       "    CS       (face, j, i) >f4 dask.array<chunksize=(1, 2160, 2160), meta=np.ndarray>\n",
       "    SN       (face, j, i) >f4 dask.array<chunksize=(1, 2160, 2160), meta=np.ndarray>\n",
       "    Z        (k) >f4 -0.5 -1.57 -2.79 -4.185 ... -5881.88 -6301.185 -6760.17\n",
       "    Zp1      (k_p1) >f4 0.0 -1.0 -2.14 -3.44 ... -6082.07 -6520.3 -7000.04\n",
       "    Zu       (k_u) >f4 -1.0 -2.14 -3.44 -4.93 ... -6082.07 -6520.3 -7000.04\n",
       "    Zl       (k_l) >f4 0.0 -1.0 -2.14 -3.44 ... -5681.69 -6082.07 -6520.3\n",
       "    rA       (face, j, i) >f4 dask.array<chunksize=(1, 2160, 2160), meta=np.ndarray>\n",
       "    dxG      (face, j_g, i) >f4 dask.array<chunksize=(1, 2160, 2160), meta=np.ndarray>\n",
       "    dyG      (face, j, i_g) >f4 dask.array<chunksize=(1, 2160, 2160), meta=np.ndarray>\n",
       "    Depth    (face, j, i) >f4 dask.array<chunksize=(1, 2160, 2160), meta=np.ndarray>\n",
       "    rAz      (face, j_g, i_g) >f4 dask.array<chunksize=(1, 2160, 2160), meta=np.ndarray>\n",
       "    dxC      (face, j, i_g) >f4 dask.array<chunksize=(1, 2160, 2160), meta=np.ndarray>\n",
       "    dyC      (face, j_g, i) >f4 dask.array<chunksize=(1, 2160, 2160), meta=np.ndarray>\n",
       "    rAw      (face, j, i_g) >f4 dask.array<chunksize=(1, 2160, 2160), meta=np.ndarray>\n",
       "    rAs      (face, j_g, i) >f4 dask.array<chunksize=(1, 2160, 2160), meta=np.ndarray>\n",
       "    drC      (k_p1) >f4 0.5 1.07 1.22 1.395 ... 383.155 419.305 458.985 239.87\n",
       "    drF      (k) >f4 1.0 1.14 1.3 1.49 1.7 ... 365.93 400.38 438.23 479.74\n",
       "    PHrefC   (k) >f4 4.905 15.4017 27.3699 ... 57701.242 61814.625 66317.266\n",
       "    PHrefF   (k_p1) >f4 0.0 9.81 20.9934 ... 59665.105 63964.145 68670.39\n",
       "    hFacC    (k, face, j, i) >f4 dask.array<chunksize=(1, 1, 2160, 2160), meta=np.ndarray>\n",
       "    hFacW    (k, face, j, i_g) >f4 dask.array<chunksize=(1, 1, 2160, 2160), meta=np.ndarray>\n",
       "    hFacS    (k, face, j_g, i) >f4 dask.array<chunksize=(1, 1, 2160, 2160), meta=np.ndarray>\n",
       "    maskC    (k, face, j, i) bool dask.array<chunksize=(1, 1, 2160, 2160), meta=np.ndarray>\n",
       "    maskW    (k, face, j, i_g) bool dask.array<chunksize=(1, 1, 2160, 2160), meta=np.ndarray>\n",
       "    maskS    (k, face, j_g, i) bool dask.array<chunksize=(1, 1, 2160, 2160), meta=np.ndarray>\n",
       "Data variables:\n",
       "    *empty*\n",
       "Attributes:\n",
       "    Conventions:  CF-1.6\n",
       "    title:        netCDF wrapper of MITgcm MDS binary data\n",
       "    source:       MITgcm\n",
       "    history:      Created by calling `open_mdsdataset(extra_metadata=None, ll..."
      ]
     },
     "execution_count": 6,
     "metadata": {},
     "output_type": "execute_result"
    }
   ],
   "source": [
    "grid_ds = open_mdsdataset(MODEL_FOLDER+'/LLC2160/grid/', read_grid=True, iters=None, default_dtype=np.float32, geometry='llc')\n",
    "grid_ds"
   ]
  },
  {
   "cell_type": "code",
   "execution_count": null,
   "metadata": {
    "ExecuteTime": {
     "start_time": "2020-05-04T04:39:24.460Z"
    }
   },
   "outputs": [],
   "source": [
    "LON_ = grid_ds.XG.values\n",
    "LAT_ = grid_ds.YG.values\n",
    "DEPTH_ = grid_ds.Depth.values"
   ]
  },
  {
   "cell_type": "code",
   "execution_count": 7,
   "metadata": {
    "ExecuteTime": {
     "end_time": "2020-05-04T05:24:51.469418Z",
     "start_time": "2020-05-04T05:24:51.465287Z"
    },
    "init_cell": true
   },
   "outputs": [],
   "source": [
    "uv_fname_fmt_days = LUIGI_OUT_FOLDER+\"/Datasets/{0}/days/{1}0_{2:05d}.txt\"\n",
    "uv_fname_fmt_hours = LUIGI_OUT_FOLDER+\"/Datasets_compressed/{0}/hours/{1}0_{2:05d}.npz\"\n",
    "def uv4idt(region_id,t_idx,t_res=\"days\"):\n",
    "\tif t_res==\"days\":\n",
    "\t\tU_ = np.loadtxt(uv_fname_fmt_days.format(region_id,\"U\",t_idx))\n",
    "\t\tV_ = np.loadtxt(uv_fname_fmt_days.format(region_id,\"V\",t_idx))\n",
    "\telse:\n",
    "\t\tU_ = np.load(uv_fname_fmt_hours.format(region_id,\"U\",t_idx))[\"uv\"]\n",
    "\t\tV_ = np.load(uv_fname_fmt_hours.format(region_id,\"V\",t_idx))[\"uv\"]\n",
    "\treturn U_,V_"
   ]
  },
  {
   "cell_type": "code",
   "execution_count": 8,
   "metadata": {
    "ExecuteTime": {
     "end_time": "2020-05-04T05:24:51.475636Z",
     "start_time": "2020-05-04T05:24:51.470955Z"
    },
    "init_cell": true
   },
   "outputs": [],
   "source": [
    "def UV4id(id,season,t_res=\"days\",t_firstaxis=False):\n",
    "\ttime = idx_t[t_res][season]\n",
    "\t\n",
    "\tfor idx,t in enumerate(time):\n",
    "\t\tU_,V_ = uv4idt(id,t,t_res)\n",
    "\t\tif idx==0:\n",
    "\t\t\t#print(id,t)\n",
    "\t\t\tshape_uv = U_.shape\n",
    "\t\t\t#print(\"UV shape\",shape_uv)\n",
    "\t\t\tshape = (shape_uv[0],shape_uv[1],len(time))\n",
    "\t\t\tU = np.zeros(shape)\n",
    "\t\t\tV = np.zeros(shape)\n",
    "\t\tU[:,:,idx] = U_\n",
    "\t\tV[:,:,idx] = V_\n",
    "\n",
    "\tif t_firstaxis:\n",
    "\t\tU = np.moveaxis(U,-1,0)\n",
    "\t\tV = np.moveaxis(V,-1,0)\n",
    "\n",
    "\treturn U,V"
   ]
  },
  {
   "cell_type": "code",
   "execution_count": 9,
   "metadata": {
    "ExecuteTime": {
     "end_time": "2020-05-04T05:24:51.480910Z",
     "start_time": "2020-05-04T05:24:51.477001Z"
    },
    "init_cell": true
   },
   "outputs": [],
   "source": [
    "dxdy_fname_fmt = LUIGI_OUT_FOLDER+\"/Datasets/{}/days/{}.txt\"\n",
    "def dxdyf4id(region_id):\n",
    "    dx_ = np.loadtxt(dxdy_fname_fmt.format(region_id,\"dx\"))\n",
    "    dy_ = np.loadtxt(dxdy_fname_fmt.format(region_id,\"dy\"))\n",
    "    f_ = np.loadtxt(dxdy_fname_fmt.format(region_id,\"f\"))\n",
    "    \n",
    "    return dx_,dy_,f_\n",
    "\n",
    "def lonlat4id(region_id):\n",
    "    lon = np.loadtxt(dxdy_fname_fmt.format(region_id,\"lon\"))\n",
    "    lat = np.loadtxt(dxdy_fname_fmt.format(region_id,\"lat\"))\n",
    "    return lon,lat"
   ]
  },
  {
   "cell_type": "code",
   "execution_count": 10,
   "metadata": {
    "ExecuteTime": {
     "end_time": "2020-05-04T05:24:51.485140Z",
     "start_time": "2020-05-04T05:24:51.482296Z"
    },
    "init_cell": true
   },
   "outputs": [],
   "source": [
    "def rv_(u,v,dx,dy):\n",
    "    return (np.gradient(v,axis=-1,edge_order=2)/dx) - (np.gradient(u,axis=-2,edge_order=2)/dy)"
   ]
  },
  {
   "cell_type": "code",
   "execution_count": 11,
   "metadata": {
    "ExecuteTime": {
     "end_time": "2020-05-04T05:24:51.492989Z",
     "start_time": "2020-05-04T05:24:51.486593Z"
    },
    "code_folding": [],
    "init_cell": true
   },
   "outputs": [],
   "source": [
    "def getBathymetry(area_box):\n",
    "    print(\"Bathymetry for box\",area_box)\n",
    "    min_lon,max_lon,min_lat,max_lat = area_box\n",
    "    mask_lonlat_f = np.where((LON_>=min_lon) & (LON_<=max_lon) & (LAT_>=min_lat) & (LAT_<=max_lat))\n",
    "    faces = set(mask_lonlat_f[0])\n",
    "    print(\"faces\",faces)\n",
    "    LON_area = [None]*len(faces)\n",
    "    LAT_area = [None]*len(faces)\n",
    "    DEPTH_area = [None]*len(faces)\n",
    "    for i,face in enumerate(faces):\n",
    "        LON_f = LON_[face,:,:]\n",
    "        LAT_f = LAT_[face,:,:]\n",
    "        mask_lonlat = np.where((LON_f>=min_lon) & (LON_f<=max_lon) & (LAT_f>=min_lat) & (LAT_f<=max_lat))\n",
    "        min_i,max_i = min(mask_lonlat[0]),max(mask_lonlat[0])\n",
    "        min_j,max_j = min(mask_lonlat[1]),max(mask_lonlat[1])\n",
    "        print(face,min_i,max_i,min_j,max_j)\n",
    "        LON_area[i] = LON_f[min_i:max_i,min_j:max_j]\n",
    "        LAT_area[i] = LAT_f[min_i:max_i,min_j:max_j]\n",
    "        DEPTH_area[i] = DEPTH_[face,min_i:max_i,min_j:max_j]\n",
    "    return LON_area,LAT_area,DEPTH_area"
   ]
  },
  {
   "cell_type": "code",
   "execution_count": 12,
   "metadata": {
    "ExecuteTime": {
     "end_time": "2020-05-04T05:24:51.500301Z",
     "start_time": "2020-05-04T05:24:51.496450Z"
    },
    "init_cell": true
   },
   "outputs": [],
   "source": [
    "def plotBathymetry(area_box):\n",
    "    LON,LAT,DEPTH = getBathymetry(area_box)\n",
    "    print(\"depth len\",len(DEPTH))\n",
    "    for i in range(len(DEPTH)):\n",
    "        LON_f = LON[i]\n",
    "        LAT_f = LAT[i]\n",
    "        DEPTH_f = DEPTH[i]\n",
    "        print(LON_f.shape,LAT_f.shape,DEPTH_f.shape)\n",
    "        #plt.pcolormesh(LON_f,LAT_f,DEPTH_f,cmap=plt.cm.Pastel1,norm=norm_bath)\n",
    "        cs = plt.contour(LON_f,LAT_f,DEPTH_f,levels=[0,200,1000],cmap=plt.cm.Greys_r,extend=\"max\",zorder=0)\n",
    "        plt.clabel(cs, inline=True, fontsize='large',fmt=\"%d\")"
   ]
  },
  {
   "cell_type": "code",
   "execution_count": 13,
   "metadata": {
    "ExecuteTime": {
     "end_time": "2020-05-04T05:24:51.511526Z",
     "start_time": "2020-05-04T05:24:51.502005Z"
    },
    "code_folding": [],
    "init_cell": true
   },
   "outputs": [],
   "source": [
    "margin = 6\n",
    "firstday = datetime(2012,1,1)\n",
    "\n",
    "def plot_ro_region_t(current,t_idx,t_vec,t_res=\"days\",norm=False,absolute=False):\n",
    "\trv_range = 1 if norm else 0.8\n",
    "\trv_type = \"Normalized \" if norm else \"\"\n",
    "\to_fmt = \"\" if norm else \" $[10^{-4} s^{-1}]$\"\n",
    "\tdt_days = 1 if t_res==\"days\" else 24\n",
    "\tdivnorm_ro = colors.DivergingNorm(vmin=-rv_range, vcenter=0, vmax=rv_range)\n",
    "\t\n",
    "\t#fig, ax = plt.subplots(1,2,figsize=(20,10))\n",
    "\tfig = plt.figure(figsize=(10,10))\n",
    "\t#ax = ax.flat[:]\n",
    "\tt_ = t_vec[t_idx]\n",
    "\tt__ = t_ - idx_t[t_res][\"JFM\"][0]\n",
    "\tt_delta = timedelta(hours=t__) if t_res==\"hours\" else timedelta(days=t__)\n",
    "\tt_label = (firstday + t_delta).date()\n",
    "\t#t_label = [t__-idx_t[t_res][\"JFM\"][0]+1 for t__ in t_vec]\n",
    "\tprint(t_idx+1,\"/\",len(t_vec))\n",
    "\tlon_min,lat_min,lon_max,lat_max = (180,90,-180,-90)\n",
    "\n",
    "\tfor r_id in ids_regions[current]:\n",
    "\t\t#Ro_vec = Ro_dict[r_id]\n",
    "\t\tprint(\"U,V for {} ({})\".format(r_id,t_res))\n",
    "\t\tU,V = uv4idt(r_id,t_,t_res)\n",
    "\t\tDX,DY,F = dxdyf4id(r_id)\n",
    "\t\tnorm_rv = F if norm else 1e-4\n",
    "\t\trv_sum = F if absolute else 0\n",
    "\t\tRo = (rv_(U,V,DX,DY)+rv_sum)/norm_rv\n",
    "\t\t#Ro_vec[t_idx] = np.sqrt(np.mean(Ro**2))\n",
    "\t\tLON,LAT = lonlat4id(r_id)\n",
    "\t\tlon_min = min(lon_min,np.min(LON))\n",
    "\t\tlat_min = min(lat_min,np.min(LAT))\n",
    "\t\tlon_max = max(lon_max,np.max(LON))\n",
    "\t\tlat_max = max(lat_max,np.max(LAT))\n",
    "\t\t#plt.sca(ax[0])\n",
    "\t\tplt.pcolormesh(LON,LAT,Ro,norm=divnorm_ro,cmap=plt.cm.RdBu,zorder=10)\n",
    "\t\t#plt.sca(ax[1])\n",
    "\t\t#plt.plot(t_label,Ro_vec,label=\"{0:d} @ {1:0.1f},{2:0.1f}\".format(r_id,np.mean(LON),np.mean(LAT)))\n",
    "\t#plt.sca(ax[0])\n",
    "\tplt.colorbar()\n",
    "\tbox = (lon_min,lon_max+margin,lat_min,lat_max)\n",
    "\tplotBathymetry(box)\n",
    "\tplt.xlabel(\"Longitude\",fontsize='large')\n",
    "\tplt.ylabel(\"Latitude\",fontsize='large')\n",
    "\tplt.title(t_label,fontsize='x-large')\n",
    "\t#plt.sca(ax[1])\n",
    "\t#plt.xlim([t_label[0],t_label[-1]])\n",
    "\t#plt.xlabel(\"Year{}\".format(t_res),fontsize='large')\n",
    "\t#plt.ylabel(\"RMS(Ro)\",fontsize='large')\n",
    "\t#plt.title(\"RMS(Ro) by region - {}\".format(current),fontsize='x-large')\n",
    "\t#plt.legend()\n",
    "\tplt.axis(\"equal\")\n",
    "\n",
    "\tfig.suptitle(\"{}Relative Vorticity{}\".format(rv_type,o_fmt),fontsize='xx-large')\n",
    "\treturn fig#,ax"
   ]
  },
  {
   "cell_type": "code",
   "execution_count": null,
   "metadata": {
    "ExecuteTime": {
     "end_time": "2020-05-04T04:55:44.987988Z",
     "start_time": "2020-05-04T04:55:44.955518Z"
    },
    "scrolled": true
   },
   "outputs": [],
   "source": [
    "t_r = \"days\"\n",
    "fps = 3 if t_r == \"days\" else 6\n",
    "for current,ids in ids_regions.items():\n",
    "\tif current==\"California\":\n",
    "\t\tfor season in [\"ASO\",\"JFM\"]:\n",
    "\t\t\ttimes = idx_t[t_r][season]\n",
    "\t\t\tn_times = len(times)\n",
    "\t\t\t#o_d = {r_id:[None]*n_times for r_id in ids}\n",
    "\t\t\tprint(current,season)\n",
    "\t\t\tfname_gif = '{}/rms_ro_all_{}_{}.gif'.format(OUT_IMGS_FOLDER,current,season)\n",
    "\t\t\tPath(fname_gif).parent.mkdir(parents=True, exist_ok=True)\n",
    "\t\t\timageio.mimsave(fname_gif, \n",
    "\t\t\t\t\t\t\t(savefig(plot_ro_region_t,current,idx_t,times,t_r,norm=False,absolute=False) for idx_t in range(n_times)), \n",
    "\t\t\t\t\t\t\t fps=fps,loop=10)\n",
    "\t\t\tprint(\"Saved!\",fname_gif)\n",
    "\t\tgc.collect()"
   ]
  },
  {
   "cell_type": "markdown",
   "metadata": {},
   "source": [
    "## Graficando RMS(Ro)"
   ]
  },
  {
   "cell_type": "code",
   "execution_count": 14,
   "metadata": {
    "ExecuteTime": {
     "end_time": "2020-05-04T05:24:51.516508Z",
     "start_time": "2020-05-04T05:24:51.512885Z"
    },
    "init_cell": true
   },
   "outputs": [],
   "source": [
    "def getRoRms(r_id,season,t_res=\"days\",norm=False,absolute=False):\n",
    "\tU,V = UV4id(r_id,season,t_res=t_res,t_firstaxis=True)\n",
    "\tDX,DY,F = dxdyf4id(r_id)\n",
    "\tnorm_rv = F if norm else 1e-4\n",
    "\tsum_rv = F if absolute else 0\n",
    "\tRo = (rv_(U,V,DX,DY)+sum_rv)/norm_rv\n",
    "\t#return np.sqrt(np.mean(Ro**2,axis=(1,2)))\n",
    "\treturn np.std(Ro,axis=(1,2))"
   ]
  },
  {
   "cell_type": "code",
   "execution_count": 15,
   "metadata": {
    "ExecuteTime": {
     "end_time": "2020-05-04T05:24:51.531176Z",
     "start_time": "2020-05-04T05:24:51.517901Z"
    },
    "code_folding": [
     2
    ],
    "init_cell": true
   },
   "outputs": [],
   "source": [
    "prop_cycle = plt.rcParams['axes.prop_cycle']\n",
    "\n",
    "def roRmsByCurrent(current,season,t_res=\"days\",norm=True,absolute=False):\n",
    "\ttimes = np.array(idx_t[t_res][season])\n",
    "\tn_times = len(times)\n",
    "\tn_ids = len(ids_regions[current])\n",
    "\tallRoRms = [getRoRms(r_id,season,t_res,norm,absolute) for r_id in ids_regions[current]]\n",
    "\tcolors = prop_cycle.by_key()['color']\n",
    "\tvar = \"Ro\" if norm else \"RV\"\n",
    "\to_fmt = \"\" if norm else \"\\n$[10^{-4} s^{-1}]$\"\n",
    "\t\n",
    "\tif t_res==\"days\":\n",
    "\t\tf_ticks_lab = [2,7,15,21,30,40]\n",
    "\t\tday_dt = 1\n",
    "\telse:\n",
    "\t\tf_ticks_lab = [h/24 for h in [6,12,24,7*24,15*24,30*24]]\n",
    "\t\tday_dt = 24\n",
    "\t\t\n",
    "\tt_label = [(t__-idx_t[t_res][\"JFM\"][0]+1)/day_dt for t__ in times]\n",
    "\tf = np.fft.rfftfreq(n_times,1) # T=1 {t_days}: intervalo de muestreo\n",
    "\t\t\n",
    "\tf_ticks = [1/(24*D) for D in f_ticks_lab]\n",
    "\tfig = plt.figure(figsize=(12,8),constrained_layout=True)\n",
    "\tgs = fig.add_gridspec(n_ids,2)\n",
    "\t\n",
    "\taxT = []\n",
    "\taxF = []\n",
    "\tmaxY_t = 0\n",
    "\tminY_t = 1\n",
    "\tmaxY_f = 0\n",
    "\tfor i,r_id,ro_rms in zip(range(n_ids),ids_regions[current],allRoRms):\n",
    "\t\t_,LAT = lonlat4id(r_id)\n",
    "\t\tlat = np.median(LAT)\n",
    "\t\tlbl = \"{0} @ {1:0.1f}\".format(r_id,lat)\n",
    "\t\tcolor = colors[i]\n",
    "\t\t#print(\"color\",color)\n",
    "\t\t# Time domain\n",
    "\t\tax0 = fig.add_subplot(gs[i,0])\n",
    "\t\taxT.append(ax0)\n",
    "\t\tplt.sca(ax0)\n",
    "\t\tmaxY_t = max(maxY_t,np.max(ro_rms))\n",
    "\t\tminY_t = min(minY_t,np.min(ro_rms))\n",
    "\t\tplt.plot(t_label,ro_rms,label=lbl,color=color)\n",
    "\t\tplt.ylabel(\"Std({}){}\".format(var,o_fmt),size=\"x-large\")\n",
    "\t\t# Frequency domain\n",
    "\t\tax1 = fig.add_subplot(gs[i,1])\n",
    "\t\taxF.append(ax1)\n",
    "\t\tplt.sca(ax1)\n",
    "\t\tro_rms_det = signal.detrend(ro_rms,type='linear')\n",
    "\t\trorms_f = np.abs(np.fft.rfft(ro_rms_det))\n",
    "\t\tmaxY_f = max(maxY_f,np.max(rorms_f))\n",
    "\t\tplt.loglog(f,rorms_f,label=r_id,color=color)\n",
    "\t\tplt.xticks(ticks=f_ticks,labels=f_ticks_lab,size=\"large\")\n",
    "\t\tprint(r_id,minY_t,maxY_t,maxY_f)\n",
    "\t\tif i==n_ids-1:\n",
    "\t\t\tax0.set_xlabel(\"Yeardays\",size=\"x-large\")\n",
    "\t\t\tax1.set_xlabel(\"Period in days\",size=\"x-large\")\n",
    "\t\tif i==0:\n",
    "\t\t\tax0.set_title(\"Time domain\\n\"+lbl)\n",
    "\t\t\tax1.set_title(\"FFT \\n\"+lbl)\n",
    "\t\telse:\n",
    "\t\t\tax0.set_title(lbl)\n",
    "\t\t\tax1.set_title(lbl)\n",
    "\tplt.suptitle(\"{} / {}\".format(current,season),size=\"xx-large\")\n",
    "\tfor axt,axf in zip(axT,axF):\n",
    "\t\taxt.set_ylim([minY_t,maxY_t])\n",
    "\t\taxf.set_ylim([1e-1,maxY_f])\n",
    "\tplt.show()\t#print(\"Box\",box)"
   ]
  },
  {
   "cell_type": "code",
   "execution_count": null,
   "metadata": {
    "ExecuteTime": {
     "end_time": "2020-05-04T04:55:44.991195Z",
     "start_time": "2020-05-04T04:55:44.773Z"
    },
    "code_folding": [],
    "scrolled": false
   },
   "outputs": [],
   "source": [
    "for current,season in product(ids_regions.keys(),[\"JFM\",\"ASO\"]):\n",
    "\tprint(current,season)\n",
    "\troRmsByCurrent(current,season,\"hours\")"
   ]
  },
  {
   "cell_type": "markdown",
   "metadata": {},
   "source": [
    "### * Extra: Creando animación de RV para una región cualquiera"
   ]
  },
  {
   "cell_type": "code",
   "execution_count": 18,
   "metadata": {
    "ExecuteTime": {
     "end_time": "2020-05-04T05:02:55.440390Z",
     "start_time": "2020-05-04T05:02:55.424251Z"
    }
   },
   "outputs": [],
   "source": [
    "def plot_rv(rv,lon,lat):\n",
    "\tstd = np.std(rv)\n",
    "\tdivnorm_rv = colors.DivergingNorm(vmin=-1, vcenter=0, vmax=1)\n",
    "\tfig = plt.figure(figsize=(10,10))\n",
    "\tplt.pcolor(lon,lat,rv,norm=divnorm_rv,cmap=plt.cm.RdBu)\n",
    "\tplt.title(\"std(RV)={0:0.3f}\".format(std),size=\"xx-large\")\n",
    "\treturn fig\n",
    "\n",
    "def anim_rv(r_id,season):\n",
    "\tLON,LAT = lonlat4id(r_id)\n",
    "\tU,V = UV4id(r_id,season,t_res=\"days\",t_firstaxis=True)\n",
    "\tDX,DY,F = dxdyf4id(r_id)\n",
    "\tnt,_,_ = U.shape\n",
    "\trv_norm = rv_(U,V,DX,DY)/F\n",
    "\t#\n",
    "\tfname_gif = '{}/rv_{}_{}.gif'.format(OUT_IMGS_FOLDER,r_id,season)\n",
    "\tPath(fname_gif).parent.mkdir(parents=True, exist_ok=True)\n",
    "\timageio.mimsave(fname_gif, \n",
    "\t\t\t\t\t(savefig(plot_rv,rv_norm[i,:,:],LON,LAT) for i in range(nt)), \n",
    "\t\t\t\t\t fps=3,loop=10)\n",
    "\tprint(\"Saved!\",fname_gif)"
   ]
  },
  {
   "cell_type": "code",
   "execution_count": 19,
   "metadata": {
    "ExecuteTime": {
     "end_time": "2020-05-04T05:05:42.962186Z",
     "start_time": "2020-05-04T05:02:56.289180Z"
    }
   },
   "outputs": [
    {
     "name": "stdout",
     "output_type": "stream",
     "text": [
      "Saved! /home/antonio/GoogleDrive/Tesis/data/output_images/rv_730_JFM.gif\n"
     ]
    }
   ],
   "source": [
    "anim_rv(730,'JFM')"
   ]
  },
  {
   "cell_type": "code",
   "execution_count": null,
   "metadata": {},
   "outputs": [],
   "source": []
  }
 ],
 "metadata": {
  "celltoolbar": "Initialization Cell",
  "kernelspec": {
   "display_name": "LLC",
   "language": "python",
   "name": "llc"
  },
  "language_info": {
   "codemirror_mode": {
    "name": "ipython",
    "version": 3
   },
   "file_extension": ".py",
   "mimetype": "text/x-python",
   "name": "python",
   "nbconvert_exporter": "python",
   "pygments_lexer": "ipython3",
   "version": "3.6.9"
  },
  "latex_envs": {
   "LaTeX_envs_menu_present": true,
   "autoclose": true,
   "autocomplete": true,
   "bibliofile": "biblio.bib",
   "cite_by": "apalike",
   "current_citInitial": 1,
   "eqLabelWithNumbers": true,
   "eqNumInitial": 1,
   "hotkeys": {
    "equation": "Ctrl-E",
    "itemize": "Ctrl-I"
   },
   "labels_anchors": false,
   "latex_user_defs": false,
   "report_style_numbering": false,
   "user_envs_cfg": false
  },
  "varInspector": {
   "cols": {
    "lenName": 16,
    "lenType": 16,
    "lenVar": 40
   },
   "kernels_config": {
    "python": {
     "delete_cmd_postfix": "",
     "delete_cmd_prefix": "del ",
     "library": "var_list.py",
     "varRefreshCmd": "print(var_dic_list())"
    },
    "r": {
     "delete_cmd_postfix": ") ",
     "delete_cmd_prefix": "rm(",
     "library": "var_list.r",
     "varRefreshCmd": "cat(var_dic_list()) "
    }
   },
   "types_to_exclude": [
    "module",
    "function",
    "builtin_function_or_method",
    "instance",
    "_Feature"
   ],
   "window_display": false
  }
 },
 "nbformat": 4,
 "nbformat_minor": 2
}
